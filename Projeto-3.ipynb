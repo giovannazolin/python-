{
 "cells": [
  {
   "cell_type": "markdown",
   "metadata": {},
   "source": [
    "# Project\t3:\tNetwork\tmodels"
   ]
  },
  {
   "cell_type": "markdown",
   "metadata": {},
   "source": [
    "1 - OK \n",
    "\n",
    "2 - OK\n",
    "                                           \n",
    "3 - OK \n",
    "\n",
    "4 - OK\n",
    "\n",
    "5 - Não sei o que ele quer dizer com fazer o PCA, não entendi o exercício."
   ]
  },
  {
   "cell_type": "markdown",
   "metadata": {},
   "source": [
    "Giovanna Zolin Pinheiro Hayasida - n: 9762848 "
   ]
  },
  {
   "cell_type": "markdown",
   "metadata": {},
   "source": [
    "Luna Wagner Cunha - n: 9762831"
   ]
  },
  {
   "cell_type": "code",
   "execution_count": 1,
   "metadata": {},
   "outputs": [],
   "source": [
    "#Pacotes \n",
    "import networkx as nx \n",
    "import matplotlib.pyplot as plt\n",
    "from numpy  import *\n",
    "import numpy as np\n",
    "import pandas as pd\n",
    "import seaborn as sns\n",
    "import scipy.stats as ss\n",
    "\n",
    "from scipy.linalg import expm\n",
    "from scipy.sparse import csr_matrix, issparse\n",
    "from scipy import stats\n",
    "import collections\n",
    "from scipy.stats import moment\n",
    "\n",
    "from networkx.algorithms.community import LFR_benchmark_graph\n",
    "from sklearn.metrics import mutual_info_score\n",
    "from community import community_louvain\n",
    "from networkx.algorithms import community\n",
    "from community import community_louvain\n",
    "import networkx.algorithms.community as nx_comm\n",
    "\n",
    "from sklearn.preprocessing import MinMaxScaler\n",
    "from sklearn.decomposition import PCA"
   ]
  },
  {
   "cell_type": "markdown",
   "metadata": {},
   "source": [
    "# Exercício 1"
   ]
  },
  {
   "cell_type": "code",
   "execution_count": 2,
   "metadata": {},
   "outputs": [],
   "source": [
    "def degree_distribution(GER):\n",
    "    vk = dict(GER.degree())\n",
    "    vk = list(vk.values()) # we get only the degree values\n",
    "    maxk = np.max(vk)\n",
    "    mink = np.min(min)\n",
    "    kvalues= arange(0,maxk+1) # possible values of k\n",
    "    Pk = np.zeros(maxk+1) # P(k)\n",
    "    for k in vk:\n",
    "        Pk[k] = Pk[k] + 1\n",
    "    Pk = Pk/sum(Pk) # the sum of the elements of P(k) must to be equal to one\n",
    "    return kvalues,Pk\n",
    "\n",
    "def momment_of_degree_distribution(G,m):\n",
    "    k,Pk = degree_distribution(G)\n",
    "    M = sum((k**m)*Pk)\n",
    "    return M"
   ]
  },
  {
   "cell_type": "code",
   "execution_count": 3,
   "metadata": {},
   "outputs": [],
   "source": [
    "def calcula_medidas(G):\n",
    "    # Number of nodes\n",
    "    number_nodes = len(G)\n",
    "    \n",
    "    # Average Degree\n",
    "    vk = dict(G.degree())\n",
    "    vk = list(vk.values())\n",
    "    vk = np.array(vk)\n",
    "    md = mean(vk)\n",
    "    \n",
    "    # Second momment\n",
    "    k2 = momment_of_degree_distribution(G,2)\n",
    "    \n",
    "    # Average Shortest Path\n",
    "    if nx.is_connected(G) == True:\n",
    "        l = nx.average_shortest_path_length(G)\n",
    "    else:\n",
    "        Gcc=sorted(nx.connected_component_subgraphs(G), key = len, reverse=True)\n",
    "        G_1=Gcc[0]\n",
    "        print('We will use only the largest component')\n",
    "        l = nx.average_shortest_path_length(G_1)\n",
    "    \n",
    "    # Average Clustering\n",
    "    avc = nx.average_clustering(G)\n",
    "    \n",
    "    # Transitivity\n",
    "    CC = (nx.transitivity(G)) \n",
    "    \n",
    "    # Assortativity Coefficient\n",
    "    r=nx.degree_assortativity_coefficient(G)\n",
    "\n",
    "    results  = [number_nodes, md, k2, l, avc, CC, r]\n",
    "    return results\n"
   ]
  },
  {
   "cell_type": "code",
   "execution_count": 4,
   "metadata": {},
   "outputs": [],
   "source": [
    "measures = ['stats','nodes', 'average_degree', 'second_momment','av_shortest_path','av_cluster_coef','transitivity','assort_coef']"
   ]
  },
  {
   "cell_type": "code",
   "execution_count": 5,
   "metadata": {},
   "outputs": [
    {
     "name": "stdout",
     "output_type": "stream",
     "text": [
      "We will use only the largest component\n",
      "stats                means_GER\n",
      "nodes                     1000\n",
      "average_degree         9.99267\n",
      "second_momment         109.745\n",
      "av_shortest_path       3.25791\n",
      "av_cluster_coef      0.0100226\n",
      "transitivity          0.010068\n",
      "assort_coef        -0.00207394\n",
      "dtype: object\n",
      "stats                   std_GER\n",
      "nodes                         0\n",
      "average_degree         0.126566\n",
      "second_momment          2.71485\n",
      "av_shortest_path      0.0165101\n",
      "av_cluster_coef      0.00100463\n",
      "transitivity        0.000840609\n",
      "assort_coef           0.0133937\n",
      "dtype: object\n"
     ]
    }
   ],
   "source": [
    "# Gerando redes ER\n",
    "n_nodes_ER = []\n",
    "av_degree_ER = []\n",
    "sec_moment_ER = []\n",
    "av_short_ER = []\n",
    "av_clust_ER = []\n",
    "tran_ER = []\n",
    "ac_ER = []\n",
    "\n",
    "for i in np.arange(1,31,1):\n",
    "    N = 1000\n",
    "    av_degree = 10\n",
    "    p = av_degree/(N-1)\n",
    "    GER = nx.gnp_random_graph(N, p, seed=None, directed=False)\n",
    "    results_GER = calcula_medidas(GER)\n",
    "\n",
    "    n_nodes_ER.append(results_GER[0])\n",
    "    av_degree_ER.append(results_GER[1])\n",
    "    sec_moment_ER.append(results_GER[2])\n",
    "    av_short_ER.append(results_GER[3])\n",
    "    av_clust_ER.append(results_GER[4])\n",
    "    tran_ER.append(results_GER[5])\n",
    "    ac_ER.append(results_GER[6])\n",
    "    \n",
    "    \n",
    "means_GER = pd.Series({measures[0]: 'means_GER',measures[1]:np.mean(n_nodes_ER),measures[2]:np.mean(av_degree_ER),\\\n",
    "                       measures[3]:np.mean(sec_moment_ER),measures[4]:np.mean(av_short_ER), measures[5]:np.mean(av_clust_ER),\n",
    "                       measures[6]:np.mean(tran_ER),measures[7]:np.mean(ac_ER)})\n",
    "\n",
    "std_GER = pd.Series({measures[0]: 'std_GER',measures[1]:np.std(n_nodes_ER),measures[2]:np.std(av_degree_ER),\\\n",
    "                     measures[3]:np.std(sec_moment_ER),measures[4]:np.std(av_short_ER), measures[5]:np.std(av_clust_ER),\\\n",
    "                     measures[6]:np.std(tran_ER),measures[7]:np.std(ac_ER)})\n",
    "    \n",
    "print(means_GER)\n",
    "print(std_GER)"
   ]
  },
  {
   "cell_type": "code",
   "execution_count": 6,
   "metadata": {},
   "outputs": [
    {
     "name": "stdout",
     "output_type": "stream",
     "text": [
      "stats               means_GWS\n",
      "nodes                    1000\n",
      "average_degree              4\n",
      "second_momment        16.3727\n",
      "av_shortest_path      8.81684\n",
      "av_cluster_coef      0.373893\n",
      "transitivity         0.355278\n",
      "assort_coef         -0.023979\n",
      "dtype: object\n",
      "stats                  std_GWS\n",
      "nodes                        0\n",
      "average_degree               0\n",
      "second_momment       0.0217889\n",
      "av_shortest_path      0.221264\n",
      "av_cluster_coef     0.00720383\n",
      "transitivity        0.00803632\n",
      "assort_coef          0.0226526\n",
      "dtype: object\n"
     ]
    }
   ],
   "source": [
    "# Gerando redes WS\n",
    "n_nodes_WS = []\n",
    "av_degree_WS = []\n",
    "sec_moment_WS = []\n",
    "av_short_WS = []\n",
    "av_clust_WS = []\n",
    "tran_WS = []\n",
    "ac_WS = []\n",
    "\n",
    "for i in np.arange(1,31,1):\n",
    "    N=1000\n",
    "    av_degree = 10\n",
    "    k = int(av_degree/2)\n",
    "    p = 0.1 #probability of rewiring\n",
    "    GWS = nx.watts_strogatz_graph(N, k, p, seed=None)\n",
    "    results_GWS = calcula_medidas(GWS)\n",
    "\n",
    "    n_nodes_WS.append(results_GWS[0])\n",
    "    av_degree_WS.append(results_GWS[1])\n",
    "    sec_moment_WS.append(results_GWS[2])\n",
    "    av_short_WS.append(results_GWS[3])\n",
    "    av_clust_WS.append(results_GWS[4])\n",
    "    tran_WS.append(results_GWS[5])\n",
    "    ac_WS.append(results_GWS[6])\n",
    "\n",
    "\n",
    "means_GWS = pd.Series({measures[0]:'means_GWS', measures[1]:np.mean(n_nodes_WS),measures[2]:np.mean(av_degree_WS),\n",
    "                       measures[3]:np.mean(sec_moment_WS),measures[4]:np.mean(av_short_WS), measures[5]:np.mean(av_clust_WS),\\\n",
    "                       measures[6]:np.mean(tran_WS), measures[7]:np.mean(ac_WS)})\n",
    "\n",
    "std_GWS = pd.Series({measures[0]:'std_GWS',measures[1]:np.std(n_nodes_WS),measures[2]:np.std(av_degree_WS),\\\n",
    "                     measures[3]:np.std(sec_moment_WS),measures[4]:np.std(av_short_WS), measures[5]:np.std(av_clust_WS),\\\n",
    "                     measures[6]:np.std(tran_WS), measures[7]:np.std(ac_WS)})\n",
    "\n",
    "    \n",
    "print(means_GWS)\n",
    "print(std_GWS)"
   ]
  },
  {
   "cell_type": "code",
   "execution_count": 7,
   "metadata": {},
   "outputs": [
    {
     "name": "stdout",
     "output_type": "stream",
     "text": [
      "stats               means_GBA\n",
      "nodes                    1000\n",
      "average_degree           9.95\n",
      "second_momment        203.691\n",
      "av_shortest_path      2.98033\n",
      "av_cluster_coef     0.0395853\n",
      "transitivity        0.0296163\n",
      "assort_coef         -0.058188\n",
      "dtype: object\n",
      "stats                   std_GBA\n",
      "nodes                         0\n",
      "average_degree      1.77636e-15\n",
      "second_momment          8.31517\n",
      "av_shortest_path      0.0169902\n",
      "av_cluster_coef      0.00296928\n",
      "transitivity         0.00109052\n",
      "assort_coef           0.0127806\n",
      "dtype: object\n"
     ]
    }
   ],
   "source": [
    "# Gerando redes BA\n",
    "\n",
    "n_nodes_BA = []\n",
    "av_degree_BA = []\n",
    "sec_moment_BA = []\n",
    "av_short_BA = []\n",
    "av_clust_BA = []\n",
    "tran_BA = []\n",
    "ac_BA = []\n",
    "\n",
    "for i in np.arange(1,31,1):\n",
    "    N = 1000\n",
    "    av_degree = 10\n",
    "    m = int(av_degree/2)\n",
    "    GBA = nx.barabasi_albert_graph(N, m)\n",
    "    results_GBA = calcula_medidas(GBA)\n",
    "\n",
    "    n_nodes_BA.append(results_GBA[0])\n",
    "    av_degree_BA.append(results_GBA[1])\n",
    "    sec_moment_BA.append(results_GBA[2])\n",
    "    av_short_BA.append(results_GBA[3])\n",
    "    av_clust_BA.append(results_GBA[4])\n",
    "    tran_BA.append(results_GBA[5])\n",
    "    ac_BA.append(results_GBA[6])\n",
    "\n",
    "\n",
    "\n",
    "\n",
    "means_GBA = pd.Series({measures[0]:'means_GBA',measures[1]: np.mean(n_nodes_BA),measures[2]:np.mean(av_degree_BA), \\\n",
    "                       measures[3]:np.mean(sec_moment_BA),measures[4]:np.mean(av_short_BA), measures[5]:np.mean(av_clust_BA),\\\n",
    "                       measures[6]:np.mean(tran_BA),measures[7]:np.mean(ac_BA)})\n",
    "\n",
    "std_GBA = pd.Series({measures[0]:'std_GBA', measures[1]:np.std(n_nodes_BA),measures[2]:np.std(av_degree_BA), \\\n",
    "                     measures[3]:np.std(sec_moment_BA),measures[4]:np.std(av_short_BA), measures[5]:np.std(av_clust_BA),\\\n",
    "                     measures[6]:np.std(tran_BA),measures[7]:np.std(ac_BA)})\n",
    "\n",
    "    \n",
    "print(means_GBA)\n",
    "print(std_GBA)"
   ]
  },
  {
   "cell_type": "code",
   "execution_count": 8,
   "metadata": {},
   "outputs": [
    {
     "data": {
      "text/html": [
       "<div>\n",
       "<style scoped>\n",
       "    .dataframe tbody tr th:only-of-type {\n",
       "        vertical-align: middle;\n",
       "    }\n",
       "\n",
       "    .dataframe tbody tr th {\n",
       "        vertical-align: top;\n",
       "    }\n",
       "\n",
       "    .dataframe thead th {\n",
       "        text-align: right;\n",
       "    }\n",
       "</style>\n",
       "<table border=\"1\" class=\"dataframe\">\n",
       "  <thead>\n",
       "    <tr style=\"text-align: right;\">\n",
       "      <th></th>\n",
       "      <th>stats</th>\n",
       "      <th>nodes</th>\n",
       "      <th>average_degree</th>\n",
       "      <th>second_momment</th>\n",
       "      <th>av_shortest_path</th>\n",
       "      <th>av_cluster_coef</th>\n",
       "      <th>transitivity</th>\n",
       "      <th>assort_coef</th>\n",
       "    </tr>\n",
       "  </thead>\n",
       "  <tbody>\n",
       "    <tr>\n",
       "      <th>0</th>\n",
       "      <td>means_GER</td>\n",
       "      <td>1000.0</td>\n",
       "      <td>9.975800</td>\n",
       "      <td>109.442067</td>\n",
       "      <td>3.259392</td>\n",
       "      <td>0.010187</td>\n",
       "      <td>0.010193</td>\n",
       "      <td>0.002013</td>\n",
       "    </tr>\n",
       "    <tr>\n",
       "      <th>1</th>\n",
       "      <td>std_GER</td>\n",
       "      <td>0.0</td>\n",
       "      <td>0.168969</td>\n",
       "      <td>3.727905</td>\n",
       "      <td>0.021699</td>\n",
       "      <td>0.000888</td>\n",
       "      <td>0.000703</td>\n",
       "      <td>0.011593</td>\n",
       "    </tr>\n",
       "    <tr>\n",
       "      <th>2</th>\n",
       "      <td>means_GWS</td>\n",
       "      <td>1000.0</td>\n",
       "      <td>4.000000</td>\n",
       "      <td>16.372667</td>\n",
       "      <td>8.816843</td>\n",
       "      <td>0.373893</td>\n",
       "      <td>0.355278</td>\n",
       "      <td>-0.023979</td>\n",
       "    </tr>\n",
       "    <tr>\n",
       "      <th>3</th>\n",
       "      <td>std_GWS</td>\n",
       "      <td>0.0</td>\n",
       "      <td>0.000000</td>\n",
       "      <td>0.021789</td>\n",
       "      <td>0.221264</td>\n",
       "      <td>0.007204</td>\n",
       "      <td>0.008036</td>\n",
       "      <td>0.022653</td>\n",
       "    </tr>\n",
       "    <tr>\n",
       "      <th>4</th>\n",
       "      <td>means_GBA</td>\n",
       "      <td>1000.0</td>\n",
       "      <td>9.950000</td>\n",
       "      <td>203.690733</td>\n",
       "      <td>2.980327</td>\n",
       "      <td>0.039585</td>\n",
       "      <td>0.029616</td>\n",
       "      <td>-0.058188</td>\n",
       "    </tr>\n",
       "  </tbody>\n",
       "</table>\n",
       "</div>"
      ],
      "text/plain": [
       "       stats   nodes  average_degree  second_momment  av_shortest_path  \\\n",
       "0  means_GER  1000.0        9.975800      109.442067          3.259392   \n",
       "1    std_GER     0.0        0.168969        3.727905          0.021699   \n",
       "2  means_GWS  1000.0        4.000000       16.372667          8.816843   \n",
       "3    std_GWS     0.0        0.000000        0.021789          0.221264   \n",
       "4  means_GBA  1000.0        9.950000      203.690733          2.980327   \n",
       "\n",
       "   av_cluster_coef  transitivity  assort_coef  \n",
       "0         0.010187      0.010193     0.002013  \n",
       "1         0.000888      0.000703     0.011593  \n",
       "2         0.373893      0.355278    -0.023979  \n",
       "3         0.007204      0.008036     0.022653  \n",
       "4         0.039585      0.029616    -0.058188  "
      ]
     },
     "execution_count": 8,
     "metadata": {},
     "output_type": "execute_result"
    }
   ],
   "source": [
    "df = pd.DataFrame([means_GER, std_GER, means_GWS, std_GWS, means_GBA, std_GBA])\n",
    "df.head()"
   ]
  },
  {
   "cell_type": "code",
   "execution_count": 9,
   "metadata": {},
   "outputs": [
    {
     "data": {
      "image/png": "[encoded data removed]",
      "text/plain": [
       "<Figure size 432x288 with 1 Axes>"
      ]
     },
     "metadata": {
      "needs_background": "light"
     },
     "output_type": "display_data"
    }
   ],
   "source": [
    "# Degree Distribution GER\n",
    "N = 1000\n",
    "av_degree = 10\n",
    "p = av_degree/(N-1)\n",
    "GER = nx.gnp_random_graph(N, p, seed=None, directed=False)\n",
    "\n",
    "ks, Pk = degree_distribution(GER)\n",
    "\n",
    "plt.figure()\n",
    "plt.plot(ks,Pk, label='ER')\n",
    "plt.title(\"Degree distribution - ER\", fontsize=20)\n",
    "\n",
    "\n",
    "N= 1000\n",
    "av_degree = 10\n",
    "k = int(av_degree/2)\n",
    "p = 0.1 #probability of rewiring\n",
    "GWS = nx.watts_strogatz_graph(N, k, p, seed=None)\n",
    "\n",
    "ks, Pk = degree_distribution(GWS)\n",
    "\n",
    "plt.plot(ks,Pk, label='WS - 0.1')\n",
    "\n",
    "N= 1000\n",
    "av_degree = 10\n",
    "k = int(av_degree/2)\n",
    "p = 0.01 #probability of rewiring\n",
    "GWS = nx.watts_strogatz_graph(N, k, p, seed=None)\n",
    "\n",
    "ks, Pk = degree_distribution(GWS)\n",
    "\n",
    "plt.plot(ks,Pk, label='WS - 0.01')\n",
    "\n",
    "\n",
    "N = 1000\n",
    "av_degree = 10\n",
    "m = int(av_degree/2)\n",
    "GBA = nx.barabasi_albert_graph(N, m)\n",
    "\n",
    "ks, Pk = degree_distribution(GBA)\n",
    "\n",
    "plt.plot(ks,Pk, label='BA')\n",
    "plt.xlabel(\"k\", fontsize=20)\n",
    "plt.ylabel(\"P(k)\", fontsize=20)\n",
    "plt.xlim(0,20)\n",
    "plt.legend()\n",
    "plt.grid(True)\n",
    "\n"
   ]
  },
  {
   "cell_type": "markdown",
   "metadata": {},
   "source": [
    "No gráfico é clara que a distribuição dos graus para as redes WS são mais concentradas, possuindo um pico, já as redes ER e BA também possuem picos mas bem menores e são mais amplas. Sobre as medidas médias, essa distinção entre as redes continua ocorrendo, principalmente no grau médio, o que já era esperado, segundo momento e menor caminho, podendo ser uma consequência da primeira. "
   ]
  },
  {
   "cell_type": "markdown",
   "metadata": {},
   "source": [
    "# Exercício 2"
   ]
  },
  {
   "cell_type": "code",
   "execution_count": 10,
   "metadata": {},
   "outputs": [
    {
     "data": {
      "image/png": "[encoded data removed]",
      "text/plain": [
       "<Figure size 432x288 with 1 Axes>"
      ]
     },
     "metadata": {
      "needs_background": "light"
     },
     "output_type": "display_data"
    }
   ],
   "source": [
    "# Transition Curve\n",
    "N = 1000\n",
    "S = []\n",
    "vk = []\n",
    "for c in arange(0, 5, 0.05):\n",
    "    p = c/(N-1)\n",
    "    GER = nx.gnp_random_graph(N, p, seed=None, directed=False)\n",
    "    Gcc=sorted(nx.connected_component_subgraphs(GER), key = len, reverse=True)\n",
    "    G=Gcc[0]\n",
    "    S.append(len(G)/N)\n",
    "    vk.append(c)\n",
    "plt.figure()\n",
    "plt.plot(vk,S,'b', label='Largest component size')\n",
    "plt.xlabel(\"k\", fontsize=20)\n",
    "plt.ylabel(\"S\", fontsize=20)\n",
    "plt.title(\"Phase transition in random graphs\", fontsize=20)\n",
    "plt.axvline(x=1, color = 'r')\n",
    "plt.grid(True)\n",
    "plt.show();\n"
   ]
  },
  {
   "cell_type": "code",
   "execution_count": 13,
   "metadata": {},
   "outputs": [
    {
     "data": {
      "image/png": "[encoded data removed]",
      "text/plain": [
       "<Figure size 432x288 with 1 Axes>"
      ]
     },
     "metadata": {
      "needs_background": "light"
     },
     "output_type": "display_data"
    }
   ],
   "source": [
    "# Average Shortest Path\n",
    "vd = []\n",
    "vn = []\n",
    "av_degree = 10\n",
    "Nmax = 1000\n",
    "k_app = []\n",
    "list_k = [4,10,20,30]\n",
    "# Dar um jeito de colocar o valor de k no label.\n",
    "colors = ['b','g','r','y']\n",
    "aux = 0\n",
    "for k in list_k:\n",
    "    vd = []\n",
    "    vn = []\n",
    "    for n in arange(100,Nmax, 100):\n",
    "        p = k/(n-1)\n",
    "        GER = nx.gnp_random_graph(n, p, seed=None, directed=False)\n",
    "        Gcc=sorted(nx.connected_component_subgraphs(GER), key = len, reverse=True)\n",
    "        G=Gcc[0]\n",
    "        vd.append(nx.average_shortest_path_length(G))\n",
    "        vn.append(n)\n",
    "    plt.loglog(vn,vd,'-or',basex=10,basey=10, label = 'ER'+str(k), color = colors[aux])\n",
    "    aux=aux+1\n",
    "\n",
    "        \n",
    "x = arange(100,Nmax, 100)\n",
    "plt.loglog(x,log10(x),'--b', label='ER', basex=10,basey=10)\n",
    "plt.xlabel(\"N\", fontsize=20)\n",
    "plt.ylabel(\"Av_Shortest\", fontsize=20)\n",
    "plt.title(\"Average shortest path length\", fontsize=20)\n",
    "plt.grid(True)\n",
    "plt.legend()\n",
    "plt.show();"
   ]
  },
  {
   "cell_type": "code",
   "execution_count": 15,
   "metadata": {},
   "outputs": [
    {
     "data": {
      "image/png": "[encoded data removed]",
      "text/plain": [
       "<Figure size 432x288 with 1 Axes>"
      ]
     },
     "metadata": {
      "needs_background": "light"
     },
     "output_type": "display_data"
    }
   ],
   "source": [
    "# Diameter\n",
    "av_degree = 10\n",
    "Nmax = 1000\n",
    "k_app = []\n",
    "list_k = [4,10,20,30]\n",
    "# Dar um jeito de colocar o valor de k no label.\n",
    "colors = ['b','g','r','y']\n",
    "aux = 0\n",
    "for k in list_k:\n",
    "    d = []\n",
    "    vn = []\n",
    "    for n in arange(100,Nmax, 100):\n",
    "        p = k/(n-1)\n",
    "        GER = nx.gnp_random_graph(n, p, seed=None, directed=False)\n",
    "        Gcc=sorted(nx.connected_component_subgraphs(GER), key = len, reverse=True)\n",
    "        G=Gcc[0]\n",
    "        d.append(nx.diameter(G))\n",
    "        vn.append(n)\n",
    "    plt.loglog(vn,d,'-or',basex=10,basey=10, label = 'ER'+str(k), color = colors[aux])\n",
    "    aux=aux+1\n",
    "\n",
    "        \n",
    "x = arange(100,Nmax, 100)\n",
    "plt.loglog(x,log10(x),'--b', label='ER', basex=10,basey=10)\n",
    "plt.xlabel(\"N\", fontsize=20)\n",
    "plt.ylabel(\"Diameter\", fontsize=20)\n",
    "plt.title(\"Diameter\", fontsize=20)\n",
    "plt.grid(True)\n",
    "plt.legend()\n",
    "plt.show();"
   ]
  },
  {
   "cell_type": "markdown",
   "metadata": {},
   "source": [
    "# Exercício 3"
   ]
  },
  {
   "cell_type": "code",
   "execution_count": 16,
   "metadata": {},
   "outputs": [
    {
     "data": {
      "image/png": "[encoded data removed]",
      "text/plain": [
       "<Figure size 432x288 with 1 Axes>"
      ]
     },
     "metadata": {
      "needs_background": "light"
     },
     "output_type": "display_data"
    }
   ],
   "source": [
    "N = 1000\n",
    "av_degree = 10\n",
    "k = int(av_degree/2)\n",
    "vcc = []\n",
    "vl = []\n",
    "vq = []\n",
    "for q in arange(0.1, 1, 0.02): #q is the rewiring probability\n",
    "    G = nx.watts_strogatz_graph(N, k, q, seed=None)\n",
    "    cc = nx.average_clustering(G)\n",
    "    vcc.append(cc)\n",
    "    l = nx.average_shortest_path_length(G)\n",
    "    vl.append(l)\n",
    "    vq.append(q)\n",
    "plt.figure()\n",
    "plt.plot(vq,np.array(vcc)/vcc[0],'b', label='Clustering')\n",
    "plt.plot(vq,np.array(vl)/vl[0],'r', label='Shortest path length')\n",
    "plt.xlabel(\"q\", fontsize=20)\n",
    "plt.ylabel(\"$cc/cc_0$, $\\ell/\\ell_0$\", fontsize=20)\n",
    "plt.title(\"Small-world networks\", fontsize=20)\n",
    "plt.legend()\n",
    "plt.grid(True)\n",
    "plt.show();"
   ]
  },
  {
   "cell_type": "code",
   "execution_count": 22,
   "metadata": {
    "scrolled": false
   },
   "outputs": [
    {
     "name": "stderr",
     "output_type": "stream",
     "text": [
      "No handles with labels found to put in legend.\n"
     ]
    },
    {
     "data": {
      "image/png": "[encoded data removed]",
      "text/plain": [
       "<Figure size 432x288 with 1 Axes>"
      ]
     },
     "metadata": {
      "needs_background": "light"
     },
     "output_type": "display_data"
    }
   ],
   "source": [
    "N = 1000\n",
    "av_degree = 10\n",
    "k = int(av_degree/2)\n",
    "plt.figure()\n",
    "aux = 0\n",
    "ks =[]\n",
    "Q = []\n",
    "for q in arange(0.1, 1, 0.02): #q is the rewiring probability\n",
    "    G = nx.watts_strogatz_graph(N, k, q, seed=None)\n",
    "    k2= momment_of_degree_distribution(G,2)\n",
    "    ks.append(k2)\n",
    "    aux = aux + 1\n",
    "    Q.append(q)\n",
    "plt.plot(Q,ks,'-', color = 'b')\n",
    "plt.xlabel(\"k\", fontsize=20)\n",
    "plt.ylabel(\"Second Momment\", fontsize=20)\n",
    "plt.title(\"Second Momment degree distribution\", fontsize=20)\n",
    "plt.legend()\n",
    "plt.grid(True)\n",
    "plt.show();"
   ]
  },
  {
   "cell_type": "code",
   "execution_count": 67,
   "metadata": {
    "scrolled": true
   },
   "outputs": [
    {
     "data": {
      "image/png": "[encoded data removed]",
      "text/plain": [
       "<Figure size 432x288 with 1 Axes>"
      ]
     },
     "metadata": {
      "needs_background": "light"
     },
     "output_type": "display_data"
    }
   ],
   "source": [
    "colors = ['b', 'g', 'r', 'c', 'm', 'y', 'k', 'w']\n",
    "plt.figure()\n",
    "aux = 0\n",
    "q_list=[0.001,0.01,0.1]\n",
    "for q in q_list: #q is the rewiring probability\n",
    "    G = nx.watts_strogatz_graph(N, k, q, seed=None)\n",
    "    ks, Pk = degree_distribution(G)\n",
    "    plt.plot(ks,Pk,'o-', color = colors[aux], label = str(q))\n",
    "    aux = aux + 1\n",
    "plt.xlabel(\"k\", fontsize=20)\n",
    "plt.ylabel(\"P(k)\", fontsize=20)\n",
    "plt.title(\"Degree distribution\", fontsize=20)\n",
    "plt.legend()\n",
    "plt.grid(True)\n",
    "plt.show();"
   ]
  },
  {
   "cell_type": "code",
   "execution_count": 6,
   "metadata": {},
   "outputs": [
    {
     "name": "stdout",
     "output_type": "stream",
     "text": [
      "1.011\r"
     ]
    }
   ],
   "source": [
    "p = [0.001, 0.01, 0.1, 1.]\n",
    "av_degree = 8\n",
    "k = int(av_degree/2)\n",
    "av_short = []\n",
    "for q in p:\n",
    "    print(q, end = '\\r') # monitor progress\n",
    "    aux = []\n",
    "    for N in np.arange(5, 600, 25):\n",
    "        G = nx.watts_strogatz_graph(N, k, q, seed=None)\n",
    "        aux.append(nx.average_shortest_path_length(G))\n",
    "    av_short.append(aux)"
   ]
  },
  {
   "cell_type": "code",
   "execution_count": 7,
   "metadata": {},
   "outputs": [
    {
     "data": {
      "image/png": "[encoded data removed]",
      "text/plain": [
       "<Figure size 1008x432 with 1 Axes>"
      ]
     },
     "metadata": {
      "needs_background": "light"
     },
     "output_type": "display_data"
    }
   ],
   "source": [
    "plt.figure(figsize = (14,6))\n",
    "plt.title('Av. short. path length vs Num. of nodes (Watts Strogatz)', fontsize = 15)    \n",
    "for var, q in zip(av_short, p):\n",
    "    # Fit with polinomial curve\n",
    "    pol = np.poly1d(np.polyfit(np.arange(5, 600, 25), var, 3))\n",
    "    y = pol(np.arange(5, 600, 25))\n",
    "    plt.plot(np.arange(5, 600, 25), y, label = 'p='+str(q))\n",
    "plt.xlabel(\"N\", fontsize=15)\n",
    "plt.ylabel(\"Av. Short. Path\", fontsize=15)\n",
    "plt.xticks(fontsize = 15)\n",
    "plt.yticks(fontsize = 15)\n",
    "plt.legend(fontsize = 10)\n",
    "plt.show()"
   ]
  },
  {
   "cell_type": "markdown",
   "metadata": {},
   "source": [
    "# Exercício 4"
   ]
  },
  {
   "cell_type": "code",
   "execution_count": 90,
   "metadata": {},
   "outputs": [],
   "source": [
    "measures = ['network','nodes', 'average_degree', 'second_momment','av_shortest_path','av_cluster_coef','transitivity','assort_coef']"
   ]
  },
  {
   "cell_type": "code",
   "execution_count": 96,
   "metadata": {},
   "outputs": [
    {
     "name": "stdout",
     "output_type": "stream",
     "text": [
      "network                   GBA\n",
      "nodes                    1000\n",
      "average_degree           9.95\n",
      "second_momment        200.656\n",
      "av_shortest_path       2.9804\n",
      "av_cluster_coef     0.0394855\n",
      "transitivity        0.0299519\n",
      "assort_coef        -0.0609943\n",
      "dtype: object\n"
     ]
    }
   ],
   "source": [
    "# Gerando redes BA\n",
    "\n",
    "N = 1000\n",
    "av_degree = 10\n",
    "m = int(av_degree/2)\n",
    "GBA = nx.barabasi_albert_graph(N, m)\n",
    "results_GBA = calcula_medidas(GBA)\n",
    "\n",
    "n_nodes_BA=results_GBA[0]\n",
    "av_degree_BA=results_GBA[1]\n",
    "sec_moment_BA=results_GBA[2]\n",
    "av_short_BA=results_GBA[3]\n",
    "av_clust_BA=results_GBA[4]\n",
    "tran_BA=results_GBA[5]\n",
    "ac_BA=results_GBA[6]\n",
    "\n",
    "\n",
    "\n",
    "\n",
    "measures_GBA = pd.Series({measures[0]:'GBA',measures[1]: n_nodes_BA,measures[2]:av_degree_BA, \\\n",
    "                       measures[3]:sec_moment_BA,measures[4]:av_short_BA, measures[5]:av_clust_BA,\\\n",
    "                       measures[6]:tran_BA,measures[7]:ac_BA})\n",
    "\n",
    "\n",
    "print(measures_GBA)"
   ]
  },
  {
   "cell_type": "code",
   "execution_count": 98,
   "metadata": {},
   "outputs": [],
   "source": [
    "def calcula_medidas_multigraph(G):\n",
    "    # Number of nodes\n",
    "    number_nodes = len(G)\n",
    "    \n",
    "    # Average Degree\n",
    "    vk = dict(G.degree())\n",
    "    vk = list(vk.values())\n",
    "    vk = np.array(vk)\n",
    "    md = mean(vk)\n",
    "    \n",
    "    # Second momment\n",
    "    k2 = momment_of_degree_distribution(G,2)\n",
    "    \n",
    "    # Average Shortest Path\n",
    "    if nx.is_connected(G) == True:\n",
    "        l = nx.average_shortest_path_length(G)\n",
    "    else:\n",
    "        Gcc=sorted(nx.connected_component_subgraphs(G), key = len, reverse=True)\n",
    "        G_1=Gcc[0]\n",
    "        print('We will use only the largest component')\n",
    "        l = nx.average_shortest_path_length(G_1)\n",
    "    \n",
    "#     # Average Clustering\n",
    "#     avc = nx.average_clustering(G)\n",
    "    \n",
    "#     # Transitivity\n",
    "#     CC = (nx.transitivity(G)) \n",
    "    \n",
    "    # Assortativity Coefficient\n",
    "    r=nx.degree_assortativity_coefficient(G)\n",
    "\n",
    " #   results  = [number_nodes, md, k2, l, avc, CC, r]\n",
    "    results  = [number_nodes, md, k2, l, r]\n",
    "\n",
    "    return results\n"
   ]
  },
  {
   "cell_type": "code",
   "execution_count": 99,
   "metadata": {},
   "outputs": [
    {
     "name": "stdout",
     "output_type": "stream",
     "text": [
      "network                  GCM\n",
      "nodes                    953\n",
      "average_degree       5.72298\n",
      "second_momment       4993.71\n",
      "av_shortest_path     2.87362\n",
      "av_cluster_coef            0\n",
      "transitivity               0\n",
      "assort_coef        -0.123905\n",
      "dtype: object\n"
     ]
    }
   ],
   "source": [
    "# para o tipo multigraph não tem clustering coef e nem transitivity\n",
    "# Gerando redes CM\n",
    "\n",
    "from random import *\n",
    "N = 1000\n",
    "a = 2\n",
    "seq = np.random.zipf(a, N) #Zipf distribution\n",
    "\n",
    "if(sum(seq)%2 != 0): # the sum of stubs have to be even\n",
    "    pos = randint(0, len(seq))\n",
    "    seq[pos] = seq[pos]+ 1\n",
    "GCM=nx.configuration_model(seq)\n",
    "#get the largest component\n",
    "Gcc=sorted(nx.connected_component_subgraphs(GCM), key = len, reverse=True)\n",
    "G=Gcc[0]\n",
    "\n",
    "results_GCM = calcula_medidas_multigraph(G)\n",
    "\n",
    "n_nodes_CM=(results_GCM[0])\n",
    "av_degree_CM=(results_GCM[1])\n",
    "sec_moment_CM=(results_GCM[2])\n",
    "av_short_CM=(results_GCM[3])\n",
    "ac_CM=(results_GCM[4])\n",
    "\n",
    "\n",
    "\n",
    "\n",
    "measures_GCM = pd.Series({measures[0]:'GCM',measures[1]: n_nodes_CM,measures[2]:av_degree_CM, \\\n",
    "                       measures[3]:sec_moment_CM,measures[4]:av_short_CM, measures[5]:0,\\\n",
    "                       measures[6]:0, measures[7]:ac_CM})\n",
    "\n",
    "print(measures_GCM)"
   ]
  },
  {
   "cell_type": "code",
   "execution_count": 100,
   "metadata": {},
   "outputs": [
    {
     "data": {
      "text/html": [
       "<div>\n",
       "<style scoped>\n",
       "    .dataframe tbody tr th:only-of-type {\n",
       "        vertical-align: middle;\n",
       "    }\n",
       "\n",
       "    .dataframe tbody tr th {\n",
       "        vertical-align: top;\n",
       "    }\n",
       "\n",
       "    .dataframe thead th {\n",
       "        text-align: right;\n",
       "    }\n",
       "</style>\n",
       "<table border=\"1\" class=\"dataframe\">\n",
       "  <thead>\n",
       "    <tr style=\"text-align: right;\">\n",
       "      <th></th>\n",
       "      <th>network</th>\n",
       "      <th>nodes</th>\n",
       "      <th>average_degree</th>\n",
       "      <th>second_momment</th>\n",
       "      <th>av_shortest_path</th>\n",
       "      <th>av_cluster_coef</th>\n",
       "      <th>transitivity</th>\n",
       "      <th>assort_coef</th>\n",
       "    </tr>\n",
       "  </thead>\n",
       "  <tbody>\n",
       "    <tr>\n",
       "      <th>0</th>\n",
       "      <td>GBA</td>\n",
       "      <td>1000</td>\n",
       "      <td>9.95000</td>\n",
       "      <td>200.656000</td>\n",
       "      <td>2.980396</td>\n",
       "      <td>0.039485</td>\n",
       "      <td>0.029952</td>\n",
       "      <td>-0.060994</td>\n",
       "    </tr>\n",
       "    <tr>\n",
       "      <th>1</th>\n",
       "      <td>GCM</td>\n",
       "      <td>953</td>\n",
       "      <td>5.72298</td>\n",
       "      <td>4993.714586</td>\n",
       "      <td>2.873619</td>\n",
       "      <td>0.000000</td>\n",
       "      <td>0.000000</td>\n",
       "      <td>-0.123905</td>\n",
       "    </tr>\n",
       "  </tbody>\n",
       "</table>\n",
       "</div>"
      ],
      "text/plain": [
       "  network  nodes  average_degree  second_momment  av_shortest_path  \\\n",
       "0     GBA   1000         9.95000      200.656000          2.980396   \n",
       "1     GCM    953         5.72298     4993.714586          2.873619   \n",
       "\n",
       "   av_cluster_coef  transitivity  assort_coef  \n",
       "0         0.039485      0.029952    -0.060994  \n",
       "1         0.000000      0.000000    -0.123905  "
      ]
     },
     "execution_count": 100,
     "metadata": {},
     "output_type": "execute_result"
    }
   ],
   "source": [
    "df = pd.DataFrame([measures_GBA, measures_GCM])\n",
    "df.head()"
   ]
  },
  {
   "cell_type": "code",
   "execution_count": 9,
   "metadata": {},
   "outputs": [],
   "source": [
    "# Letra C\n",
    "import igraph as g\n",
    "\n",
    "def pega_rede_BA(N,m,alpha):\n",
    "    # Barabasi Albert with alpha param\n",
    "    BA = g.Graph.Barabasi(n=N, m=m, power = alpha)\n",
    "\n",
    "    # Convert igraph to networkx Graph\n",
    "    G = nx.Graph()\n",
    "\n",
    "    for e in BA.es: # collect edges\n",
    "        G.add_edge(*e.tuple)\n",
    "    return G"
   ]
  },
  {
   "cell_type": "code",
   "execution_count": 41,
   "metadata": {},
   "outputs": [
    {
     "data": {
      "text/plain": [
       "Text(0, 0.5, 'Kmax')"
      ]
     },
     "execution_count": 41,
     "metadata": {},
     "output_type": "execute_result"
    },
    {
     "data": {
      "image/png": "[encoded data removed]",
      "text/plain": [
       "<Figure size 432x288 with 1 Axes>"
      ]
     },
     "metadata": {
      "needs_background": "light"
     },
     "output_type": "display_data"
    }
   ],
   "source": [
    "av_degree = 8\n",
    "alphas = [0.5,1.5,2.5]\n",
    "colors = ['r','b','g']\n",
    "aux = 0\n",
    "count = 1\n",
    "for alpha in alphas:\n",
    "    kmax = []\n",
    "    t = []\n",
    "    for n in np.arange(10,1000,1):\n",
    "        n = n\n",
    "        m = int(av_degree/2)\n",
    "        G = pega_rede_BA(n,m,alpha)\n",
    "        kmax.append(np.max(list(dict(G.degree()).values())))\n",
    "        t.append(n)\n",
    "    plt.plot(t, kmax, label = str(alpha), color = colors[aux])\n",
    "    aux = aux+1\n",
    "plt.legend()\n",
    "plt.xlabel('t')\n",
    "plt.ylabel('Kmax')"
   ]
  },
  {
   "cell_type": "code",
   "execution_count": 60,
   "metadata": {},
   "outputs": [],
   "source": [
    "# Letra D\n",
    "N = 1000\n",
    "m = int(av_degree/2)\n",
    "\n",
    "alpha = 0.5\n",
    "G05 = pega_rede_BA(N,m,alpha)\n",
    "    \n",
    "results_G05 = calcula_medidas(G05)\n",
    "\n",
    "n_nodes_G05 = (results_G05[0])\n",
    "av_degree_G05 = (results_G05[1])\n",
    "sec_moment_G05=(results_G05[2])\n",
    "av_short_G05=(results_G05[3])\n",
    "av_clust_G05=(results_G05[4])\n",
    "tran_G05=(results_G05[5])\n",
    "ac_G05=(results_G05[6])\n",
    "    \n",
    "measures_G05 = pd.Series({measures[0]: 'Alpha 0.5',measures[1]:(n_nodes_G05),measures[2]:(av_degree_G05),\\\n",
    "                       measures[3]:(sec_moment_G05),measures[4]:(av_short_G05), measures[5]:(av_clust_G05),\n",
    "                       measures[6]:(tran_G05),measures[7]:(ac_G05)})"
   ]
  },
  {
   "cell_type": "code",
   "execution_count": 61,
   "metadata": {},
   "outputs": [],
   "source": [
    "alpha_1 = 1.5\n",
    "G15 = pega_rede_BA(N,m,alpha_1)\n",
    "    \n",
    "results_G15 = calcula_medidas(G15)\n",
    "\n",
    "n_nodes_G15 = (results_G15[0])\n",
    "av_degree_G15 = (results_G15[1])\n",
    "sec_moment_G15=(results_G15[2])\n",
    "av_short_G15=(results_G15[3])\n",
    "av_clust_G15=(results_G15[4])\n",
    "tran_G15=(results_G15[5])\n",
    "ac_G15=(results_G15[6])\n",
    "    \n",
    "measures_G15 = pd.Series({measures[0]: 'Alpha 1.5',measures[1]:(n_nodes_G15),measures[2]:(av_degree_G15),\\\n",
    "                       measures[3]:(sec_moment_G15),measures[4]:(av_short_G15), measures[5]:(av_clust_G15),\n",
    "                       measures[6]:(tran_G15),measures[7]:(ac_G15)})"
   ]
  },
  {
   "cell_type": "code",
   "execution_count": 62,
   "metadata": {},
   "outputs": [],
   "source": [
    "alpha_2 = 2.5\n",
    "G25 = pega_rede_BA(N,m,alpha_2)\n",
    "    \n",
    "results_G25 = calcula_medidas(G25)\n",
    "\n",
    "n_nodes_G25 = (results_G25[0])\n",
    "av_degree_G25 = (results_G25[1])\n",
    "sec_moment_G25=(results_G25[2])\n",
    "av_short_G25=(results_G25[3])\n",
    "av_clust_G25=(results_G25[4])\n",
    "tran_G25=(results_G25[5])\n",
    "ac_G25=(results_G25[6])\n",
    "    \n",
    "measures_G25 = pd.Series({measures[0]: 'Alpha 2.5',measures[1]:(n_nodes_G25),measures[2]:(av_degree_G25),\\\n",
    "                       measures[3]:(sec_moment_G25),measures[4]:(av_short_G25), measures[5]:(av_clust_G25),\n",
    "                       measures[6]:(tran_G25),measures[7]:(ac_G25)})\n"
   ]
  },
  {
   "cell_type": "code",
   "execution_count": 63,
   "metadata": {},
   "outputs": [
    {
     "data": {
      "text/html": [
       "<div>\n",
       "<style scoped>\n",
       "    .dataframe tbody tr th:only-of-type {\n",
       "        vertical-align: middle;\n",
       "    }\n",
       "\n",
       "    .dataframe tbody tr th {\n",
       "        vertical-align: top;\n",
       "    }\n",
       "\n",
       "    .dataframe thead th {\n",
       "        text-align: right;\n",
       "    }\n",
       "</style>\n",
       "<table border=\"1\" class=\"dataframe\">\n",
       "  <thead>\n",
       "    <tr style=\"text-align: right;\">\n",
       "      <th></th>\n",
       "      <th>stats</th>\n",
       "      <th>nodes</th>\n",
       "      <th>average_degree</th>\n",
       "      <th>second_momment</th>\n",
       "      <th>av_shortest_path</th>\n",
       "      <th>av_cluster_coef</th>\n",
       "      <th>transitivity</th>\n",
       "      <th>assort_coef</th>\n",
       "    </tr>\n",
       "  </thead>\n",
       "  <tbody>\n",
       "    <tr>\n",
       "      <th>0</th>\n",
       "      <td>Alpha 0.5</td>\n",
       "      <td>1000</td>\n",
       "      <td>7.98</td>\n",
       "      <td>110.950</td>\n",
       "      <td>3.321147</td>\n",
       "      <td>0.019558</td>\n",
       "      <td>0.024357</td>\n",
       "      <td>0.044169</td>\n",
       "    </tr>\n",
       "    <tr>\n",
       "      <th>1</th>\n",
       "      <td>Alpha 1.5</td>\n",
       "      <td>1000</td>\n",
       "      <td>7.98</td>\n",
       "      <td>2977.260</td>\n",
       "      <td>1.992723</td>\n",
       "      <td>0.946510</td>\n",
       "      <td>0.011764</td>\n",
       "      <td>-0.815013</td>\n",
       "    </tr>\n",
       "    <tr>\n",
       "      <th>2</th>\n",
       "      <td>Alpha 2.5</td>\n",
       "      <td>1000</td>\n",
       "      <td>7.98</td>\n",
       "      <td>3999.996</td>\n",
       "      <td>1.992012</td>\n",
       "      <td>0.995624</td>\n",
       "      <td>0.008988</td>\n",
       "      <td>-0.994993</td>\n",
       "    </tr>\n",
       "  </tbody>\n",
       "</table>\n",
       "</div>"
      ],
      "text/plain": [
       "       stats  nodes  average_degree  second_momment  av_shortest_path  \\\n",
       "0  Alpha 0.5   1000            7.98         110.950          3.321147   \n",
       "1  Alpha 1.5   1000            7.98        2977.260          1.992723   \n",
       "2  Alpha 2.5   1000            7.98        3999.996          1.992012   \n",
       "\n",
       "   av_cluster_coef  transitivity  assort_coef  \n",
       "0         0.019558      0.024357     0.044169  \n",
       "1         0.946510      0.011764    -0.815013  \n",
       "2         0.995624      0.008988    -0.994993  "
      ]
     },
     "execution_count": 63,
     "metadata": {},
     "output_type": "execute_result"
    }
   ],
   "source": [
    "df = pd.DataFrame([measures_G05, measures_G15, measures_G25])\n",
    "df.head()"
   ]
  }
 ],
 "metadata": {
  "kernelspec": {
   "display_name": "Python 3",
   "language": "python",
   "name": "python3"
  },
  "language_info": {
   "codemirror_mode": {
    "name": "ipython",
    "version": 3
   },
   "file_extension": ".py",
   "mimetype": "text/x-python",
   "name": "python",
   "nbconvert_exporter": "python",
   "pygments_lexer": "ipython3",
   "version": "3.6.5"
  }
 },
 "nbformat": 4,
 "nbformat_minor": 2
}
