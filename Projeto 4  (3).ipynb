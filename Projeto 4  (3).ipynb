{
 "cells": [
  {
   "cell_type": "markdown",
   "metadata": {},
   "source": [
    "## Project\t4:\tDynamical\tprocesses\tin\tnetworks"
   ]
  },
  {
   "cell_type": "markdown",
   "metadata": {},
   "source": [
    "Giovanna Zolin Pinheiro Hayasida - n: 9762848 "
   ]
  },
  {
   "cell_type": "markdown",
   "metadata": {},
   "source": [
    "Luna Wagner Cunha - n: 9762831"
   ]
  },
  {
   "cell_type": "markdown",
   "metadata": {},
   "source": [
    "1 - rodar \n",
    "\n",
    "2- Ok                                              comentar \n",
    "\n",
    "3 - rodar e completar com o do pedrino  "
   ]
  },
  {
   "cell_type": "code",
   "execution_count": 1,
   "metadata": {},
   "outputs": [],
   "source": [
    "#Pacotes \n",
    "import pylab as pylt\n",
    "import networkx as nx \n",
    "import matplotlib.pyplot as plt\n",
    "from numpy  import *\n",
    "import numpy as np\n",
    "import pandas as pd\n",
    "import seaborn as sns\n",
    "import scipy.stats as ss\n",
    "\n",
    "from scipy.linalg import expm\n",
    "from scipy.sparse import csr_matrix, issparse\n",
    "from scipy import stats\n",
    "import collections\n",
    "from scipy.stats import moment\n",
    "\n",
    "# from networkx.algorithms.community import LFR_benchmark_graph\n",
    "from sklearn.metrics import mutual_info_score\n",
    "from community import community_louvain\n",
    "from networkx.algorithms import community\n",
    "from community import community_louvain\n",
    "import networkx.algorithms.community as nx_comm\n",
    "\n",
    "from sklearn.preprocessing import MinMaxScaler\n",
    "from sklearn.decomposition import PCA"
   ]
  },
  {
   "cell_type": "markdown",
   "metadata": {},
   "source": [
    "# Exercicio 1"
   ]
  },
  {
   "cell_type": "markdown",
   "metadata": {},
   "source": [
    ". Erdös-Rényi\tnetworks"
   ]
  },
  {
   "cell_type": "code",
   "execution_count": 2,
   "metadata": {},
   "outputs": [],
   "source": [
    "def failures(H):\n",
    "    G = H.copy()\n",
    "    from random import choice\n",
    "    N0 = len(G)\n",
    "    vn = []\n",
    "    S = []\n",
    "    n = 0 #number of nodes removed\n",
    "    while(len(G.nodes()) > int(0.01*N0)):\n",
    "        node = random.choice(G.nodes()) #select the node on the largest component\n",
    "        G.remove_node(node) \n",
    "        Gcc=sorted(nx.connected_component_subgraphs(G), key = len, reverse=True)\n",
    "        Glc=Gcc[0] \n",
    "        S.append(len(Glc)/N0) #store the size of the largest component\n",
    "        n = n + 1\n",
    "        vn.append(n/N0)\n",
    "    return S, vn\n",
    "\n",
    "def most_connected(G): # This function is used to find the most connected node\n",
    "    maxk = 0\n",
    "    node = 0\n",
    "    for i in G.nodes():\n",
    "        if(G.degree(i) >= maxk):\n",
    "            maxk = G.degree(i)\n",
    "            node = i\n",
    "    return node \n",
    "\n",
    "def attacks(H):\n",
    "    G = H.copy()\n",
    "    from random import choice\n",
    "    N0 = len(G)\n",
    "    vn = []\n",
    "    S = []\n",
    "    n = 0 #number of nodes removed\n",
    "    while(len(G.nodes()) > int(0.01*N0)):\n",
    "        #print('Removing... n = ', n)\n",
    "        #print(G.nodes)\n",
    "        node = most_connected(G) #select the most connected node on the largest component            \n",
    "        #print('selected to removed:', node)\n",
    "        G.remove_node(node) \n",
    "        Gcc=sorted(nx.connected_component_subgraphs(G), key = len, reverse=True)\n",
    "        Glc=Gcc[0] \n",
    "        S.append(len(Glc)/N0) #store the size of the largest component\n",
    "        n = n + 1\n",
    "        vn.append(n/N0)\n",
    "    return S, vn"
   ]
  },
  {
   "cell_type": "code",
   "execution_count": 3,
   "metadata": {
    "scrolled": true
   },
   "outputs": [
    {
     "data": {
      "image/png": "[encoded data removed]",
      "text/plain": [
       "<Figure size 432x288 with 1 Axes>"
      ]
     },
     "metadata": {
      "needs_background": "light"
     },
     "output_type": "display_data"
    }
   ],
   "source": [
    "# Para as falhas\n",
    "Sf_er = [] \n",
    "vnf_er = []\n",
    "Sf_ba = [] \n",
    "vnf_ba = []\n",
    "Sf_g3= [] \n",
    "vnf_g3 = []\n",
    "Sf_g2= [] \n",
    "vnf_g2 = []\n",
    "Sf_g1 = [] \n",
    "vnf_g1 = []\n",
    "\n",
    "N = 1000\n",
    "av_degree = 10\n",
    "p = av_degree/(N-1)\n",
    "m = int(av_degree/2)\n",
    "count = 0\n",
    "\n",
    "for count in np.arange(0,2,1):\n",
    "    # ER\n",
    "    Sf = [] \n",
    "    vnf = []\n",
    "    GER = nx.gnp_random_graph(N, p, seed=None, directed=False)\n",
    "    Sf,vnf = failures(GER)\n",
    "    Sf_er.append(Sf)\n",
    "    vnf_er.append(vnf)\n",
    "    \n",
    "    #BA,\n",
    "    Sf = [] \n",
    "    vnf = []\n",
    "    GBA = nx.barabasi_albert_graph(N, m)\n",
    "    Sf, vnf = failures(GBA)\n",
    "    Sf_ba.append(Sf)\n",
    "    vnf_ba.append(vnf)\n",
    "    \n",
    "    # Small worlds\n",
    "    Sf = [] \n",
    "    vnf = []\n",
    "    G_3 = nx.watts_strogatz_graph(N, m, 0.001, seed=None)\n",
    "    Sf, vnf = failures(G_3)\n",
    "    Sf_g3.append(Sf)\n",
    "    vnf_g3.append(vnf)\n",
    "    \n",
    "    Sf = [] \n",
    "    vnf = []\n",
    "    G_2 = nx.watts_strogatz_graph(N, m, 0.01, seed=None)\n",
    "    Sf, vnf = failures(G_2)\n",
    "    Sf_g2.append(Sf)\n",
    "    vnf_g2.append(vnf)\n",
    "    \n",
    "    Sf = [] \n",
    "    vnf = []\n",
    "    G_1 = nx.watts_strogatz_graph(N, m, 0.1, seed=None)\n",
    "    Sf, vnf = failures(G_1)\n",
    "    Sf_g1.append(Sf)\n",
    "    vnf_g1.append(vnf)\n",
    "\n",
    "    count = count + 1\n",
    "    \n",
    "sf_er = np.mean(np.array(Sf_er), axis = 0)\n",
    "Vnf_er = np.mean(np.array(vnf_er), axis = 0)\n",
    "sf_ba = np.mean(Sf_ba, axis = 0)\n",
    "Vnf_ba = np.mean(vnf_ba, axis = 0)\n",
    "sf_g3 = np.mean(Sf_g3, axis = 0)\n",
    "Vnf_g3 = np.mean(vnf_g3, axis = 0)\n",
    "sf_g2 = np.mean(Sf_g2, axis = 0)\n",
    "Vnf_g2 = np.mean(vnf_g2, axis = 0)\n",
    "sf_g1 = np.mean(Sf_g1, axis = 0)\n",
    "Vnf_g1 = np.mean(vnf_g1, axis = 0)\n",
    "\n",
    "plt.figure()\n",
    "plt.plot(Vnf_er,sf_er,'-or', label='ER')\n",
    "plt.plot(Vnf_ba,sf_ba,'-or', label='BA', color = 'g')\n",
    "plt.plot(Vnf_g3,sf_g3,'-or', label='G-0.001',color = 'b')\n",
    "plt.plot(Vnf_g2,sf_g2,'-or', label='G-0.01', color = 'y')\n",
    "plt.plot(Vnf_g1,sf_g1,'-or', label='G-0.1', color = 'm')\n",
    "\n",
    "plt.xlabel(\"f\", fontsize=20)\n",
    "plt.ylabel(\"S\", fontsize=20)\n",
    "plt.legend()\n",
    "plt.title(\"Failures\")\n",
    "plt.grid(True)\n",
    "plt.show(); "
   ]
  },
  {
   "cell_type": "markdown",
   "metadata": {},
   "source": [
    "Contra os ataques, as redes ER e BA são mais robustas por sofrerem quedas mais graduais, ao contrário das Small-world que caem mais drasticamente."
   ]
  },
  {
   "cell_type": "code",
   "execution_count": 4,
   "metadata": {},
   "outputs": [
    {
     "data": {
      "image/png": "[encoded data removed]",
      "text/plain": [
       "<Figure size 432x288 with 1 Axes>"
      ]
     },
     "metadata": {
      "needs_background": "light"
     },
     "output_type": "display_data"
    }
   ],
   "source": [
    "# Para os Ataques\n",
    "Sf_er = [] \n",
    "vnf_er = []\n",
    "Sf_ba = [] \n",
    "vnf_ba = []\n",
    "Sf_g3= [] \n",
    "vnf_g3 = []\n",
    "Sf_g2= [] \n",
    "vnf_g2 = []\n",
    "Sf_g1 = [] \n",
    "vnf_g1 = []\n",
    "\n",
    "N = 1000\n",
    "av_degree = 10\n",
    "p = av_degree/(N-1)\n",
    "m = int(av_degree/2)\n",
    "count = 0\n",
    "\n",
    "for count in np.arange(0,2,1):\n",
    "    # ER\n",
    "    Sf = [] \n",
    "    vnf = []\n",
    "    GER = nx.gnp_random_graph(N, p, seed=None, directed=False)\n",
    "    Sf,vnf = attacks(GER)\n",
    "    Sf_er.append(Sf)\n",
    "    vnf_er.append(vnf)\n",
    "    \n",
    "    #BA,\n",
    "    Sf = [] \n",
    "    vnf = []\n",
    "    GBA = nx.barabasi_albert_graph(N, m)\n",
    "    Sf, vnf = attacks(GBA)\n",
    "    Sf_ba.append(Sf)\n",
    "    vnf_ba.append(vnf)\n",
    "    \n",
    "    # Small words\n",
    "    Sf = [] \n",
    "    vnf = []\n",
    "    G_3 = nx.watts_strogatz_graph(N, m, 0.001, seed=None)\n",
    "    Sf, vnf = attacks(G_3)\n",
    "    Sf_g3.append(Sf)\n",
    "    vnf_g3.append(vnf)\n",
    "    \n",
    "    Sf = [] \n",
    "    vnf = []\n",
    "    G_2 = nx.watts_strogatz_graph(N, m, 0.01, seed=None)\n",
    "    Sf, vnf = attacks(G_2)\n",
    "    Sf_g2.append(Sf)\n",
    "    vnf_g2.append(vnf)\n",
    "    \n",
    "    Sf = [] \n",
    "    vnf = []\n",
    "    G_1 = nx.watts_strogatz_graph(N, m, 0.1, seed=None)\n",
    "    Sf, vnf = attacks(G_1)\n",
    "    Sf_g1.append(Sf)\n",
    "    vnf_g1.append(vnf)\n",
    "\n",
    "    count = count + 1\n",
    "    \n",
    "sf_er = np.mean(np.array(Sf_er), axis = 0)\n",
    "Vnf_er = np.mean(np.array(vnf_er), axis = 0)\n",
    "sf_ba = np.mean(Sf_ba, axis = 0)\n",
    "Vnf_ba = np.mean(vnf_ba, axis = 0)\n",
    "sf_g3 = np.mean(Sf_g3, axis = 0)\n",
    "Vnf_g3 = np.mean(vnf_g3, axis = 0)\n",
    "sf_g2 = np.mean(Sf_g2, axis = 0)\n",
    "Vnf_g2 = np.mean(vnf_g2, axis = 0)\n",
    "sf_g1 = np.mean(Sf_g1, axis = 0)\n",
    "Vnf_g1 = np.mean(vnf_g1, axis = 0)\n",
    "\n",
    "plt.figure()\n",
    "plt.plot(Vnf_er,sf_er,'-or', label='ER')\n",
    "plt.plot(Vnf_ba,sf_ba,'-or', label='BA', color = 'g')\n",
    "plt.plot(Vnf_g3,sf_g3,'-or', label='G-0.001',color = 'b')\n",
    "plt.plot(Vnf_g2,sf_g2,'-or', label='G-0.01', color = 'y')\n",
    "plt.plot(Vnf_g1,sf_g1,'-or', label='G-0.1', color = 'm')\n",
    "\n",
    "plt.xlabel(\"f\", fontsize=20)\n",
    "plt.ylabel(\"S\", fontsize=20)\n",
    "plt.legend()\n",
    "plt.title(\"Attacks\")\n",
    "plt.grid(True)\n",
    "plt.show(); "
   ]
  },
  {
   "cell_type": "markdown",
   "metadata": {},
   "source": [
    "Em relação aos ataques, ER continua sendo mais resistente, mas BA acaba tendo um comportamento mais parecido com as small-world.\n",
    "\n",
    "Outro ponto importante é o aumento da robusticidade nas redes de Watts Strogatz com  o decrescimento de p. "
   ]
  },
  {
   "cell_type": "markdown",
   "metadata": {},
   "source": [
    "III) Compare\tthe\tprotein\tnetworks\tin\tterms\tof\tfailures\tand\tattacks.\tWhich\tspecies\tis\tthe\tmost\trobust?"
   ]
  },
  {
   "cell_type": "code",
   "execution_count": 9,
   "metadata": {},
   "outputs": [],
   "source": [
    "# humam Protein\n",
    "hp = nx.read_edgelist(\"out.maayan-vidal.txt\") \n",
    "\n",
    "# C-elegans \n",
    "ce = nx.read_edgelist(\"C-elegans-protein-2007.txt\") \n",
    "\n",
    "# Mosquito interaction\n",
    "mo = nx.read_edgelist(\"mosquito.txt\") \n",
    "\n",
    "redes = [hp,ce, mo]"
   ]
  },
  {
   "cell_type": "code",
   "execution_count": 10,
   "metadata": {},
   "outputs": [
    {
     "ename": "AttributeError",
     "evalue": "module 'networkx' has no attribute 'connected_component_subgraphs'",
     "output_type": "error",
     "traceback": [
      "\u001b[1;31m---------------------------------------------------------------------------\u001b[0m",
      "\u001b[1;31mAttributeError\u001b[0m                            Traceback (most recent call last)",
      "\u001b[1;32m<ipython-input-10-2c15e01cb38d>\u001b[0m in \u001b[0;36m<module>\u001b[1;34m()\u001b[0m\n\u001b[1;32m----> 1\u001b[1;33m \u001b[0mSf\u001b[0m\u001b[1;33m,\u001b[0m \u001b[0mvnf\u001b[0m \u001b[1;33m=\u001b[0m \u001b[0mfailures\u001b[0m\u001b[1;33m(\u001b[0m\u001b[0mhp\u001b[0m\u001b[1;33m)\u001b[0m\u001b[1;33m\u001b[0m\u001b[0m\n\u001b[0m\u001b[0;32m      2\u001b[0m \u001b[0mSa\u001b[0m\u001b[1;33m,\u001b[0m\u001b[0mvna\u001b[0m \u001b[1;33m=\u001b[0m \u001b[0mattacks\u001b[0m\u001b[1;33m(\u001b[0m\u001b[0mhp\u001b[0m\u001b[1;33m)\u001b[0m\u001b[1;33m\u001b[0m\u001b[0m\n\u001b[0;32m      3\u001b[0m \u001b[1;33m\u001b[0m\u001b[0m\n\u001b[0;32m      4\u001b[0m \u001b[0mSf_ce\u001b[0m\u001b[1;33m,\u001b[0m \u001b[0mvnf_ce\u001b[0m \u001b[1;33m=\u001b[0m \u001b[0mfailures\u001b[0m\u001b[1;33m(\u001b[0m\u001b[0mce\u001b[0m\u001b[1;33m)\u001b[0m\u001b[1;33m\u001b[0m\u001b[0m\n\u001b[0;32m      5\u001b[0m \u001b[0mSa_ce\u001b[0m\u001b[1;33m,\u001b[0m\u001b[0mvna_ce\u001b[0m \u001b[1;33m=\u001b[0m \u001b[0mattacks\u001b[0m\u001b[1;33m(\u001b[0m\u001b[0mce\u001b[0m\u001b[1;33m)\u001b[0m\u001b[1;33m\u001b[0m\u001b[0m\n",
      "\u001b[1;32m<ipython-input-6-0a755920f470>\u001b[0m in \u001b[0;36mfailures\u001b[1;34m(H)\u001b[0m\n\u001b[0;32m      9\u001b[0m         \u001b[0mnode\u001b[0m \u001b[1;33m=\u001b[0m \u001b[0mrandom\u001b[0m\u001b[1;33m.\u001b[0m\u001b[0mchoice\u001b[0m\u001b[1;33m(\u001b[0m\u001b[0mG\u001b[0m\u001b[1;33m.\u001b[0m\u001b[0mnodes\u001b[0m\u001b[1;33m(\u001b[0m\u001b[1;33m)\u001b[0m\u001b[1;33m)\u001b[0m \u001b[1;31m#select the node on the largest component\u001b[0m\u001b[1;33m\u001b[0m\u001b[0m\n\u001b[0;32m     10\u001b[0m         \u001b[0mG\u001b[0m\u001b[1;33m.\u001b[0m\u001b[0mremove_node\u001b[0m\u001b[1;33m(\u001b[0m\u001b[0mnode\u001b[0m\u001b[1;33m)\u001b[0m\u001b[1;33m\u001b[0m\u001b[0m\n\u001b[1;32m---> 11\u001b[1;33m         \u001b[0mGcc\u001b[0m\u001b[1;33m=\u001b[0m\u001b[0msorted\u001b[0m\u001b[1;33m(\u001b[0m\u001b[0mnx\u001b[0m\u001b[1;33m.\u001b[0m\u001b[0mconnected_component_subgraphs\u001b[0m\u001b[1;33m(\u001b[0m\u001b[0mG\u001b[0m\u001b[1;33m)\u001b[0m\u001b[1;33m,\u001b[0m \u001b[0mkey\u001b[0m \u001b[1;33m=\u001b[0m \u001b[0mlen\u001b[0m\u001b[1;33m,\u001b[0m \u001b[0mreverse\u001b[0m\u001b[1;33m=\u001b[0m\u001b[1;32mTrue\u001b[0m\u001b[1;33m)\u001b[0m\u001b[1;33m\u001b[0m\u001b[0m\n\u001b[0m\u001b[0;32m     12\u001b[0m         \u001b[0mGlc\u001b[0m\u001b[1;33m=\u001b[0m\u001b[0mGcc\u001b[0m\u001b[1;33m[\u001b[0m\u001b[1;36m0\u001b[0m\u001b[1;33m]\u001b[0m\u001b[1;33m\u001b[0m\u001b[0m\n\u001b[0;32m     13\u001b[0m         \u001b[0mS\u001b[0m\u001b[1;33m.\u001b[0m\u001b[0mappend\u001b[0m\u001b[1;33m(\u001b[0m\u001b[0mlen\u001b[0m\u001b[1;33m(\u001b[0m\u001b[0mGlc\u001b[0m\u001b[1;33m)\u001b[0m\u001b[1;33m/\u001b[0m\u001b[0mN0\u001b[0m\u001b[1;33m)\u001b[0m \u001b[1;31m#store the size of the largest component\u001b[0m\u001b[1;33m\u001b[0m\u001b[0m\n",
      "\u001b[1;31mAttributeError\u001b[0m: module 'networkx' has no attribute 'connected_component_subgraphs'"
     ]
    }
   ],
   "source": [
    "Sf, vnf = failures(hp)\n",
    "Sa,vna = attacks(hp)\n",
    "\n",
    "Sf_ce, vnf_ce = failures(ce)\n",
    "Sa_ce,vna_ce = attacks(ce)\n",
    "\n",
    "Sf_mo, vnf_mo = failures(mo)\n",
    "Sa_mo, vnf_mo = attacks(mo)\n",
    "\n",
    "plt.figure()\n",
    "plt.plot(Sf,vnf,'-or', label='Human Protein', color = 'b')\n",
    "plt.plot(Sf_ce,vnf_ce,'-or', label='C-elegans', color = 'r')\n",
    "plt.plot(Sf_mo,vnf_mo,'-or', label='Mosquito', color = 'p')\n",
    "plt.legend()\n",
    "plt.title(\"Failures\")\n",
    "plt.show()\n",
    "\n",
    "plt.figure()\n",
    "plt.plot(Sa,vna,'-or', label='Human Protein', color = 'b')\n",
    "plt.plot(Sa_ce,vna_ce,'-or', label='C-elegans', color = 'r')\n",
    "plt.plot(Sa_mo,vna_mo,'-or', label='Mosquito', color = 'p')\n",
    "plt.legend()\n",
    "plt.title(\"Attacks\")\n",
    "plt.show()\n",
    "\n",
    "\n"
   ]
  },
  {
   "cell_type": "markdown",
   "metadata": {},
   "source": [
    "Human Protein parece ter uma melhor resistência, por ter um decrescimento menos brusco devido a ataques e falhas do que C-elegans."
   ]
  },
  {
   "cell_type": "markdown",
   "metadata": {},
   "source": [
    "IV) Santo\tFortunato networks\twith\tmu\t=\t0.1,\t0.3\tand\t0.5. For\tthese\tnetworks\tconstruct\tthe\tgraph\tof\tthe\tsize of\tthe\tlargest\tcomponent\tversus\tthe\tfraction\tof\tremoved\tnodes."
   ]
  },
  {
   "cell_type": "code",
   "execution_count": 2,
   "metadata": {},
   "outputs": [
    {
     "ename": "ImportError",
     "evalue": "cannot import name 'LFR_benchmark_graph'",
     "output_type": "error",
     "traceback": [
      "\u001b[1;31m---------------------------------------------------------------------------\u001b[0m",
      "\u001b[1;31mImportError\u001b[0m                               Traceback (most recent call last)",
      "\u001b[1;32m<ipython-input-2-e182fe394064>\u001b[0m in \u001b[0;36m<module>\u001b[1;34m()\u001b[0m\n\u001b[1;32m----> 1\u001b[1;33m \u001b[1;32mfrom\u001b[0m \u001b[0mnetworkx\u001b[0m\u001b[1;33m.\u001b[0m\u001b[0malgorithms\u001b[0m\u001b[1;33m.\u001b[0m\u001b[0mcommunity\u001b[0m \u001b[1;32mimport\u001b[0m \u001b[0mLFR_benchmark_graph\u001b[0m\u001b[1;33m\u001b[0m\u001b[0m\n\u001b[0m\u001b[0;32m      2\u001b[0m \u001b[1;32mfrom\u001b[0m \u001b[0msklearn\u001b[0m\u001b[1;33m.\u001b[0m\u001b[0mmetrics\u001b[0m \u001b[1;32mimport\u001b[0m \u001b[0mmutual_info_score\u001b[0m\u001b[1;33m\u001b[0m\u001b[0m\n\u001b[0;32m      3\u001b[0m \u001b[1;33m\u001b[0m\u001b[0m\n\u001b[0;32m      4\u001b[0m \u001b[0mN\u001b[0m \u001b[1;33m=\u001b[0m \u001b[1;36m1000\u001b[0m\u001b[1;33m\u001b[0m\u001b[0m\n\u001b[0;32m      5\u001b[0m \u001b[0mtau1\u001b[0m \u001b[1;33m=\u001b[0m \u001b[1;36m3\u001b[0m\u001b[1;33m\u001b[0m\u001b[0m\n",
      "\u001b[1;31mImportError\u001b[0m: cannot import name 'LFR_benchmark_graph'"
     ]
    }
   ],
   "source": [
    "from networkx.algorithms.community import LFR_benchmark_graph\n",
    "from sklearn.metrics import mutual_info_score\n",
    "\n",
    "N = 1000\n",
    "tau1 = 3\n",
    "tau2 = 1.5\n",
    "minc = 40\n",
    "        \n",
    "# Mu = 0.1    \n",
    "sf = LFR_benchmark_graph(n = N, tau1 = tau1, tau2 = tau2, mu = 0.1, min_community=minc, average_degree=5, seed = 1)\n",
    "# Mu = 0.3\n",
    "sf1 = LFR_benchmark_graph(n = N, tau1 = tau1, tau2 = tau2, mu = 0.3, min_community=minc, average_degree=5, seed = 1)\n",
    "# Mu = 0.5\n",
    "sf2 = LFR_benchmark_graph(n = N, tau1 = tau1, tau2 = tau2, mu = 0.5, min_community=minc, average_degree=5, seed = 1)"
   ]
  },
  {
   "cell_type": "code",
   "execution_count": null,
   "metadata": {},
   "outputs": [],
   "source": [
    "Sf, vnf = failures(sf)\n",
    "Sa, vna = attacks(sf)\n",
    "\n",
    "plt.figure()\n",
    "plt.plot(vnf,Sf,'-or', label='Failures')\n",
    "plt.plot(vna,Sa,'-ob', label='Attacks')\n",
    "plt.xlabel(\"f\", fontsize=20)\n",
    "plt.ylabel(\"S\", fontsize=20)\n",
    "plt.axvline(x=fc, color = 'g', label='fc failures')\n",
    "plt.legend()\n",
    "plt.grid(True)\n",
    "plt.show(); "
   ]
  },
  {
   "cell_type": "code",
   "execution_count": null,
   "metadata": {},
   "outputs": [],
   "source": [
    "Sf, vnf = failures(sf1)\n",
    "Sa, vna = attacks(sf1)\n",
    "\n",
    "plt.figure()\n",
    "plt.plot(vnf,Sf,'-or', label='Failures')\n",
    "plt.plot(vna,Sa,'-ob', label='Attacks')\n",
    "plt.xlabel(\"f\", fontsize=20)\n",
    "plt.ylabel(\"S\", fontsize=20)\n",
    "plt.axvline(x=fc, color = 'g', label='fc failures')\n",
    "plt.legend()\n",
    "plt.grid(True)\n",
    "plt.show(); "
   ]
  },
  {
   "cell_type": "code",
   "execution_count": null,
   "metadata": {},
   "outputs": [],
   "source": [
    "Sf, vnf = failures(sf2)\n",
    "Sa, vna = attacks(sf2)\n",
    "\n",
    "plt.figure()\n",
    "plt.plot(vnf,Sf,'-or', label='Failures')\n",
    "plt.plot(vna,Sa,'-ob', label='Attacks')\n",
    "plt.xlabel(\"f\", fontsize=20)\n",
    "plt.ylabel(\"S\", fontsize=20)\n",
    "plt.axvline(x=fc, color = 'g', label='fc failures')\n",
    "plt.legend()\n",
    "plt.grid(True)\n",
    "plt.show(); "
   ]
  },
  {
   "cell_type": "markdown",
   "metadata": {},
   "source": [
    "# Exercicio 2"
   ]
  },
  {
   "cell_type": "markdown",
   "metadata": {},
   "source": [
    "Epidemic\tspreading\n",
    "• Compare\tthe\tepidemic\tspreading\tin\tnetworks\tby\tsimulating\tthe\treactive\t\n",
    "case\tin\tErdös-Rényi\tnetworks,\tBarabási-Albert\tscale-free\tnetworks,\tand\t\n",
    "small-world\tnetworks\tfor\tp=0.001,\tp=0.01\tand\tp=0.1.\tN\t=\t500\te\t<k>=\t8.\t\n",
    "Construct\tthe\tcurves\tof\tthe\tfraction\tof\tinfected\tnodes\t(SIS\tmodel)\tversus\t\n",
    "lambda\t=\tbeta/mu,\twhere\tmu\t=\t1.\n",
    "• Consider\tthe\tsame\tanalysis\tfor\tthe\tSIR\tepidemic\tmodel."
   ]
  },
  {
   "cell_type": "code",
   "execution_count": 4,
   "metadata": {},
   "outputs": [],
   "source": [
    "# Network parameters\n",
    "N = 500 #number of nodes\n",
    "av_degree = 8 # average degree\n",
    "p = float(av_degree)/float(N) #probability of connection in the ER model\n",
    "m = int(av_degree/2) # number of added nodes in the BA model\n",
    "kappa = av_degree # number of neighbors in the WS model"
   ]
  },
  {
   "cell_type": "code",
   "execution_count": 5,
   "metadata": {},
   "outputs": [],
   "source": [
    "def fcritical(G):\n",
    "    def momment_of_degree_distribution2(G,m):\n",
    "        M = 0\n",
    "        N = len(G)\n",
    "        for i in G.nodes():\n",
    "            M = M + G.degree(i)**m\n",
    "        M = M/N\n",
    "        return M\n",
    "    f = 1 - 1/(momment_of_degree_distribution2(G,2)/momment_of_degree_distribution2(G,1) - 1)\n",
    "    return f"
   ]
  },
  {
   "cell_type": "code",
   "execution_count": 6,
   "metadata": {},
   "outputs": [],
   "source": [
    "def momment_of_degree_distribution(G,m):\n",
    "    M = 0\n",
    "    N = len(G)\n",
    "    for i in G.nodes():\n",
    "        M = M + G.degree(i)**m\n",
    "    M = M/N\n",
    "    return M"
   ]
  },
  {
   "cell_type": "markdown",
   "metadata": {},
   "source": [
    "### SIS"
   ]
  },
  {
   "cell_type": "code",
   "execution_count": 10,
   "metadata": {},
   "outputs": [],
   "source": [
    "#Funcao de SIS \n",
    "def SIS(G, mu=1, Tmax = 20):    \n",
    "    def posicao(v, i): # function to find the positions of an element in a vector\n",
    "        l = []\n",
    "        pos = 0\n",
    "        for x in v:\n",
    "            if(x == i):\n",
    "                l.append(pos)\n",
    "            pos = pos + 1\n",
    "        return l\n",
    "\n",
    "    vlbda = list()\n",
    "    rhoI = list() # vector that stores the fraction of infected nodes according to the parameter lambda\n",
    "    for lbd in arange(0,1, 0.05):\n",
    "        beta = lbd*mu\n",
    "        #Reactive process: SIR dynamics\n",
    "        Tmax = 20 #maximum number of steps\n",
    "        av_rho = np.zeros(Tmax)\n",
    "        for seed_node in G.nodes():\n",
    "            vector_states = np.zeros(N) # vector that stores the states of the vertices\n",
    "            vector_states[seed_node] = 1 # vector that stores the states\n",
    "            ninfected = 1\n",
    "            infected = list() # Stores the number of infected nodes at each time step\n",
    "            vrho = list()\n",
    "            # Reactive model\n",
    "            for t in arange(0, Tmax): # Simulate until a maximum number of steps Tmax\n",
    "                infected = posicao(vector_states,1) # list of infected nodes\n",
    "                for i in infected: # try to infect the neighbors\n",
    "                    neigs = G.neighbors(i)\n",
    "                    for j in neigs:\n",
    "                        if np.random.rand() < beta:\n",
    "                            vector_states[j] = 1\n",
    "                for k in infected: # try to recover the infected nodes\n",
    "                    if np.random.rand() < mu:\n",
    "                        vector_states[k] = 0\n",
    "                ninfected = len(posicao(vector_states,1))\n",
    "                vrho.append(ninfected/N)\n",
    "            for x in arange(0, len(vrho)):\n",
    "                av_rho[x] = av_rho[x] + vrho[x]\n",
    "        av_rho = av_rho/len(G.nodes())\n",
    "        rhoI.append(mean(av_rho[arange(int(0.8*Tmax), Tmax)]))\n",
    "        vlbda.append(lbd)\n",
    "        #print(lbd, mean(av_rho[arange(int(0.8*Tmax), Tmax)]))\n",
    "    return vlbda, rhoI"
   ]
  },
  {
   "cell_type": "code",
   "execution_count": 19,
   "metadata": {},
   "outputs": [],
   "source": [
    "# ER\n",
    "N = 500\n",
    "av_degree = 8\n",
    "p = av_degree/(N-1)\n",
    "m = int(av_degree/2)\n",
    "G = nx.gnp_random_graph(N, p, seed=None, directed=False)\n",
    "lbda_er, rho_er  = SIS(G)"
   ]
  },
  {
   "cell_type": "code",
   "execution_count": 20,
   "metadata": {},
   "outputs": [],
   "source": [
    "# Barabasi \n",
    "G = nx.barabasi_albert_graph(N, m)\n",
    "lbda_ba, rho_ba  = SIS(G)"
   ]
  },
  {
   "cell_type": "code",
   "execution_count": 21,
   "metadata": {},
   "outputs": [],
   "source": [
    "k = int(av_degree/2)\n",
    "G1 = nx.watts_strogatz_graph(N, k, 0.001, seed=None)\n",
    "G2 = nx.watts_strogatz_graph(N, k, 0.01, seed=None)\n",
    "G3 = nx.watts_strogatz_graph(N, k, 0.1, seed=None)\n",
    "lbda, rho  = SIS(G1)\n",
    "lbda1, rho1  = SIS(G2)\n",
    "lbda2, rho2  = SIS(G3)"
   ]
  },
  {
   "cell_type": "code",
   "execution_count": 24,
   "metadata": {},
   "outputs": [
    {
     "data": {
      "image/png": "[encoded data removed]",
      "text/plain": [
       "<Figure size 432x288 with 1 Axes>"
      ]
     },
     "metadata": {
      "needs_background": "light"
     },
     "output_type": "display_data"
    }
   ],
   "source": [
    "# plots\n",
    "\n",
    "plt.figure()\n",
    "plt.plot(lbda_er, rho_er, 'ro--', label='Simulation ER', color = 'y')\n",
    "plt.plot(lbda_ba, rho_ba, 'ro--', label='Simulation BA', color = 'm')\n",
    "plt.plot(lbda, rho, 'ro--', label='Simulation p=0.001', color = 'b')\n",
    "plt.plot(lbda1, rho1, 'ro--', label='Simulation p =0.01', color = 'g')\n",
    "plt.plot(lbda2, rho2, 'ro--', label= 'Simulation p = 0.1', color = 'r')\n",
    "\n",
    "plt.xlabel(\"lambda\", fontsize=15)\n",
    "plt.ylabel(\"Fraction of infected nodes\", fontsize=15)\n",
    "#lambda_c = momment_of_degree_distribution(G,1)/momment_of_degree_distribution(G,2)\n",
    "#plt.axvline(lambda_c, color = 'b', label='Theoretical lambda_c')\n",
    "plt.title('SIS')\n",
    "plt.legend()\n",
    "plt.grid(True)\n",
    "plt.show(True) "
   ]
  },
  {
   "cell_type": "markdown",
   "metadata": {},
   "source": [
    "### SIR"
   ]
  },
  {
   "cell_type": "code",
   "execution_count": 35,
   "metadata": {},
   "outputs": [],
   "source": [
    "def SIR(G):\n",
    "    # Epidemic parameters\n",
    "    # Probabilidade de infeccao \n",
    "    beta = 0.3\n",
    "    #Probabilidade de recuparacao\n",
    "    mu = 1  \n",
    "\n",
    "    def posicao(v, i):\n",
    "        l = []\n",
    "        pos = 0\n",
    "        for x in v:\n",
    "            if(x == i):\n",
    "                l.append(pos)\n",
    "            pos = pos + 1\n",
    "        return l\n",
    "    # Numaro max de iteracoes\n",
    "    Tmax = 20 \n",
    "    av_rho = np.zeros(Tmax)\n",
    "    for seed_node in G.nodes():\n",
    "        vector_states = np.zeros(N) # vector that stores the states of the vertices\n",
    "        vector_states[seed_node] = 1 # vector that stores the states\n",
    "        ninfected = 1\n",
    "        t = 0 # start in t= 0 \n",
    "        infected = list() # Stores the number of infected nodes at each time step\n",
    "        vt = list() #store the time step\n",
    "        vrho = list()\n",
    "        \n",
    "        while ninfected > 0: # Simulate while we can find infected nodes\n",
    "            infected = find(vector_states,1) # list of infected nodes\n",
    "            for i in infected: # try to infect the neighbors\n",
    "                neigs = G.neighbors(i)\n",
    "                for j in neigs:\n",
    "                    if np.random.rand() < beta:\n",
    "                        # verifica se nao houve resuperacao\n",
    "                        if(vector_states[j] != 2): \n",
    "                            vector_states[j] = 1\n",
    "            # tenta recuperar nos infectados\n",
    "            for k in infected: \n",
    "                if np.random.rand() < mu:\n",
    "                    vector_states[k] = 2\n",
    "            ninfected = len(find(vector_states,1))\n",
    "            vrho.append(ninfected/N)\n",
    "            t = t + 1\n",
    "            vt.append(t)\n",
    "        for x in arange(0, len(vrho)):\n",
    "            av_rho[x] = av_rho[x] + vrho[x]\n",
    "\n",
    "    av_rho = av_rho/len(G.nodes())\n",
    "    vt = arange(0, Tmax)\n",
    "    return vt, av_rho"
   ]
  },
  {
   "cell_type": "code",
   "execution_count": 39,
   "metadata": {},
   "outputs": [],
   "source": [
    "# ER\n",
    "N = 500\n",
    "av_degree = 8\n",
    "p = av_degree/(N-1)\n",
    "m = int(av_degree/2)\n",
    "G = nx.gnp_random_graph(N, p, seed=None, directed=False)\n",
    "vt_er, av_rho_er  = SIR(G)"
   ]
  },
  {
   "cell_type": "code",
   "execution_count": 40,
   "metadata": {},
   "outputs": [],
   "source": [
    "# Barabasi \n",
    "G = nx.barabasi_albert_graph(N, m)\n",
    "vt_ba, av_rho_ba  = SIR(G)"
   ]
  },
  {
   "cell_type": "code",
   "execution_count": 43,
   "metadata": {},
   "outputs": [],
   "source": [
    "# Small world \n",
    "k = int(av_degree/2)\n",
    "G1 = nx.watts_strogatz_graph(N, k, 0.001, seed=None)\n",
    "G2 = nx.watts_strogatz_graph(N, k, 0.01, seed=None)\n",
    "G3 = nx.watts_strogatz_graph(N, k, 0.1, seed=None)\n",
    "vt, av_rho  = SIR(G1)\n",
    "vt1, av_rho1  = SIR(G2)\n",
    "vt2, av_rho2  = SIR(G3)"
   ]
  },
  {
   "cell_type": "code",
   "execution_count": 47,
   "metadata": {},
   "outputs": [
    {
     "data": {
      "image/png": "[encoded data removed]",
      "text/plain": [
       "<Figure size 432x288 with 1 Axes>"
      ]
     },
     "metadata": {
      "needs_background": "light"
     },
     "output_type": "display_data"
    }
   ],
   "source": [
    "plt.figure()\n",
    "plt.plot(vt_er, av_rho_er, 'ro--', label='Infected - ER', color = 'y')\n",
    "plt.plot(vt_ba, av_rho_ba, 'ro--', label='Infected - BA', color = 'm')\n",
    "\n",
    "plt.plot(vt, av_rho, 'ro--', label='Infected p=0.001', color = 'b')\n",
    "plt.plot(vt1, av_rho1, 'ro--', label='Infected p=0.01', color = 'g')\n",
    "plt.plot(vt2, av_rho2, 'ro--', label='Infected p=0.1', color = 'r')\n",
    "\n",
    "plt.xlabel(\"t\", fontsize=15)\n",
    "plt.ylabel(\"Fraction of infected nodes\", fontsize=15)\n",
    "plt.legend()\n",
    "plt.title('SIR')\n",
    "plt.grid(True)\n",
    "plt.show(True) "
   ]
  },
  {
   "cell_type": "code",
   "execution_count": 48,
   "metadata": {},
   "outputs": [
    {
     "data": {
      "image/png": "[encoded data removed]",
      "text/plain": [
       "<Figure size 432x288 with 1 Axes>"
      ]
     },
     "metadata": {
      "needs_background": "light"
     },
     "output_type": "display_data"
    }
   ],
   "source": [
    "# plt.plot(vt, av_rho, 'ro--', label='Infected p=0.001', color = 'b')\n",
    "# plt.plot(vt1, av_rho1, 'ro--', label='Infected p=0.01', color = 'g')\n",
    "# plt.plot(vt2, av_rho2, 'ro--', label='Infected p=0.1', color = 'r')\n",
    "\n",
    "# plt.xlabel(\"t\", fontsize=15)\n",
    "# plt.ylabel(\"Fraction of infected nodes\", fontsize=15)\n",
    "# plt.legend()\n",
    "# plt.title('SIR')\n",
    "# plt.grid(True)\n",
    "# plt.show(True) "
   ]
  },
  {
   "cell_type": "markdown",
   "metadata": {},
   "source": [
    "## Exercicio 3 "
   ]
  },
  {
   "cell_type": "markdown",
   "metadata": {},
   "source": [
    "Construct\tthe\tplot\tof\tthe\tfraction\tof\tremoved\tnodes\t(in\tthe\tSIR\tdynamics)\t\n",
    "versus\ta\tcentrality\tmeasure\t(degree,\tbetweenness\tcentrality,\tcloseness\t\n",
    "centrality,\teigenvector\tcentrality,\taccessibility,\tk-core\tand\t\n",
    "communicability\tcentrality).\tVerify\twhich\tof\tthese\tmeasures\tmost\t\n",
    "influence\tthe\tfraction\tof\tremoved\tnodes."
   ]
  },
  {
   "cell_type": "code",
   "execution_count": 7,
   "metadata": {},
   "outputs": [],
   "source": [
    "G1 = nx.read_edgelist(\"hamster.txt\", nodetype=int, data=(('weight',float),))"
   ]
  },
  {
   "cell_type": "code",
   "execution_count": 12,
   "metadata": {},
   "outputs": [],
   "source": [
    "G2 = nx.read_edgelist(\"C-elegans-protein-2007.txt\")#, nodetype=int, data=(('weight',float),)"
   ]
  },
  {
   "cell_type": "code",
   "execution_count": 2,
   "metadata": {},
   "outputs": [],
   "source": [
    "G = nx.read_edgelist(\"usairport.txt\", nodetype = int, data = (('weight', float),))"
   ]
  },
  {
   "cell_type": "markdown",
   "metadata": {},
   "source": [
    "A) Hamster "
   ]
  },
  {
   "cell_type": "code",
   "execution_count": 3,
   "metadata": {},
   "outputs": [],
   "source": [
    "#SIR considerando apenas o último valor da curva 'retirada' e o nó semente como parametro. \n",
    "\n",
    "# Random walk accessibility\n",
    "def acc(G1):\n",
    "    N = len(G1.nodes())\n",
    "    vk = dict(G1.degree())\n",
    "    vk = list(vk.values())\n",
    "    A = nx.adjacency_matrix(G1)\n",
    "    P = np.zeros((N,N), dtype = 'float')\n",
    "    for i in np.arange(0, N):\n",
    "        for j in np.arange(i, N):\n",
    "            if vk[i] != 0:\n",
    "                P[i,j] = A[i,j]/vk[i]\n",
    "            else:\n",
    "                P[i,j] = 0\n",
    "            P[j,i] = P[i,j]\n",
    "    P2 = expm(P)/np.exp(1)\n",
    "    vacc = np.zeros(N, dtype = float)\n",
    "    for i in np.arange(0, N):\n",
    "        acc = 0\n",
    "        for j in np.arange(0,N):\n",
    "            if(P2[i,j] > 0):\n",
    "                acc = acc + P2[i,j]*np.log(P2[i,j])\n",
    "        acc = np.exp(-acc)\n",
    "        vacc[i] = acc\n",
    "    return vacc\n",
    "\n",
    "# Communicability centrality\n",
    "def com(G1):\n",
    "    N = len(G1.nodes())\n",
    "    A = nx.adjacency_matrix(G1)\n",
    "    C = expm(A)\n",
    "    com = np.zeros(N)\n",
    "    for i in range(N):\n",
    "        com[i] = C[i,i]\n",
    "    return com\n",
    "\n",
    "#Função de achar posições de elementos num vetor\n",
    "def posicao(v, i):\n",
    "    l = []\n",
    "    pos = 0\n",
    "    for x in v:\n",
    "        if(x == i):\n",
    "            l.append(pos)\n",
    "        pos = pos + 1\n",
    "    return l\n",
    "\n",
    "# Reactive process: SIR dynamics\n",
    "def sir_process(G1, beta, mu, seed_node):\n",
    "    N = len(G1)\n",
    "    vector_states = np.zeros(N) # vector that stores the states of the vertices\n",
    "    vector_states[seed_node] = 1 # vector that stores the states\n",
    "    ninfected = 1\n",
    "    t = 0 # start in t= 0 \n",
    "    infected = list() # Stores the number of infected nodes at each time step\n",
    "    vt = list() #store the time step\n",
    "    vrho = list()\n",
    "    vR = list()\n",
    "    vS = list()\n",
    "    # Reactive model\n",
    "    while ninfected > 0: # Simulate while we can find infected nodes\n",
    "        infected = posicao(vector_states,1) # list of infected nodes\n",
    "        for i in infected: # try to infect the neighbors\n",
    "            neigs = G1.neighbors(i)\n",
    "            for j in neigs:\n",
    "                if np.random.rand() < beta:\n",
    "                    if(vector_states[j] != 2): # verify if the node is not recovered\n",
    "                        vector_states[j] = 1\n",
    "        for k in infected: # try to recover the infected nodes\n",
    "            if np.random.rand() < mu:\n",
    "                vector_states[k] = 2\n",
    "        ninfected = len(posicao(vector_states,1))\n",
    "        vrho.append(ninfected/N)\n",
    "        vR.append(len(posicao(vector_states,2))/N)\n",
    "        vS.append(len(posicao(vector_states,0))/N)\n",
    "        t = t + 1\n",
    "        vt.append(t)\n",
    "    return vR[-1]"
   ]
  },
  {
   "cell_type": "code",
   "execution_count": 4,
   "metadata": {},
   "outputs": [
    {
     "ename": "KeyboardInterrupt",
     "evalue": "",
     "output_type": "error",
     "traceback": [
      "\u001b[1;31m---------------------------------------------------------------------------\u001b[0m",
      "\u001b[1;31mKeyboardInterrupt\u001b[0m                         Traceback (most recent call last)",
      "\u001b[1;32m<ipython-input-4-067c1be9254a>\u001b[0m in \u001b[0;36m<module>\u001b[1;34m()\u001b[0m\n\u001b[0;32m      6\u001b[0m \u001b[0mace_c\u001b[0m \u001b[1;33m=\u001b[0m \u001b[0macc\u001b[0m\u001b[1;33m(\u001b[0m\u001b[0mG\u001b[0m\u001b[1;33m)\u001b[0m \u001b[1;31m# random walk acessibility\u001b[0m\u001b[1;33m\u001b[0m\u001b[0m\n\u001b[0;32m      7\u001b[0m \u001b[0mkco_c\u001b[0m \u001b[1;33m=\u001b[0m \u001b[0mlist\u001b[0m\u001b[1;33m(\u001b[0m\u001b[0mdict\u001b[0m\u001b[1;33m(\u001b[0m\u001b[0mnx\u001b[0m\u001b[1;33m.\u001b[0m\u001b[0mcore_number\u001b[0m\u001b[1;33m(\u001b[0m\u001b[0mG\u001b[0m\u001b[1;33m)\u001b[0m\u001b[1;33m)\u001b[0m\u001b[1;33m.\u001b[0m\u001b[0mvalues\u001b[0m\u001b[1;33m(\u001b[0m\u001b[1;33m)\u001b[0m\u001b[1;33m)\u001b[0m \u001b[1;31m# k-core\u001b[0m\u001b[1;33m\u001b[0m\u001b[0m\n\u001b[1;32m----> 8\u001b[1;33m \u001b[0mcom_c\u001b[0m \u001b[1;33m=\u001b[0m \u001b[0mcom\u001b[0m\u001b[1;33m(\u001b[0m\u001b[0mG\u001b[0m\u001b[1;33m)\u001b[0m \u001b[1;31m# comunicability centrality\u001b[0m\u001b[1;33m\u001b[0m\u001b[0m\n\u001b[0m",
      "\u001b[1;32m<ipython-input-3-4f1c128972f0>\u001b[0m in \u001b[0;36mcom\u001b[1;34m(G)\u001b[0m\n\u001b[0;32m     31\u001b[0m     \u001b[0mN\u001b[0m \u001b[1;33m=\u001b[0m \u001b[0mlen\u001b[0m\u001b[1;33m(\u001b[0m\u001b[0mG\u001b[0m\u001b[1;33m.\u001b[0m\u001b[0mnodes\u001b[0m\u001b[1;33m(\u001b[0m\u001b[1;33m)\u001b[0m\u001b[1;33m)\u001b[0m\u001b[1;33m\u001b[0m\u001b[0m\n\u001b[0;32m     32\u001b[0m     \u001b[0mA\u001b[0m \u001b[1;33m=\u001b[0m \u001b[0mnx\u001b[0m\u001b[1;33m.\u001b[0m\u001b[0madjacency_matrix\u001b[0m\u001b[1;33m(\u001b[0m\u001b[0mG\u001b[0m\u001b[1;33m)\u001b[0m\u001b[1;33m\u001b[0m\u001b[0m\n\u001b[1;32m---> 33\u001b[1;33m     \u001b[0mC\u001b[0m \u001b[1;33m=\u001b[0m \u001b[0mexpm\u001b[0m\u001b[1;33m(\u001b[0m\u001b[0mA\u001b[0m\u001b[1;33m)\u001b[0m\u001b[1;33m\u001b[0m\u001b[0m\n\u001b[0m\u001b[0;32m     34\u001b[0m     \u001b[0mcom\u001b[0m \u001b[1;33m=\u001b[0m \u001b[0mnp\u001b[0m\u001b[1;33m.\u001b[0m\u001b[0mzeros\u001b[0m\u001b[1;33m(\u001b[0m\u001b[0mN\u001b[0m\u001b[1;33m)\u001b[0m\u001b[1;33m\u001b[0m\u001b[0m\n\u001b[0;32m     35\u001b[0m     \u001b[1;32mfor\u001b[0m \u001b[0mi\u001b[0m \u001b[1;32min\u001b[0m \u001b[0mrange\u001b[0m\u001b[1;33m(\u001b[0m\u001b[0mN\u001b[0m\u001b[1;33m)\u001b[0m\u001b[1;33m:\u001b[0m\u001b[1;33m\u001b[0m\u001b[0m\n",
      "\u001b[1;32m~\\Documents\\Anaconda\\lib\\site-packages\\scipy\\linalg\\matfuncs.py\u001b[0m in \u001b[0;36mexpm\u001b[1;34m(A)\u001b[0m\n\u001b[0;32m    254\u001b[0m     \u001b[1;31m# Input checking and conversion is provided by sparse.linalg.expm().\u001b[0m\u001b[1;33m\u001b[0m\u001b[1;33m\u001b[0m\u001b[0m\n\u001b[0;32m    255\u001b[0m     \u001b[1;32mimport\u001b[0m \u001b[0mscipy\u001b[0m\u001b[1;33m.\u001b[0m\u001b[0msparse\u001b[0m\u001b[1;33m.\u001b[0m\u001b[0mlinalg\u001b[0m\u001b[1;33m\u001b[0m\u001b[0m\n\u001b[1;32m--> 256\u001b[1;33m     \u001b[1;32mreturn\u001b[0m \u001b[0mscipy\u001b[0m\u001b[1;33m.\u001b[0m\u001b[0msparse\u001b[0m\u001b[1;33m.\u001b[0m\u001b[0mlinalg\u001b[0m\u001b[1;33m.\u001b[0m\u001b[0mexpm\u001b[0m\u001b[1;33m(\u001b[0m\u001b[0mA\u001b[0m\u001b[1;33m)\u001b[0m\u001b[1;33m\u001b[0m\u001b[0m\n\u001b[0m\u001b[0;32m    257\u001b[0m \u001b[1;33m\u001b[0m\u001b[0m\n\u001b[0;32m    258\u001b[0m \u001b[1;33m\u001b[0m\u001b[0m\n",
      "\u001b[1;32m~\\Documents\\Anaconda\\lib\\site-packages\\scipy\\sparse\\linalg\\matfuncs.py\u001b[0m in \u001b[0;36mexpm\u001b[1;34m(A)\u001b[0m\n\u001b[0;32m    604\u001b[0m             [  0.        ,   0.        ,  20.08553692]])\n\u001b[0;32m    605\u001b[0m     \"\"\"\n\u001b[1;32m--> 606\u001b[1;33m     \u001b[1;32mreturn\u001b[0m \u001b[0m_expm\u001b[0m\u001b[1;33m(\u001b[0m\u001b[0mA\u001b[0m\u001b[1;33m,\u001b[0m \u001b[0muse_exact_onenorm\u001b[0m\u001b[1;33m=\u001b[0m\u001b[1;34m'auto'\u001b[0m\u001b[1;33m)\u001b[0m\u001b[1;33m\u001b[0m\u001b[0m\n\u001b[0m\u001b[0;32m    607\u001b[0m \u001b[1;33m\u001b[0m\u001b[0m\n\u001b[0;32m    608\u001b[0m \u001b[1;33m\u001b[0m\u001b[0m\n",
      "\u001b[1;32m~\\Documents\\Anaconda\\lib\\site-packages\\scipy\\sparse\\linalg\\matfuncs.py\u001b[0m in \u001b[0;36m_expm\u001b[1;34m(A, use_exact_onenorm)\u001b[0m\n\u001b[0;32m    652\u001b[0m \u001b[1;33m\u001b[0m\u001b[0m\n\u001b[0;32m    653\u001b[0m     \u001b[1;31m# Try Pade orders 7 and 9.\u001b[0m\u001b[1;33m\u001b[0m\u001b[1;33m\u001b[0m\u001b[0m\n\u001b[1;32m--> 654\u001b[1;33m     \u001b[0meta_3\u001b[0m \u001b[1;33m=\u001b[0m \u001b[0mmax\u001b[0m\u001b[1;33m(\u001b[0m\u001b[0mh\u001b[0m\u001b[1;33m.\u001b[0m\u001b[0md6_tight\u001b[0m\u001b[1;33m,\u001b[0m \u001b[0mh\u001b[0m\u001b[1;33m.\u001b[0m\u001b[0md8_loose\u001b[0m\u001b[1;33m)\u001b[0m\u001b[1;33m\u001b[0m\u001b[0m\n\u001b[0m\u001b[0;32m    655\u001b[0m     \u001b[1;32mif\u001b[0m \u001b[0meta_3\u001b[0m \u001b[1;33m<\u001b[0m \u001b[1;36m9.504178996162932e-001\u001b[0m \u001b[1;32mand\u001b[0m \u001b[0m_ell\u001b[0m\u001b[1;33m(\u001b[0m\u001b[0mh\u001b[0m\u001b[1;33m.\u001b[0m\u001b[0mA\u001b[0m\u001b[1;33m,\u001b[0m \u001b[1;36m7\u001b[0m\u001b[1;33m)\u001b[0m \u001b[1;33m==\u001b[0m \u001b[1;36m0\u001b[0m\u001b[1;33m:\u001b[0m\u001b[1;33m\u001b[0m\u001b[0m\n\u001b[0;32m    656\u001b[0m         \u001b[0mU\u001b[0m\u001b[1;33m,\u001b[0m \u001b[0mV\u001b[0m \u001b[1;33m=\u001b[0m \u001b[0mh\u001b[0m\u001b[1;33m.\u001b[0m\u001b[0mpade7\u001b[0m\u001b[1;33m(\u001b[0m\u001b[1;33m)\u001b[0m\u001b[1;33m\u001b[0m\u001b[0m\n",
      "\u001b[1;32m~\\Documents\\Anaconda\\lib\\site-packages\\scipy\\sparse\\linalg\\matfuncs.py\u001b[0m in \u001b[0;36md6_tight\u001b[1;34m(self)\u001b[0m\n\u001b[0;32m    438\u001b[0m     \u001b[1;32mdef\u001b[0m \u001b[0md6_tight\u001b[0m\u001b[1;33m(\u001b[0m\u001b[0mself\u001b[0m\u001b[1;33m)\u001b[0m\u001b[1;33m:\u001b[0m\u001b[1;33m\u001b[0m\u001b[0m\n\u001b[0;32m    439\u001b[0m         \u001b[1;32mif\u001b[0m \u001b[0mself\u001b[0m\u001b[1;33m.\u001b[0m\u001b[0m_d6_exact\u001b[0m \u001b[1;32mis\u001b[0m \u001b[1;32mNone\u001b[0m\u001b[1;33m:\u001b[0m\u001b[1;33m\u001b[0m\u001b[0m\n\u001b[1;32m--> 440\u001b[1;33m             \u001b[0mself\u001b[0m\u001b[1;33m.\u001b[0m\u001b[0m_d6_exact\u001b[0m \u001b[1;33m=\u001b[0m \u001b[0m_onenorm\u001b[0m\u001b[1;33m(\u001b[0m\u001b[0mself\u001b[0m\u001b[1;33m.\u001b[0m\u001b[0mA6\u001b[0m\u001b[1;33m)\u001b[0m\u001b[1;33m**\u001b[0m\u001b[1;33m(\u001b[0m\u001b[1;36m1\u001b[0m\u001b[1;33m/\u001b[0m\u001b[1;36m6.\u001b[0m\u001b[1;33m)\u001b[0m\u001b[1;33m\u001b[0m\u001b[0m\n\u001b[0m\u001b[0;32m    441\u001b[0m         \u001b[1;32mreturn\u001b[0m \u001b[0mself\u001b[0m\u001b[1;33m.\u001b[0m\u001b[0m_d6_exact\u001b[0m\u001b[1;33m\u001b[0m\u001b[0m\n\u001b[0;32m    442\u001b[0m \u001b[1;33m\u001b[0m\u001b[0m\n",
      "\u001b[1;32m~\\Documents\\Anaconda\\lib\\site-packages\\scipy\\sparse\\linalg\\matfuncs.py\u001b[0m in \u001b[0;36mA6\u001b[1;34m(self)\u001b[0m\n\u001b[0;32m    412\u001b[0m         \u001b[1;32mif\u001b[0m \u001b[0mself\u001b[0m\u001b[1;33m.\u001b[0m\u001b[0m_A6\u001b[0m \u001b[1;32mis\u001b[0m \u001b[1;32mNone\u001b[0m\u001b[1;33m:\u001b[0m\u001b[1;33m\u001b[0m\u001b[0m\n\u001b[0;32m    413\u001b[0m             self._A6 = _smart_matrix_product(\n\u001b[1;32m--> 414\u001b[1;33m                     self.A4, self.A2, structure=self.structure)\n\u001b[0m\u001b[0;32m    415\u001b[0m         \u001b[1;32mreturn\u001b[0m \u001b[0mself\u001b[0m\u001b[1;33m.\u001b[0m\u001b[0m_A6\u001b[0m\u001b[1;33m\u001b[0m\u001b[0m\n\u001b[0;32m    416\u001b[0m \u001b[1;33m\u001b[0m\u001b[0m\n",
      "\u001b[1;32m~\\Documents\\Anaconda\\lib\\site-packages\\scipy\\sparse\\linalg\\matfuncs.py\u001b[0m in \u001b[0;36m_smart_matrix_product\u001b[1;34m(A, B, alpha, structure)\u001b[0m\n\u001b[0;32m    179\u001b[0m     \u001b[1;32melse\u001b[0m\u001b[1;33m:\u001b[0m\u001b[1;33m\u001b[0m\u001b[0m\n\u001b[0;32m    180\u001b[0m         \u001b[1;32mif\u001b[0m \u001b[0malpha\u001b[0m \u001b[1;32mis\u001b[0m \u001b[1;32mNone\u001b[0m\u001b[1;33m:\u001b[0m\u001b[1;33m\u001b[0m\u001b[0m\n\u001b[1;32m--> 181\u001b[1;33m             \u001b[0mout\u001b[0m \u001b[1;33m=\u001b[0m \u001b[0mA\u001b[0m\u001b[1;33m.\u001b[0m\u001b[0mdot\u001b[0m\u001b[1;33m(\u001b[0m\u001b[0mB\u001b[0m\u001b[1;33m)\u001b[0m\u001b[1;33m\u001b[0m\u001b[0m\n\u001b[0m\u001b[0;32m    182\u001b[0m         \u001b[1;32melse\u001b[0m\u001b[1;33m:\u001b[0m\u001b[1;33m\u001b[0m\u001b[0m\n\u001b[0;32m    183\u001b[0m             \u001b[0mout\u001b[0m \u001b[1;33m=\u001b[0m \u001b[0malpha\u001b[0m \u001b[1;33m*\u001b[0m \u001b[0mA\u001b[0m\u001b[1;33m.\u001b[0m\u001b[0mdot\u001b[0m\u001b[1;33m(\u001b[0m\u001b[0mB\u001b[0m\u001b[1;33m)\u001b[0m\u001b[1;33m\u001b[0m\u001b[0m\n",
      "\u001b[1;32m~\\Documents\\Anaconda\\lib\\site-packages\\scipy\\sparse\\base.py\u001b[0m in \u001b[0;36mdot\u001b[1;34m(self, other)\u001b[0m\n\u001b[0;32m    359\u001b[0m \u001b[1;33m\u001b[0m\u001b[0m\n\u001b[0;32m    360\u001b[0m         \"\"\"\n\u001b[1;32m--> 361\u001b[1;33m         \u001b[1;32mreturn\u001b[0m \u001b[0mself\u001b[0m \u001b[1;33m*\u001b[0m \u001b[0mother\u001b[0m\u001b[1;33m\u001b[0m\u001b[0m\n\u001b[0m\u001b[0;32m    362\u001b[0m \u001b[1;33m\u001b[0m\u001b[0m\n\u001b[0;32m    363\u001b[0m     \u001b[1;32mdef\u001b[0m \u001b[0mpower\u001b[0m\u001b[1;33m(\u001b[0m\u001b[0mself\u001b[0m\u001b[1;33m,\u001b[0m \u001b[0mn\u001b[0m\u001b[1;33m,\u001b[0m \u001b[0mdtype\u001b[0m\u001b[1;33m=\u001b[0m\u001b[1;32mNone\u001b[0m\u001b[1;33m)\u001b[0m\u001b[1;33m:\u001b[0m\u001b[1;33m\u001b[0m\u001b[0m\n",
      "\u001b[1;32m~\\Documents\\Anaconda\\lib\\site-packages\\scipy\\sparse\\base.py\u001b[0m in \u001b[0;36m__mul__\u001b[1;34m(self, other)\u001b[0m\n\u001b[0;32m    477\u001b[0m             \u001b[1;32mif\u001b[0m \u001b[0mself\u001b[0m\u001b[1;33m.\u001b[0m\u001b[0mshape\u001b[0m\u001b[1;33m[\u001b[0m\u001b[1;36m1\u001b[0m\u001b[1;33m]\u001b[0m \u001b[1;33m!=\u001b[0m \u001b[0mother\u001b[0m\u001b[1;33m.\u001b[0m\u001b[0mshape\u001b[0m\u001b[1;33m[\u001b[0m\u001b[1;36m0\u001b[0m\u001b[1;33m]\u001b[0m\u001b[1;33m:\u001b[0m\u001b[1;33m\u001b[0m\u001b[0m\n\u001b[0;32m    478\u001b[0m                 \u001b[1;32mraise\u001b[0m \u001b[0mValueError\u001b[0m\u001b[1;33m(\u001b[0m\u001b[1;34m'dimension mismatch'\u001b[0m\u001b[1;33m)\u001b[0m\u001b[1;33m\u001b[0m\u001b[0m\n\u001b[1;32m--> 479\u001b[1;33m             \u001b[1;32mreturn\u001b[0m \u001b[0mself\u001b[0m\u001b[1;33m.\u001b[0m\u001b[0m_mul_sparse_matrix\u001b[0m\u001b[1;33m(\u001b[0m\u001b[0mother\u001b[0m\u001b[1;33m)\u001b[0m\u001b[1;33m\u001b[0m\u001b[0m\n\u001b[0m\u001b[0;32m    480\u001b[0m \u001b[1;33m\u001b[0m\u001b[0m\n\u001b[0;32m    481\u001b[0m         \u001b[1;31m# If it's a list or whatever, treat it like a matrix\u001b[0m\u001b[1;33m\u001b[0m\u001b[1;33m\u001b[0m\u001b[0m\n",
      "\u001b[1;32m~\\Documents\\Anaconda\\lib\\site-packages\\scipy\\sparse\\compressed.py\u001b[0m in \u001b[0;36m_mul_sparse_matrix\u001b[1;34m(self, other)\u001b[0m\n\u001b[0;32m    493\u001b[0m            \u001b[0mnp\u001b[0m\u001b[1;33m.\u001b[0m\u001b[0masarray\u001b[0m\u001b[1;33m(\u001b[0m\u001b[0mother\u001b[0m\u001b[1;33m.\u001b[0m\u001b[0mindptr\u001b[0m\u001b[1;33m,\u001b[0m \u001b[0mdtype\u001b[0m\u001b[1;33m=\u001b[0m\u001b[0midx_dtype\u001b[0m\u001b[1;33m)\u001b[0m\u001b[1;33m,\u001b[0m\u001b[1;33m\u001b[0m\u001b[0m\n\u001b[0;32m    494\u001b[0m            \u001b[0mnp\u001b[0m\u001b[1;33m.\u001b[0m\u001b[0masarray\u001b[0m\u001b[1;33m(\u001b[0m\u001b[0mother\u001b[0m\u001b[1;33m.\u001b[0m\u001b[0mindices\u001b[0m\u001b[1;33m,\u001b[0m \u001b[0mdtype\u001b[0m\u001b[1;33m=\u001b[0m\u001b[0midx_dtype\u001b[0m\u001b[1;33m)\u001b[0m\u001b[1;33m,\u001b[0m\u001b[1;33m\u001b[0m\u001b[0m\n\u001b[1;32m--> 495\u001b[1;33m            indptr)\n\u001b[0m\u001b[0;32m    496\u001b[0m \u001b[1;33m\u001b[0m\u001b[0m\n\u001b[0;32m    497\u001b[0m         \u001b[0mnnz\u001b[0m \u001b[1;33m=\u001b[0m \u001b[0mindptr\u001b[0m\u001b[1;33m[\u001b[0m\u001b[1;33m-\u001b[0m\u001b[1;36m1\u001b[0m\u001b[1;33m]\u001b[0m\u001b[1;33m\u001b[0m\u001b[0m\n",
      "\u001b[1;31mKeyboardInterrupt\u001b[0m: "
     ]
    }
   ],
   "source": [
    "# degree centrality\n",
    "deg_c =  list(dict(G1.degree()).values())\n",
    "# betweness centrality\n",
    "bet_c = list(dict(nx.betweenness_centrality(G1)).values()) \n",
    " # closeness centrality\n",
    "clo_c = list(dict(nx.closeness_centrality(G1)).values())\n",
    "# eigenvector centrality\n",
    "eig_c = list(dict(nx.eigenvector_centrality(G1, max_iter = 1000)).values()) \n",
    "# random walk acessibility\n",
    "ace_c = acc(G1) \n",
    "# k-core\n",
    "kco_c = list(dict(nx.core_number(G1)).values()) \n",
    "# comunicability centrality\n",
    "com_c = com(G1) "
   ]
  },
  {
   "cell_type": "code",
   "execution_count": null,
   "metadata": {},
   "outputs": [],
   "source": [
    "#Considera o ultimo valor de nos recuperados mudando a semente\n",
    "for count, beta in enumerate(betas):\n",
    "    print(beta, '\\n')\n",
    "    vR = []\n",
    "    for node in G1.nodes():\n",
    "        print(round(node/len(G1.nodes()), 3), end = '\\r')\n",
    "        aux = []\n",
    "        for i in range(N):\n",
    "            aux.append(sir_process(G1, beta, mu, node))\n",
    "        vR.append(np.mean(aux))\n",
    "    vR_beta.append(vR)\n",
    "    print('\\n')"
   ]
  },
  {
   "cell_type": "code",
   "execution_count": null,
   "metadata": {},
   "outputs": [],
   "source": [
    "props = dict(boxstyle='round', facecolor='wheat', alpha=0.5) \n",
    "plt.figure(figsize = (20,50))\n",
    "\n",
    "plt.suptitle('Fracao de nos recuperados x degree centrality de US airport - SIR ', fontsize = 15, y = 0.9)\n",
    "\n",
    "# Degree centrality\n",
    "for count, i in enumerate(betas):\n",
    "    # Pearson correlation\n",
    "    cor = np.corrcoef(deg_c, vR_beta[count])[0,1]\n",
    "    # Plot\n",
    "    plt.subplot(7, 3, count+1)\n",
    "    plt.title('($\\\\beta$={})'.format(i), fontsize = 15)\n",
    "    plt.scatter(deg_c, vR_beta[count], label = 'corr={}'.format(round(cor,2)))\n",
    "    plt.xlabel('Degree centrality', fontsize = 15)\n",
    "    plt.ylabel('Fraction of recovered nodes', fontsize = 15)\n",
    "    plt.xticks(fontsize = 15)\n",
    "    plt.yticks(fontsize = 15)\n",
    "    plt.grid()\n",
    "    plt.legend(fontsize = 15)\n",
    "\n",
    "# Betweness centrality\n",
    "for count, i in enumerate(betas):\n",
    "    # Pearson correlation\n",
    "    cor = np.corrcoef(bet_c, vR_beta[count])[0,1]\n",
    "    # Plot\n",
    "    plt.subplot(7, 3, count+1+3)\n",
    "    plt.title('($\\\\beta$={})'.format(i), fontsize = 15)\n",
    "    plt.scatter(bet_c, vR_beta[count], label = 'corr={}'.format(round(cor,2)))\n",
    "    plt.xlabel('Betweness centrality', fontsize = 15)\n",
    "    plt.ylabel('Fraction of recovered nodes', fontsize = 15)\n",
    "    plt.xticks(fontsize = 15)\n",
    "    plt.yticks(fontsize = 15)\n",
    "    plt.grid()\n",
    "    plt.legend(fontsize = 15)\n",
    "\n",
    "# Closeness centrality\n",
    "for count, i in enumerate(betas):\n",
    "    # Pearson correlation\n",
    "    cor = np.corrcoef(clo_c, vR_beta[count])[0,1]\n",
    "    # Plot\n",
    "    plt.subplot(7, 3, count+1+3+3)\n",
    "    plt.title('($\\\\beta$={})'.format(i), fontsize = 15)\n",
    "    plt.scatter(clo_c, vR_beta[count], label = 'corr={}'.format(round(cor,2)))\n",
    "    plt.xlabel('Closeness centrality', fontsize = 15)\n",
    "    plt.ylabel('Fraction of recovered nodes', fontsize = 15)\n",
    "    plt.xticks(fontsize = 15)\n",
    "    plt.yticks(fontsize = 15)\n",
    "    plt.grid()\n",
    "    plt.legend(fontsize = 15)\n",
    "    \n",
    "# Eigenvector centrality\n",
    "for count, i in enumerate(betas):\n",
    "    # Pearson correlation\n",
    "    cor = np.corrcoef(eig_c, vR_beta[count])[0,1]\n",
    "    # Plot\n",
    "    plt.subplot(7, 3, count+1+3+3+3)\n",
    "    plt.title('($\\\\beta$={})'.format(i), fontsize = 15)\n",
    "    plt.scatter(eig_c, vR_beta[count], label = 'corr={}'.format(round(cor,2)))\n",
    "    plt.xlabel('Eigenvector centrality', fontsize = 15)\n",
    "    plt.ylabel('Fraction of recovered nodes', fontsize = 15)\n",
    "    plt.xticks(fontsize = 15)\n",
    "    plt.yticks(fontsize = 15)\n",
    "    plt.grid()\n",
    "    plt.legend(fontsize = 15)\n",
    "    \n",
    "# Random walk acessibility\n",
    "for count, i in enumerate(betas):\n",
    "    # Pearson correlation\n",
    "    cor = np.corrcoef(ace_c, vR_beta[count])[0,1]\n",
    "    # Plot\n",
    "    plt.subplot(7, 3, count+1+3+3+3+3)\n",
    "    plt.title('($\\\\beta$={})'.format(i), fontsize = 15)\n",
    "    plt.scatter(ace_c, vR_beta[count], label = 'corr={}'.format(round(cor,2)))\n",
    "    plt.xlabel('Random walk acessibility', fontsize = 15)\n",
    "    plt.ylabel('Fraction of recovered nodes', fontsize = 15)\n",
    "    plt.xticks(fontsize = 15, rotation = -45)\n",
    "    plt.yticks(fontsize = 15)\n",
    "    plt.grid()\n",
    "    plt.legend(fontsize = 15)\n",
    "    \n",
    "# k-core\n",
    "for count, i in enumerate(betas):\n",
    "    # Pearson correlation\n",
    "    cor = np.corrcoef(kco_c, vR_beta[count])[0,1]\n",
    "    # Plot\n",
    "    plt.subplot(7, 3, count+1+3+3+3+3+3)\n",
    "    plt.title('($\\\\beta$={})'.format(i), fontsize = 15)\n",
    "    plt.scatter(kco_c, vR_beta[count], label = 'corr={}'.format(round(cor,2)))\n",
    "    plt.xlabel('K-core', fontsize = 15)\n",
    "    plt.ylabel('Fraction of recovered nodes', fontsize = 15)\n",
    "    plt.xticks(fontsize = 15)\n",
    "    plt.yticks(fontsize = 15)\n",
    "    plt.grid()\n",
    "    plt.legend(fontsize = 15)\n",
    "\n",
    "# Comunicability centrality\n",
    "for count, i in enumerate(betas):\n",
    "    # Pearson correlation\n",
    "    cor = np.corrcoef(com_c, vR_beta[count])[0,1]\n",
    "    # Plot\n",
    "    plt.subplot(7, 3, count+1+3+3+3+3+3+3)\n",
    "    plt.title('($\\\\beta$={})'.format(i), fontsize = 15)\n",
    "    plt.scatter(com_c, vR_beta[count], label = 'corr={}'.format(round(cor,2)))\n",
    "    plt.xlabel('Comunicability centrality', fontsize = 15)\n",
    "    plt.ylabel('Fraction of recovered nodes', fontsize = 15)\n",
    "    plt.xticks(fontsize = 15, rotation = -45)\n",
    "    plt.yticks(fontsize = 15)\n",
    "    plt.grid()\n",
    "    plt.legend(fontsize = 15)\n",
    "    \n",
    "plt.subplots_adjust(wspace = 0.5, hspace = 0.5)\n",
    "plt.show()"
   ]
  },
  {
   "cell_type": "code",
   "execution_count": null,
   "metadata": {},
   "outputs": [],
   "source": [
    "###  Para a c.elegans \n",
    "# Remove self loop edges (this network has)\n",
    "def remove_self_loop(G):\n",
    "    G_aux = G.copy()\n",
    "    for i in G.edges():\n",
    "        if i[0] == i[1]:\n",
    "            G_aux.remove_edge(i[0], i[1])\n",
    "    return G_aux\n",
    "\n",
    "# reading the network\n",
    "G = nx.read_edgelist(\"data/C-elegans-protein-2007.txt\", nodetype=str, data=(('weight',float),)).to_undirected()\n",
    "G = nx.convert_node_labels_to_integers(G, first_label=0)\n",
    "G = remove_self_loop(G)\n",
    "\n"
   ]
  },
  {
   "cell_type": "markdown",
   "metadata": {},
   "source": [
    "In general, for all of the tested networks, k-core and closeness centrality were the measures that showed highest correlation with the fraction of recovered nodes. It's important to highlight that all centrality measures showed positive correlations with the fraction of recovered nodes, remembering that the approach was, each step, use a different network node as seed to the SIR process and the last value (stationary curve region) of the fraction of recovered nodes curve was picked."
   ]
  },
  {
   "cell_type": "code",
   "execution_count": null,
   "metadata": {},
   "outputs": [],
   "source": []
  }
 ],
 "metadata": {
  "kernelspec": {
   "display_name": "Python 3",
   "language": "python",
   "name": "python3"
  },
  "language_info": {
   "codemirror_mode": {
    "name": "ipython",
    "version": 3
   },
   "file_extension": ".py",
   "mimetype": "text/x-python",
   "name": "python",
   "nbconvert_exporter": "python",
   "pygments_lexer": "ipython3",
   "version": "3.6.5"
  }
 },
 "nbformat": 4,
 "nbformat_minor": 2
}
