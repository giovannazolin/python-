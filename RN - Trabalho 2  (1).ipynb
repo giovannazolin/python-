{
 "cells": [
  {
   "cell_type": "code",
   "execution_count": 2,
   "metadata": {},
   "outputs": [],
   "source": [
    "import random as rnd\n",
    "import numpy as np\n",
    "import pandas as pd\n",
    "from sklearn.cluster import KMeans\n",
    "from sklearn.metrics import pairwise_distances_argmin_min\n",
    "import matplotlib.pyplot as plt\n",
    "import math\n",
    "from sklearn.model_selection import StratifiedKFold\n",
    "from sklearn.preprocessing import LabelEncoder\n",
    "import math\n",
    "from sklearn.metrics import accuracy_score\n",
    "from sklearn.model_selection import train_test_split\n",
    "from sklearn.preprocessing import StandardScaler"
   ]
  },
  {
   "cell_type": "code",
   "execution_count": 3,
   "metadata": {},
   "outputs": [],
   "source": [
    "##LENDO OS DADOS \n",
    "data = pd.read_csv('semeion.csv', delimiter = \" \", header = None)\n"
   ]
  },
  {
   "cell_type": "code",
   "execution_count": 4,
   "metadata": {},
   "outputs": [],
   "source": [
    "### SEPARANDO EM X (COVARIÁVEIS) E Y (RESPOSTA)\n",
    "X = data.iloc[:,0:256]\n",
    "Y = data.iloc[:, -11:-2]\n"
   ]
  },
  {
   "cell_type": "code",
   "execution_count": 5,
   "metadata": {},
   "outputs": [],
   "source": [
    "X= np.array(X)\n",
    "Y = np.array(Y)"
   ]
  },
  {
   "cell_type": "code",
   "execution_count": 54,
   "metadata": {},
   "outputs": [],
   "source": [
    "### FUNÇÃO QUE FAZ A REDE RBF \n",
    "def RBF(X_train, Y_train,X_test, sigma):\n",
    "    ##PADRONIZANDO\n",
    "    scaler = StandardScaler()\n",
    "    scaler.fit(X_train)\n",
    "    X_train = scaler.transform(X_train)\n",
    "    X_test = scaler.transform(X_test)\n",
    "    \n",
    "    ##DETERMINANDO OS CENTROS USANDO KMEANS\n",
    "    K_cent = 230\n",
    "    km = KMeans(n_clusters = K_cent, max_iter = 100)\n",
    "    km.fit(X_train)\n",
    "    cent = km.cluster_centers_\n",
    "    \n",
    "\n",
    "    #### MATRIZ G\n",
    "    shape = X_train.shape\n",
    "    row = shape[0]\n",
    "    column = K_cent\n",
    "    G = np.empty((row,column),dtype = float)\n",
    "    for i in range(row):\n",
    "        for j in range(column):\n",
    "            dist = np.linalg.norm(X_train[i] - cent[j])\n",
    "            G[i][j] = math.exp(-math.pow(dist,2)/math.pow(2*sigma,2))\n",
    "    \n",
    "    #### MATRIZ W PESOS\n",
    "    GTG= np.dot(G.T,G)\n",
    "    GTG_inv= np.linalg.inv(GTG)\n",
    "    fac= np.dot(GTG_inv,G.T)\n",
    "    W= np.dot(fac,Y_train)\n",
    "    \n",
    "    ### MATRIZ G DE TESTE\n",
    "    row= X_test.shape[0]\n",
    "    column= K_cent\n",
    "    G_test= np.empty((row,column), dtype= float)\n",
    "    for i in range(row):\n",
    "        for j in range(column):\n",
    "            dist= np.linalg.norm(X_test[i]-cent[j])\n",
    "            G_test[i][j]= math.exp(-math.pow(dist,2)/math.pow(2*sigma,2))\n",
    "    \n",
    "    ### CALCULANDO A PREDIÇÃO\n",
    "    prediction= np.dot(G_test,W)\n",
    "    prediction= 0.5*(np.sign(prediction-0.5)+1)\n",
    "    \n",
    "    return prediction\n",
    "    \n",
    "    "
   ]
  },
  {
   "cell_type": "markdown",
   "metadata": {},
   "source": [
    "### A seguir aplicamos a rede nos dados usando k-fold com k=10. "
   ]
  },
  {
   "cell_type": "code",
   "execution_count": 73,
   "metadata": {},
   "outputs": [
    {
     "name": "stdout",
     "output_type": "stream",
     "text": [
      "0.8650306748466258\n",
      "0.9006211180124224\n",
      "0.85625\n",
      "0.89375\n",
      "0.86875\n",
      "0.8553459119496856\n",
      "0.9182389937106918\n",
      "0.8616352201257862\n",
      "0.8924050632911392\n",
      "0.9025974025974026\n",
      "Vetor de acurácias de cada foldo [0.8650306748466258, 0.9006211180124224, 0.85625, 0.89375, 0.86875, 0.8553459119496856, 0.9182389937106918, 0.8616352201257862, 0.8924050632911392, 0.9025974025974026]\n"
     ]
    }
   ],
   "source": [
    "###Aplicação\n",
    "kf = StratifiedKFold(n_splits=10, shuffle=True, random_state=42)\n",
    "vac = []\n",
    "for i, (train_index, test_index) in enumerate (kf.split(X, Y.argmax(1))):\n",
    "    x_train, x_test = X[train_index], X[test_index]\n",
    "    y_train, y_test = Y[train_index], Y[test_index]\n",
    "    prediction = RBF(x_train,y_train,x_test,sigma = 8)\n",
    "    score= accuracy_score(prediction,y_test)\n",
    "    vac.append(score)\n",
    "    print(score)\n",
    "    \n",
    "print ('Vetor de acurácias', vac)\n",
    "       "
   ]
  },
  {
   "cell_type": "code",
   "execution_count": 75,
   "metadata": {},
   "outputs": [
    {
     "name": "stdout",
     "output_type": "stream",
     "text": [
      "Acurácia média da RBF 0.8814624384533755\n"
     ]
    }
   ],
   "source": [
    "## Calculando a acurácia média\n",
    "\n",
    "mean_accuracy=np.mean(vac)\n",
    "print('Acurácia média da RBF',mean_accuracy)"
   ]
  },
  {
   "cell_type": "markdown",
   "metadata": {},
   "source": [
    "## Testando uma MLP para comparação"
   ]
  },
  {
   "cell_type": "code",
   "execution_count": 1,
   "metadata": {},
   "outputs": [
    {
     "ename": "ImportError",
     "evalue": "cannot import name 'datasets'",
     "output_type": "error",
     "traceback": [
      "\u001b[1;31m---------------------------------------------------------------------------\u001b[0m",
      "\u001b[1;31mImportError\u001b[0m                               Traceback (most recent call last)",
      "\u001b[1;32m<ipython-input-1-13e03da2c611>\u001b[0m in \u001b[0;36m<module>\u001b[1;34m()\u001b[0m\n\u001b[0;32m      1\u001b[0m \u001b[1;31m## USANDO A BIBLIOTECA MLPCLASSIFIER E APLICANDO USANDO KFOLD\u001b[0m\u001b[1;33m\u001b[0m\u001b[1;33m\u001b[0m\u001b[0m\n\u001b[1;32m----> 2\u001b[1;33m \u001b[1;32mfrom\u001b[0m \u001b[0msklearn\u001b[0m\u001b[1;33m.\u001b[0m\u001b[0mneural_network\u001b[0m \u001b[1;32mimport\u001b[0m \u001b[0mMLPClassifier\u001b[0m\u001b[1;33m\u001b[0m\u001b[0m\n\u001b[0m\u001b[0;32m      3\u001b[0m \u001b[0mvac2\u001b[0m\u001b[1;33m=\u001b[0m\u001b[1;33m[\u001b[0m\u001b[1;33m]\u001b[0m\u001b[1;33m\u001b[0m\u001b[0m\n\u001b[0;32m      4\u001b[0m \u001b[1;32mfor\u001b[0m \u001b[0mi\u001b[0m\u001b[1;33m,\u001b[0m \u001b[1;33m(\u001b[0m\u001b[0mtrain_index\u001b[0m\u001b[1;33m,\u001b[0m \u001b[0mtest_index\u001b[0m\u001b[1;33m)\u001b[0m \u001b[1;32min\u001b[0m \u001b[0menumerate\u001b[0m \u001b[1;33m(\u001b[0m\u001b[0mkf\u001b[0m\u001b[1;33m.\u001b[0m\u001b[0msplit\u001b[0m\u001b[1;33m(\u001b[0m\u001b[0mX\u001b[0m\u001b[1;33m,\u001b[0m \u001b[0mY\u001b[0m\u001b[1;33m.\u001b[0m\u001b[0margmax\u001b[0m\u001b[1;33m(\u001b[0m\u001b[1;36m1\u001b[0m\u001b[1;33m)\u001b[0m\u001b[1;33m)\u001b[0m\u001b[1;33m)\u001b[0m\u001b[1;33m:\u001b[0m\u001b[1;33m\u001b[0m\u001b[0m\n\u001b[0;32m      5\u001b[0m     \u001b[0mx_train\u001b[0m\u001b[1;33m,\u001b[0m \u001b[0mx_test\u001b[0m \u001b[1;33m=\u001b[0m \u001b[0mX\u001b[0m\u001b[1;33m[\u001b[0m\u001b[0mtrain_index\u001b[0m\u001b[1;33m]\u001b[0m\u001b[1;33m,\u001b[0m \u001b[0mX\u001b[0m\u001b[1;33m[\u001b[0m\u001b[0mtest_index\u001b[0m\u001b[1;33m]\u001b[0m\u001b[1;33m\u001b[0m\u001b[0m\n",
      "\u001b[1;32m~\\Downloads\\sklearn.py\u001b[0m in \u001b[0;36m<module>\u001b[1;34m()\u001b[0m\n\u001b[0;32m      6\u001b[0m \"\"\"\n\u001b[0;32m      7\u001b[0m \u001b[1;33m\u001b[0m\u001b[0m\n\u001b[1;32m----> 8\u001b[1;33m \u001b[1;32mfrom\u001b[0m \u001b[0msklearn\u001b[0m \u001b[1;32mimport\u001b[0m \u001b[0mdatasets\u001b[0m\u001b[1;33m\u001b[0m\u001b[0m\n\u001b[0m\u001b[0;32m      9\u001b[0m \u001b[0miris\u001b[0m \u001b[1;33m=\u001b[0m \u001b[0mdatasets\u001b[0m\u001b[1;33m.\u001b[0m\u001b[0mload_iris\u001b[0m\u001b[1;33m(\u001b[0m\u001b[1;33m)\u001b[0m\u001b[1;33m\u001b[0m\u001b[0m\n\u001b[0;32m     10\u001b[0m \u001b[0mdigits\u001b[0m \u001b[1;33m=\u001b[0m \u001b[0mdatasets\u001b[0m\u001b[1;33m.\u001b[0m\u001b[0mload_digits\u001b[0m\u001b[1;33m(\u001b[0m\u001b[1;33m)\u001b[0m\u001b[1;33m\u001b[0m\u001b[0m\n",
      "\u001b[1;31mImportError\u001b[0m: cannot import name 'datasets'"
     ]
    }
   ],
   "source": [
    "## USANDO A BIBLIOTECA MLPCLASSIFIER E APLICANDO USANDO KFOLD\n",
    "from sklearn.neural_network import MLPClassifier\n",
    "vac2=[]\n",
    "for i, (train_index, test_index) in enumerate (kf.split(X, Y.argmax(1))):\n",
    "    x_train, x_test = X[train_index], X[test_index]\n",
    "    y_train, y_test = Y[train_index], Y[test_index] \n",
    "    clf = MLPClassifier(solver='adam', alpha=1e-5,hidden_layer_sizes=(1,30), random_state=1, max_iter = 500)\n",
    "    clf.fit(x_train, y_train)\n",
    "    y_pred2 = clf.predict(x_test)\n",
    "    precision2 = accuracy_score(y_test, y_pred2)\n",
    "    vac2.append(precision2)\n",
    "print(vac2)"
   ]
  },
  {
   "cell_type": "code",
   "execution_count": 76,
   "metadata": {},
   "outputs": [
    {
     "name": "stdout",
     "output_type": "stream",
     "text": [
      "Acurácia Média da MLP 0.8700387666085462\n"
     ]
    }
   ],
   "source": [
    "### CALCULANDO A ACURÁCIA MÉDIA\n",
    "mean_precision2=np.mean(vac2)\n",
    "\n",
    "print('Acurácia Média da MLP',mean_precision2)"
   ]
  },
  {
   "cell_type": "code",
   "execution_count": null,
   "metadata": {},
   "outputs": [],
   "source": []
  }
 ],
 "metadata": {
  "kernelspec": {
   "display_name": "Python 3",
   "language": "python",
   "name": "python3"
  },
  "language_info": {
   "codemirror_mode": {
    "name": "ipython",
    "version": 3
   },
   "file_extension": ".py",
   "mimetype": "text/x-python",
   "name": "python",
   "nbconvert_exporter": "python",
   "pygments_lexer": "ipython3",
   "version": "3.6.5"
  }
 },
 "nbformat": 4,
 "nbformat_minor": 2
}
