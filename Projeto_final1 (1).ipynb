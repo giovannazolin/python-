{
 "cells": [
  {
   "cell_type": "markdown",
   "metadata": {},
   "source": [
    "# Projeto 1 - SME 0878\n"
   ]
  },
  {
   "cell_type": "markdown",
   "metadata": {},
   "source": [
    "Giovanna Zolin Pinheiro Hayasida - n: 9762848 \n",
    "\n",
    "Luna Wagner Cunha - n: 9762831 "
   ]
  },
  {
   "cell_type": "markdown",
   "metadata": {},
   "source": [
    "Objetivo:Predizer o meio de transporte de usuários a partir de dados de celular.\n",
    "\n",
    "2)Realize\to\tpré-processamento\tdos\tdados:\tVerifque\tse\thá\tNaN\tou\toutros\terros no\tdados.\tSelecione apenas\tos\tatributos\trelevantes\te\tnuméricos.\n",
    "\n"
   ]
  },
  {
   "cell_type": "code",
   "execution_count": 6,
   "metadata": {},
   "outputs": [],
   "source": [
    "#Importando pacotes\n",
    "import random\n",
    "random.seed(1)\n",
    "import pandas as pd\n",
    "import matplotlib.pyplot as plt\n",
    "\n",
    "#Lendo o arquivo CSV com os dados\n",
    "data = pd.read_csv('data.csv', header=(0))\n",
    "#Retirando dados faltantes.\n",
    "data=data.dropna()\n",
    "#Retirando dados duplicados\n",
    "data.duplicated()\n",
    "data = data.drop_duplicates()\n",
    "#Selecionando as classes, que estão na última coluna\n",
    "#pd.unique - seleciona os nomes das diferentes classes sem que haja repetição.\n",
    "import numpy as np\n",
    "classes = pd.unique(data[data.columns[-1]])\n",
    "classes = np.array(classes, dtype=str)"
   ]
  },
  {
   "cell_type": "markdown",
   "metadata": {},
   "source": [
    "Exercicio 3: No\tcaso\tdo\tclassificador\tKnn,\tverifique\to\tefeito\tdo\tparâmetro\tk\tna\tclassificação"
   ]
  },
  {
   "cell_type": "code",
   "execution_count": 7,
   "metadata": {},
   "outputs": [
    {
     "data": {
      "text/plain": [
       "array([[225.        ,   9.89936913,   9.40669852, ...,  84.68325639,\n",
       "         84.68325639,   0.36117196],\n",
       "       [  9.        ,   9.79432635,   7.8907517 , ...,  89.74870697,\n",
       "         89.74870697,   0.        ],\n",
       "       [ 49.        ,  10.78024708,   7.06036091, ...,  89.7537947 ,\n",
       "         89.7537947 ,   1.02319091],\n",
       "       ...,\n",
       "       [ 53.        ,   9.78547201,   9.43017723, ...,   0.        ,\n",
       "          0.        ,   0.        ],\n",
       "       [ 12.        ,   9.98517065,   5.11123388, ...,   0.        ,\n",
       "          0.        ,   0.        ],\n",
       "       [305.        ,   9.94344281,   9.90558066, ...,  85.27839966,\n",
       "         85.27839966,   2.09944143]])"
      ]
     },
     "execution_count": 7,
     "metadata": {},
     "output_type": "execute_result"
    }
   ],
   "source": [
    "list_labels = list(data.columns)\n",
    "#Selecionando a coluna contendo as classes e armazenando em Y.\n",
    "Y = np.array(data[list_labels[-1]],dtype=str)\n",
    "#Retirando a coluna com as classes e armazenando em X.\n",
    "data= data.drop(list_labels[-1], axis = 1)\n",
    "\n",
    "#Salvando o nome das características para uso posterior.\n",
    "data_list = list(data.columns)\n",
    "\n",
    "#Convertando num numpy array\n",
    "X = np.array(data)\n",
    "\n",
    "from sklearn.model_selection import train_test_split\n",
    "import numpy as np\n",
    "# p é a proporção do total dos dados para a amostra treino, e 1-p é para a amostra de teste.\n",
    "p = 0.7\n",
    "#selecionando as amostras de treino e teste \n",
    "train_x, test_x, train_y, test_y = train_test_split(X, Y, test_size = 1-p, random_state = 42) #random_state eh a semente \n",
    "train_x"
   ]
  },
  {
   "cell_type": "code",
   "execution_count": 8,
   "metadata": {},
   "outputs": [
    {
     "name": "stdout",
     "output_type": "stream",
     "text": [
      "Accuracy: 0.5955882352941176\n"
     ]
    }
   ],
   "source": [
    "from sklearn.neighbors import KNeighborsClassifier\n",
    "k = 5\n",
    "model = KNeighborsClassifier(n_neighbors=k, metric = 'euclidean')\n",
    "#Treinando o modelo usando as amostras de treino\n",
    "model.fit(train_x,train_y)\n",
    "\n",
    "#Predict Output\n",
    "pred_y= model.predict(test_x)\n",
    "\n",
    "from sklearn.metrics import accuracy_score\n",
    "score = accuracy_score(pred_y, test_y)\n",
    "print('Accuracy:', score)"
   ]
  },
  {
   "cell_type": "code",
   "execution_count": 9,
   "metadata": {},
   "outputs": [
    {
     "data": {
      "image/png": "[encoded data removed]",
      "text/plain": [
       "<Figure size 432x288 with 1 Axes>"
      ]
     },
     "metadata": {
      "needs_background": "light"
     },
     "output_type": "display_data"
    }
   ],
   "source": [
    "#Vetores vazios para armazenar os dados que serão gerados no for\n",
    "vscore = []\n",
    "vk = []\n",
    "#Variando o número de vizinhos mais próximos k, e aplicando no classificador. \n",
    "for k in np.arange(1, 20):\n",
    "    model = KNeighborsClassifier(n_neighbors=k)\n",
    "    # Treinando o classificador usando as amostras de testes\n",
    "    model.fit(train_x,train_y)\n",
    "    #Fazendo a predição usando a amostra de teste\n",
    "    pred_y= model.predict(test_x) \n",
    "    #Obtendo a acurácia, que compara a classificação gerada com a real classificação da amostra de teste.\n",
    "    score = accuracy_score(pred_y, test_y)\n",
    "    vscore.append(score)\n",
    "    vk.append(k)\n",
    "#Plotando os resultados gerados de acurácia e K's.\n",
    "plt.plot(vk, vscore, marker='s', linestyle='-', color=\"blue\", linewidth=2.5)\n",
    "plt.xlabel(\"k\", fontsize=20)\n",
    "plt.ylabel(\"Accuracy\", fontsize=20)\n",
    "plt.grid(True)\n",
    "plt.show(True)"
   ]
  },
  {
   "cell_type": "markdown",
   "metadata": {},
   "source": [
    "Como é possível ver no gráfico acima, a melhor classificação foi feita com K=1, isso se baseia na maior acurácia em relação aos outros K's."
   ]
  },
  {
   "cell_type": "markdown",
   "metadata": {},
   "source": [
    "4\t– Compare\tos\tclassificadores:\n",
    "• knn (melhor\tk\tobservado\tno\titem\tanterior)\n",
    "• Naive\tBayes\n",
    "• Decisão\tBayesiana"
   ]
  },
  {
   "cell_type": "code",
   "execution_count": 10,
   "metadata": {},
   "outputs": [
    {
     "name": "stdout",
     "output_type": "stream",
     "text": [
      "Accuracy: 0.6476244343891403\n"
     ]
    }
   ],
   "source": [
    "#KNN\n",
    "from sklearn.neighbors import KNeighborsClassifier\n",
    "k = 1\n",
    "model = KNeighborsClassifier(n_neighbors=k, metric = 'euclidean')\n",
    "model.fit(train_x,train_y)\n",
    "  #Fazendo a predição usando a amostra de teste\n",
    "pred_y= model.predict(test_x)\n",
    " #Obtendo a acurácia, que compara a classificação gerada com a real classificação da amostra de teste.\n",
    "from sklearn.metrics import accuracy_score\n",
    "score_k = accuracy_score(pred_y, test_y)\n",
    "print('Accuracy:', score_k)"
   ]
  },
  {
   "cell_type": "code",
   "execution_count": 11,
   "metadata": {},
   "outputs": [],
   "source": [
    "#Classificador de BAYES              \n",
    "from scipy.stats import multivariate_normal\n",
    "P = pd.DataFrame(data=np.zeros((train_x.shape[0], len(classes))), columns = classes) #matrix to store the probabilities\n",
    "for i in np.arange(0, len(classes)):\n",
    "    elements = tuple(np.where(train_y == classes[i]))\n",
    "    Z = train_x[elements,:][0]\n",
    "    m = np.mean(Z, axis = 0)\n",
    "    cv = np.cov(np.transpose(Z))\n",
    "    for j in np.arange(0,test_x.shape[0]):\n",
    "        x = test_x[j,:]\n",
    "        pj = multivariate_normal.pdf(x, mean=m, cov=cv)\n",
    "        P[classes[i]][j] = pj"
   ]
  },
  {
   "cell_type": "code",
   "execution_count": 12,
   "metadata": {},
   "outputs": [
    {
     "name": "stdout",
     "output_type": "stream",
     "text": [
      "Accuracy: 0.6029411764705882\n"
     ]
    }
   ],
   "source": [
    "#Fazendo a predição usando a amostra de teste\n",
    "pred_y = []\n",
    "#np.array(test_x.shape[0], dtype=str)\n",
    "for i in np.arange(0, test_x.shape[0]):\n",
    "    c = np.argmax(np.array(P.iloc[[i]]))\n",
    "    pred_y.append(classes[c])\n",
    "pred_y = np.array(pred_y, dtype=str)\n",
    "from sklearn.metrics import accuracy_score\n",
    "score_c = accuracy_score(pred_y, test_y)\n",
    "print('Accuracy:', score_c)"
   ]
  },
  {
   "cell_type": "code",
   "execution_count": 13,
   "metadata": {},
   "outputs": [
    {
     "name": "stdout",
     "output_type": "stream",
     "text": [
      "Accuracy: 0.5576923076923077\n"
     ]
    }
   ],
   "source": [
    "#Classificador Naive Bayes\n",
    "from sklearn.naive_bayes import GaussianNB\n",
    "gnb = GaussianNB()\n",
    "gnb.fit(train_x,train_y)\n",
    "#Fazendo a Predição\n",
    "pred_y= gnb.predict(test_x)\n",
    "score_n= accuracy_score(pred_y, test_y)\n",
    "print('Accuracy:', score_n)"
   ]
  },
  {
   "cell_type": "code",
   "execution_count": 14,
   "metadata": {},
   "outputs": [
    {
     "data": {
      "image/png": "[encoded data removed]",
      "text/plain": [
       "<Figure size 432x288 with 1 Axes>"
      ]
     },
     "metadata": {
      "needs_background": "light"
     },
     "output_type": "display_data"
    }
   ],
   "source": [
    "acura = [score_k, score_c, score_n]\n",
    "nomes = ['Knn', 'CB', 'NB']\n",
    "numbers = np.arange(0, len(nomes))\n",
    "plt.bar(numbers, acura, alpha=.75)\n",
    "plt.xticks(numbers, nomes)\n",
    "plt.title('Acurácia por Método')\n",
    "plt.show(True)"
   ]
  },
  {
   "cell_type": "markdown",
   "metadata": {},
   "source": [
    "Comparando as acurácias não encontramos uma grande diferençã entre elas, mas o método Knn com k=1 obteve o melhor resultado"
   ]
  },
  {
   "cell_type": "markdown",
   "metadata": {},
   "source": [
    "5\t– Verifique\to\tefeito\tda\tnormalização (atributos\tcom\tmédia\t0\te\tvariância\t1)\te\tpadronização (atributos\tem\t[0,1])\tdos\tdados.\tCompare\tos\tcasos\tsem\tprocessamento,\tcom\tpadronização\te\tcom\tnormalização\tpara\tos\tclassificadores:\n",
    "• knn\t(melhor\tk\tobservado\tno\titem\tanterior)\n",
    "• Naive\tBayes\n",
    "• Decisão\tBayesiana"
   ]
  },
  {
   "cell_type": "code",
   "execution_count": 15,
   "metadata": {},
   "outputs": [],
   "source": [
    "#Funcao que aplica os três classificadores de uma só vez;\n",
    "def clas(X,Y):\n",
    "    p = 0.7\n",
    "    train_x, test_x, train_y, test_y = train_test_split(X, Y, test_size = 1-p, random_state = 42)\n",
    "    ##KNN\n",
    "    k = 1\n",
    "    model = KNeighborsClassifier(n_neighbors=k, metric = 'euclidean')\n",
    "    # Train the model using the training sets\n",
    "    model.fit(train_x,train_y)\n",
    "    #Predict Output\n",
    "    pred_y_1= model.predict(test_x) \n",
    "    score_1 = accuracy_score(pred_y_1, test_y)\n",
    "    \n",
    "    ##CB\n",
    "    P = pd.DataFrame(data=np.zeros((train_x.shape[0], len(classes))), columns = classes) #matrix to store the probabilities\n",
    "    for i in np.arange(0, len(classes)):\n",
    "        elements = tuple(np.where(train_y == classes[i]))\n",
    "        Z = train_x[elements,:][0]\n",
    "        m = np.mean(Z, axis = 0)\n",
    "        cv = np.cov(np.transpose(Z))\n",
    "        for j in np.arange(0,test_x.shape[0]):\n",
    "            x = test_x[j,:]\n",
    "            pj = multivariate_normal.pdf(x, mean=m, cov=cv)\n",
    "            P[classes[i]][j] = pj\n",
    "    pred_y_2 = []\n",
    "    #np.array(test_x.shape[0], dtype=str)\n",
    "    for i in np.arange(0, test_x.shape[0]):\n",
    "        c = np.argmax(np.array(P.iloc[[i]]))\n",
    "        pred_y_2.append(classes[c])\n",
    "    pred_y_2 = np.array(pred_y_2, dtype=str)\n",
    "    score_2 = accuracy_score(pred_y_2, test_y)\n",
    "\n",
    "    ##NB\n",
    "    gnb = GaussianNB()\n",
    "    gnb.fit(train_x,train_y)\n",
    "    pred_y_3= gnb.predict(test_x)\n",
    "    score_3 = accuracy_score(pred_y_3, test_y)\n",
    "    return score_1, score_2, score_3"
   ]
  },
  {
   "cell_type": "code",
   "execution_count": 16,
   "metadata": {},
   "outputs": [],
   "source": [
    "#Os dados foram lidos novamente, e em seguida padronizados, ou seja, transformados para pertencer a escala de 0 e 1.\n",
    "import random\n",
    "random.seed(1)\n",
    "import pandas as pd\n",
    "import matplotlib.pyplot as plt\n",
    "# CSV file\n",
    "data = pd.read_csv('data.csv', header=(0))\n",
    "#print(data.shape)\n",
    "#data.head(25)\n",
    "data=data.dropna()\n",
    "data.duplicated()\n",
    "data = data.drop_duplicates()\n",
    "import numpy as np\n",
    "classes = pd.unique(data[data.columns[-1]]) #name of the clases\n",
    "classes = np.array(classes, dtype=str)\n",
    "\n",
    "#Fazendo a padronização\n",
    "from sklearn.metrics import accuracy_score\n",
    "list_labels = list(data.columns)\n",
    "Y = np.array(data[list_labels[-1]],dtype=str)\n",
    "\n",
    "from sklearn.preprocessing import MinMaxScaler\n",
    "X = np.array(data[data.columns[0:data.shape[1]-1]])\n",
    "scaler = MinMaxScaler(feature_range=(0, 1))\n",
    "X_pad = scaler.fit_transform(X)\n",
    "\n"
   ]
  },
  {
   "cell_type": "code",
   "execution_count": 17,
   "metadata": {},
   "outputs": [
    {
     "name": "stdout",
     "output_type": "stream",
     "text": [
      "0.8076923076923077 0.6029411764705882 0.5576923076923077\n"
     ]
    }
   ],
   "source": [
    "score_1,score_2,score_3= clas(X_pad,Y)\n",
    "print(score_1, score_2, score_3)"
   ]
  },
  {
   "cell_type": "code",
   "execution_count": 21,
   "metadata": {},
   "outputs": [],
   "source": [
    "#Os dados foram lidos novamente e normalizados, ou seja, os dados ficaram com média 0 e variância 1 como numa Normal Padrão.\n",
    "import random\n",
    "random.seed(1)\n",
    "import pandas as pd\n",
    "import matplotlib.pyplot as plt\n",
    "# CSV file\n",
    "data = pd.read_csv('data.csv', header=(0))\n",
    "#print(data.shape)\n",
    "#data.head(25)\n",
    "data=data.dropna()\n",
    "data.duplicated()\n",
    "data = data.drop_duplicates()\n",
    "import numpy as np\n",
    "classes = pd.unique(data[data.columns[-1]]) #name of the clases\n",
    "classes = np.array(classes, dtype=str)\n",
    "\n",
    "#Fazendo a normalização\n",
    "from sklearn.metrics import accuracy_score\n",
    "list_labels = list(data.columns)\n",
    "Y = np.array(data[list_labels[-1]],dtype=str)\n",
    "\n",
    "from sklearn.preprocessing import StandardScaler\n",
    "X = np.array(data[data.columns[0:data.shape[1]-1]])\n",
    "scaler = StandardScaler().fit(X)\n",
    "rescaledX = scaler.transform(X)\n",
    "\n",
    "\n"
   ]
  },
  {
   "cell_type": "code",
   "execution_count": 22,
   "metadata": {},
   "outputs": [
    {
     "name": "stdout",
     "output_type": "stream",
     "text": [
      "0.8433257918552036 0.6029411764705882 0.5576923076923077\n"
     ]
    }
   ],
   "source": [
    "score_1_norm, score_2_norm, score_3_norm = clas(rescaledX,Y)\n",
    "print(score_1_norm, score_2_norm, score_3_norm)"
   ]
  },
  {
   "cell_type": "code",
   "execution_count": 26,
   "metadata": {},
   "outputs": [],
   "source": [
    "#Os dados foram lidos novamente e não foram processados, para analisar o caso sem processamento. \n",
    "import pandas as pd\n",
    "import matplotlib.pyplot as plt\n",
    "# CSV file\n",
    "data = pd.read_csv('data.csv', header=(0))\n",
    "#print(data.shape)\n",
    "#data.head(25)\n",
    "data=data.dropna()\n",
    "data.duplicated()\n",
    "data = data.drop_duplicates()\n",
    "import numpy as np\n",
    "classes = pd.unique(data[data.columns[-1]]) #name of the clases\n",
    "classes = np.array(classes, dtype=str)\n",
    "\n",
    "#Sem processamento\n",
    "from sklearn.metrics import accuracy_score\n",
    "list_labels = list(data.columns)\n",
    "Y = np.array(data[list_labels[-1]],dtype=str)\n",
    "# Remove the labels from the features\n",
    "# axis 1 refers to the columns\n",
    "data= data.drop(list_labels[-1], axis = 1)\n",
    "# Saving feature names for later use\n",
    "data_list = list(data.columns)\n",
    "# Convert to numpy array\n",
    "X = np.array(data)\n",
    "\n",
    "\n"
   ]
  },
  {
   "cell_type": "code",
   "execution_count": 27,
   "metadata": {},
   "outputs": [
    {
     "name": "stdout",
     "output_type": "stream",
     "text": [
      "0.6476244343891403 0.6029411764705882 0.5576923076923077\n"
     ]
    }
   ],
   "source": [
    "score_1sem, score_2sem, score_3sem=clas(X,Y)\n",
    "print(score_1sem, score_2sem, score_3sem)"
   ]
  },
  {
   "cell_type": "code",
   "execution_count": 28,
   "metadata": {},
   "outputs": [
    {
     "name": "stdout",
     "output_type": "stream",
     "text": [
      "Acurácia do Knn, Bayes, NB com padronização: 0.8076923076923077 0.6029411764705882 0.5576923076923077\n",
      "Acurácia do Knn, Bayes, NB com normalização: 0.8433257918552036 0.6029411764705882 0.5576923076923077\n",
      "Acurácia do Knn, Bayes, NB sem processamento: 0.6476244343891403 0.6029411764705882 0.5576923076923077\n"
     ]
    }
   ],
   "source": [
    "print(\"Acurácia do Knn, Bayes, NB com padronização:\",score_1, score_2, score_3)\n",
    "print(\"Acurácia do Knn, Bayes, NB com normalização:\",score_1_norm, score_2_norm, score_3_norm)\n",
    "print(\"Acurácia do Knn, Bayes, NB sem processamento:\",score_1sem, score_2sem, score_3sem)"
   ]
  },
  {
   "cell_type": "markdown",
   "metadata": {},
   "source": [
    "No caso do classificador Knn, a normalização ajudou no aumento da acurácia. A padronização também teve uma acurácia elevada em comparação ao caso sem processamento. \n",
    "No caso do classificador Bayesiano e Naive Bayes, a acurácia não mudou para nenhum dos casos. Mas pode-se concluir que o classificador Bayesiano foi mais eficiente em relação ao outro.\n",
    "Dessa forma, a maior acurácia foi obtida com o classificador Knn, que obteve melhores resultados, e com a normalização dos dados."
   ]
  },
  {
   "cell_type": "code",
   "execution_count": 55,
   "metadata": {},
   "outputs": [
    {
     "data": {
      "image/png": "[encoded data removed]",
      "text/plain": [
       "<Figure size 432x288 with 1 Axes>"
      ]
     },
     "metadata": {
      "needs_background": "light"
     },
     "output_type": "display_data"
    }
   ],
   "source": [
    "numbers = 3\n",
    "acura = [score_1, score_2, score_3]\n",
    "acura1 = [score_1_norm, score_2_norm, score_3_norm]\n",
    "acura2 = [score_1sem, score_2sem, score_3sem]\n",
    "\n",
    "ind = np.arange(numbers) \n",
    "width = 0.25       \n",
    "plt.bar(ind-width, acura, width, label='Padronizado')\n",
    "plt.bar(ind, acura1, width,label='Normalizado')\n",
    "plt.bar(ind+ width, acura2, width, label='Não Processado')\n",
    "\n",
    "\n",
    "\n",
    "plt.ylabel('Acurácia')\n",
    "plt.title('Acurácia por método e processamento')\n",
    "\n",
    "plt.xticks(ind + width/20  , ('KNN', 'CB', 'NB'))\n",
    "plt.legend(loc='best')\n",
    "plt.show()"
   ]
  },
  {
   "cell_type": "markdown",
   "metadata": {},
   "source": [
    "Para o método de KNN tanto a padronização quanto a normalização dos dados aumentaram a acurácia da classificação, atingindo seu máximo com a normalização em 0.8433257918552036. Para os outros métodos de classificação não houve mudanças na acurácia para os diferentes métodos de processamento. "
   ]
  },
  {
   "cell_type": "markdown",
   "metadata": {},
   "source": [
    "6\t– Mostre\ta\tmatriz\tde\tcorrelação\tentre\tos\tatributos.\tConsidere\tos\tatributos\tcom\t menor\tcorrelação\t(por\texemplo,\tmenor\tdo\tque\t0.5).\tRealize\ta\tclassificação\tnovamente\tapenas\tcom\tesses\tatributos.\tA\tacurácia\tmelhora?"
   ]
  },
  {
   "cell_type": "code",
   "execution_count": 107,
   "metadata": {},
   "outputs": [],
   "source": [
    "#Os dados foram lidos novamente e não foram processados, para analisar o caso sem processamento. \n",
    "import pandas as pd\n",
    "import matplotlib.pyplot as plt\n",
    "# CSV file\n",
    "data = pd.read_csv('data.csv', header=(0))\n",
    "#print(data.shape)\n",
    "#data.head(25)\n",
    "data=data.dropna()\n",
    "data.duplicated()\n",
    "data = data.drop_duplicates()\n",
    "import numpy as np\n",
    "classes = pd.unique(data[data.columns[-1]]) #name of the clases\n",
    "classes = np.array(classes, dtype=str)\n",
    "\n",
    "#Sem processamento\n",
    "from sklearn.metrics import accuracy_score\n",
    "list_labels = list(data.columns)\n",
    "Y = np.array(data[list_labels[-1]],dtype=str)\n",
    "# Remove the labels from the features\n",
    "# axis 1 refers to the columns\n",
    "data= data.drop(list_labels[-1], axis = 1)\n",
    "# Saving feature names for later use\n",
    "data_list = list(data.columns)\n",
    "# Convert to numpy array\n",
    "X = np.array(data)\n",
    "\n",
    "score_1, score_2, score_3 = clas(X,Y)"
   ]
  },
  {
   "cell_type": "code",
   "execution_count": 108,
   "metadata": {},
   "outputs": [
    {
     "data": {
      "image/png": "[encoded data removed]",
      "text/plain": [
       "<Figure size 504x504 with 2 Axes>"
      ]
     },
     "metadata": {
      "needs_background": "light"
     },
     "output_type": "display_data"
    }
   ],
   "source": [
    "#Plot da matriz de correlação usando matplotlib.\n",
    "import matplotlib.pyplot as plt\n",
    "corr = data.corr()   #correlação dos dados \n",
    "plt.figure(figsize=(7, 7))\n",
    "plt.imshow(corr, cmap='Blues', interpolation='none', aspect='auto')\n",
    "plt.colorbar()\n",
    "plt.xticks(range(len(corr)), corr.columns, rotation='vertical')\n",
    "plt.yticks(range(len(corr)), corr.columns);\n",
    "plt.suptitle('Correlation between variables', fontsize=15, fontweight='bold')\n",
    "plt.grid(False)\n",
    "plt.show()"
   ]
  },
  {
   "cell_type": "code",
   "execution_count": 109,
   "metadata": {},
   "outputs": [
    {
     "name": "stdout",
     "output_type": "stream",
     "text": [
      "Variáveis nao correlacionadas:\n",
      " [['time', 'android.sensor.accelerometer#mean'], ['time', 'android.sensor.accelerometer#min'], ['time', 'android.sensor.accelerometer#max'], ['time', 'android.sensor.accelerometer#std'], ['time', 'android.sensor.gyroscope#mean'], ['time', 'android.sensor.gyroscope#min'], ['time', 'android.sensor.gyroscope#max'], ['time', 'android.sensor.gyroscope#std'], ['time', 'sound#mean'], ['time', 'sound#min'], ['time', 'sound#max'], ['time', 'sound#std'], ['android.sensor.accelerometer#mean', 'time'], ['android.sensor.accelerometer#mean', 'android.sensor.accelerometer#min'], ['android.sensor.accelerometer#mean', 'android.sensor.gyroscope#mean'], ['android.sensor.accelerometer#mean', 'android.sensor.gyroscope#min'], ['android.sensor.accelerometer#mean', 'android.sensor.gyroscope#max'], ['android.sensor.accelerometer#mean', 'android.sensor.gyroscope#std'], ['android.sensor.accelerometer#mean', 'sound#mean'], ['android.sensor.accelerometer#mean', 'sound#min'], ['android.sensor.accelerometer#mean', 'sound#max'], ['android.sensor.accelerometer#mean', 'sound#std'], ['android.sensor.accelerometer#min', 'time'], ['android.sensor.accelerometer#min', 'android.sensor.accelerometer#mean'], ['android.sensor.accelerometer#min', 'android.sensor.gyroscope#min'], ['android.sensor.accelerometer#min', 'android.sensor.gyroscope#std'], ['android.sensor.accelerometer#min', 'sound#mean'], ['android.sensor.accelerometer#min', 'sound#min'], ['android.sensor.accelerometer#min', 'sound#max'], ['android.sensor.accelerometer#min', 'sound#std'], ['android.sensor.accelerometer#max', 'time'], ['android.sensor.accelerometer#max', 'android.sensor.gyroscope#min'], ['android.sensor.accelerometer#max', 'android.sensor.gyroscope#std'], ['android.sensor.accelerometer#max', 'sound#mean'], ['android.sensor.accelerometer#max', 'sound#min'], ['android.sensor.accelerometer#max', 'sound#max'], ['android.sensor.accelerometer#max', 'sound#std'], ['android.sensor.accelerometer#std', 'time'], ['android.sensor.accelerometer#std', 'android.sensor.gyroscope#min'], ['android.sensor.accelerometer#std', 'sound#mean'], ['android.sensor.accelerometer#std', 'sound#min'], ['android.sensor.accelerometer#std', 'sound#max'], ['android.sensor.accelerometer#std', 'sound#std'], ['android.sensor.gyroscope#mean', 'time'], ['android.sensor.gyroscope#mean', 'android.sensor.accelerometer#mean'], ['android.sensor.gyroscope#mean', 'sound#mean'], ['android.sensor.gyroscope#mean', 'sound#min'], ['android.sensor.gyroscope#mean', 'sound#max'], ['android.sensor.gyroscope#mean', 'sound#std'], ['android.sensor.gyroscope#min', 'time'], ['android.sensor.gyroscope#min', 'android.sensor.accelerometer#mean'], ['android.sensor.gyroscope#min', 'android.sensor.accelerometer#min'], ['android.sensor.gyroscope#min', 'android.sensor.accelerometer#max'], ['android.sensor.gyroscope#min', 'android.sensor.accelerometer#std'], ['android.sensor.gyroscope#min', 'android.sensor.gyroscope#max'], ['android.sensor.gyroscope#min', 'android.sensor.gyroscope#std'], ['android.sensor.gyroscope#min', 'sound#mean'], ['android.sensor.gyroscope#min', 'sound#min'], ['android.sensor.gyroscope#min', 'sound#max'], ['android.sensor.gyroscope#min', 'sound#std'], ['android.sensor.gyroscope#max', 'time'], ['android.sensor.gyroscope#max', 'android.sensor.accelerometer#mean'], ['android.sensor.gyroscope#max', 'android.sensor.gyroscope#min'], ['android.sensor.gyroscope#max', 'sound#mean'], ['android.sensor.gyroscope#max', 'sound#min'], ['android.sensor.gyroscope#max', 'sound#max'], ['android.sensor.gyroscope#max', 'sound#std'], ['android.sensor.gyroscope#std', 'time'], ['android.sensor.gyroscope#std', 'android.sensor.accelerometer#mean'], ['android.sensor.gyroscope#std', 'android.sensor.accelerometer#min'], ['android.sensor.gyroscope#std', 'android.sensor.accelerometer#max'], ['android.sensor.gyroscope#std', 'android.sensor.gyroscope#min'], ['android.sensor.gyroscope#std', 'sound#mean'], ['android.sensor.gyroscope#std', 'sound#min'], ['android.sensor.gyroscope#std', 'sound#max'], ['android.sensor.gyroscope#std', 'sound#std'], ['sound#mean', 'time'], ['sound#mean', 'android.sensor.accelerometer#mean'], ['sound#mean', 'android.sensor.accelerometer#min'], ['sound#mean', 'android.sensor.accelerometer#max'], ['sound#mean', 'android.sensor.accelerometer#std'], ['sound#mean', 'android.sensor.gyroscope#mean'], ['sound#mean', 'android.sensor.gyroscope#min'], ['sound#mean', 'android.sensor.gyroscope#max'], ['sound#mean', 'android.sensor.gyroscope#std'], ['sound#mean', 'sound#std'], ['sound#min', 'time'], ['sound#min', 'android.sensor.accelerometer#mean'], ['sound#min', 'android.sensor.accelerometer#min'], ['sound#min', 'android.sensor.accelerometer#max'], ['sound#min', 'android.sensor.accelerometer#std'], ['sound#min', 'android.sensor.gyroscope#mean'], ['sound#min', 'android.sensor.gyroscope#min'], ['sound#min', 'android.sensor.gyroscope#max'], ['sound#min', 'android.sensor.gyroscope#std'], ['sound#min', 'sound#std'], ['sound#max', 'time'], ['sound#max', 'android.sensor.accelerometer#mean'], ['sound#max', 'android.sensor.accelerometer#min'], ['sound#max', 'android.sensor.accelerometer#max'], ['sound#max', 'android.sensor.accelerometer#std'], ['sound#max', 'android.sensor.gyroscope#mean'], ['sound#max', 'android.sensor.gyroscope#min'], ['sound#max', 'android.sensor.gyroscope#max'], ['sound#max', 'android.sensor.gyroscope#std'], ['sound#max', 'sound#std'], ['sound#std', 'time'], ['sound#std', 'android.sensor.accelerometer#mean'], ['sound#std', 'android.sensor.accelerometer#min'], ['sound#std', 'android.sensor.accelerometer#max'], ['sound#std', 'android.sensor.accelerometer#std'], ['sound#std', 'android.sensor.gyroscope#mean'], ['sound#std', 'android.sensor.gyroscope#min'], ['sound#std', 'android.sensor.gyroscope#max'], ['sound#std', 'android.sensor.gyroscope#std'], ['sound#std', 'sound#mean'], ['sound#std', 'sound#min'], ['sound#std', 'sound#max']]\n"
     ]
    }
   ],
   "source": [
    "#Selecionando os atributos com menor correlação. Considerou correlações menores que 0.6.\n",
    "p = 0.6\n",
    "var = []\n",
    "for i in corr.columns:\n",
    "    for j in corr.columns:\n",
    "        if(i != j):\n",
    "            if np.abs(corr[i][j]) < p:\n",
    "                var.append([i,j])\n",
    "print('Variáveis nao correlacionadas:\\n', var)\n"
   ]
  },
  {
   "cell_type": "code",
   "execution_count": 110,
   "metadata": {},
   "outputs": [
    {
     "data": {
      "text/plain": [
       "array(['android.sensor.accelerometer#max',\n",
       "       'android.sensor.accelerometer#mean',\n",
       "       'android.sensor.accelerometer#min',\n",
       "       'android.sensor.accelerometer#std', 'android.sensor.gyroscope#max',\n",
       "       'android.sensor.gyroscope#mean', 'android.sensor.gyroscope#min',\n",
       "       'android.sensor.gyroscope#std', 'sound#max', 'sound#mean',\n",
       "       'sound#min', 'sound#std', 'time'], dtype='<U33')"
      ]
     },
     "execution_count": 110,
     "metadata": {},
     "output_type": "execute_result"
    }
   ],
   "source": [
    "#Selecionando os atributos sem que haja repetição.\n",
    "var = np.unique(var)\n",
    "var"
   ]
  },
  {
   "cell_type": "code",
   "execution_count": 116,
   "metadata": {},
   "outputs": [
    {
     "name": "stdout",
     "output_type": "stream",
     "text": [
      "0.6476244343891403 0.6029411764705882 0.5576923076923077\n",
      "0.6476244343891403 0.6029411764705882 0.5576923076923077\n"
     ]
    }
   ],
   "source": [
    "#Lendo os dados novamente \n",
    "import random\n",
    "random.seed(1)\n",
    "import pandas as pd\n",
    "import matplotlib.pyplot as plt\n",
    "# Lendo arquivo CSV\n",
    "data = pd.read_csv('data.csv', header=(0))\n",
    "#Fazendo pré-processamento\n",
    "data=data.dropna()\n",
    "data.duplicated()\n",
    "data = data.drop_duplicates()\n",
    "#Selecionando as classes\n",
    "import numpy as np\n",
    "classes = pd.unique(data[data.columns[-1]]) #name of the clases\n",
    "classes = np.array(classes, dtype=str)\n",
    "#list_labels = list(var)\n",
    "Y = np.array(data[data.columns[-1]],dtype=str)\n",
    "# transformando a variável var (contendo os nomes dos atributos menos correlacionados) em lista\n",
    "data_list = list(var)\n",
    "# Convertendo em numpy array. Nesse caso, X contém apenas os atirbutos de interesse.\n",
    "X_sem = data.loc[:,['android.sensor.accelerometer#max','android.sensor.accelerometer#mean','android.sensor.accelerometer#min', 'android.sensor.accelerometer#std','android.sensor.gyroscope#max', 'android.sensor.gyroscope#mean','android.sensor.gyroscope#min', 'android.sensor.gyroscope#std','sound#max', 'sound#mean','sound#min', 'sound#std', 'time']]\n",
    "X_sem = np.array(X_sem)\n",
    "\n",
    "#Classificando\n",
    "score_1sem, score_2sem, score_3sem = clas(X_sem,Y)\n",
    "print(score_1sem, score_2sem, score_3sem)\n",
    "print(score_1, score_2, score_3)"
   ]
  },
  {
   "cell_type": "code",
   "execution_count": 113,
   "metadata": {},
   "outputs": [
    {
     "data": {
      "image/png": "[encoded data removed]",
      "text/plain": [
       "<Figure size 432x288 with 1 Axes>"
      ]
     },
     "metadata": {
      "needs_background": "light"
     },
     "output_type": "display_data"
    }
   ],
   "source": [
    "#Para efeitos de comparação, foi gerado o gráfico das acurácias considerando todos os atributos e \n",
    "#considerando os atributos menos correlacionados.\n",
    "numbers = 3\n",
    "acura1 = [score_1sem, score_2sem, score_3sem]\n",
    "acura2 = [score_1, score_2, score_3]\n",
    "\n",
    "ind = np.arange(numbers) \n",
    "width = 0.35       \n",
    "plt.bar(ind, acura1, width,label='Com Todas as variáveis')\n",
    "plt.bar(ind+ width, acura2, width, label='Com as Variáveis Menos Correlacionadas')\n",
    "\n",
    "\n",
    "\n",
    "plt.ylabel('Acurácia')\n",
    "plt.title('Acurácia por Método e Correlação')\n",
    "\n",
    "plt.xticks(ind + width/2  , ('KNN', 'CB', 'NB'))\n",
    "plt.legend(loc='best')\n",
    "plt.show()"
   ]
  },
  {
   "cell_type": "markdown",
   "metadata": {},
   "source": [
    "Podemos ver pelo gráfico que não houve alteração na acurácia quando tiramos as variáveis correlacionadas. Então poderíamos trabalhar apenas com essas variáveis não correlacionadas. "
   ]
  },
  {
   "cell_type": "markdown",
   "metadata": {},
   "source": [
    "7\t– Verifique\tqual\tdos\tclassificadores\té\tmais\trobusto\tcom\trelação\tà\tpresença\tde\truídos.\tPara\tisso:\t\n",
    "• Aplique\ta\tnormalização\tdos\tdados\tpara\tque\tos\tatributos\tapresentem\tmédia\tigual\ta\tzero\te\tvariância\tigual\ta\t1.\n",
    "\n",
    "• Inclua\tem\tX%\tdos\tatributos,\tum\tvalor\tnormalmente\tdistribuído\tcom\tmédia\tzero\te\tvariância\t1.\tConsidere\ttoda a\tmatriz\tdos\tdados,\tsorteando\tuma\tposição\tda\tmatriz\tde\tforma\taleatória.\n",
    "\n",
    "• Varie\to\tnível\tde\truído,\tde\t0\ta\t50%\t(em\tpassos\tde\t5%)\te\tavalie\tcomo\tmuda\ta\tclassificação.\tConstrua\tum\tgráfico\tde\tX% de\truído versus\tporcentagem\tde\tclassificação\tcorreta.\tColoque\ta\tmédia\te\to\tdesvio\tpadrão\tcalculados\ta\tpartir\tde\tao\tmenos\t10\tsimulações.\tConsidere\t70%\tdos\tdados\tno\tconjunto\tde\ttreinamento.\n",
    "\n",
    "• Discuta os\tresultados"
   ]
  },
  {
   "cell_type": "code",
   "execution_count": 23,
   "metadata": {},
   "outputs": [],
   "source": [
    "#Lendo e filtrando os dados \n",
    "import random\n",
    "random.seed(1)\n",
    "import pandas as pd\n",
    "import matplotlib.pyplot as plt\n",
    "# CSV file\n",
    "data = pd.read_csv('tmd-dataset-5-seconds-sliding-window/carros.csv', header=(0))\n",
    "#data = pd.read_csv('data.csv', header=(0))\n",
    "data=data.dropna()\n",
    "data.duplicated()\n",
    "data = data.drop_duplicates()\n",
    "import numpy as np\n",
    "classes = pd.unique(data[data.columns[-1]]) #name of the clases\n",
    "classes = np.array(classes, dtype=str)"
   ]
  },
  {
   "cell_type": "code",
   "execution_count": 24,
   "metadata": {},
   "outputs": [
    {
     "data": {
      "text/plain": [
       "(5893, 13)"
      ]
     },
     "execution_count": 24,
     "metadata": {},
     "output_type": "execute_result"
    }
   ],
   "source": [
    "#Normalizando\n",
    "from sklearn.metrics import accuracy_score\n",
    "list_labels = list(data.columns)\n",
    "Y = np.array(data[list_labels[-1]],dtype=str)\n",
    "\n",
    "from sklearn.preprocessing import StandardScaler\n",
    "X = np.array(data[data.columns[0:data.shape[1]-1]])\n",
    "scaler = StandardScaler().fit(X)\n",
    "rescaledX = scaler.transform(X)\n",
    "X.shape"
   ]
  },
  {
   "cell_type": "code",
   "execution_count": 27,
   "metadata": {},
   "outputs": [
    {
     "name": "stdout",
     "output_type": "stream",
     "text": [
      "0 [0.843] [0.603] [0.558] 0\n",
      "5 [0.843, 0.829] [0.603, 0.573] [0.558, 0.553] 294\n",
      "10 [0.843, 0.829, 0.808] [0.603, 0.573, 0.583] [0.558, 0.553, 0.545] 589\n",
      "15 [0.843, 0.829, 0.808, 0.785] [0.603, 0.573, 0.583, 0.582] [0.558, 0.553, 0.545, 0.538] 883\n",
      "20 [0.843, 0.829, 0.808, 0.785, 0.751] [0.603, 0.573, 0.583, 0.582, 0.546] [0.558, 0.553, 0.545, 0.538, 0.524] 1178\n",
      "25 [0.843, 0.829, 0.808, 0.785, 0.751, 0.707] [0.603, 0.573, 0.583, 0.582, 0.546, 0.541] [0.558, 0.553, 0.545, 0.538, 0.524, 0.52] 1473\n",
      "30 [0.843, 0.829, 0.808, 0.785, 0.751, 0.707, 0.663] [0.603, 0.573, 0.583, 0.582, 0.546, 0.541, 0.52] [0.558, 0.553, 0.545, 0.538, 0.524, 0.52, 0.507] 1767\n",
      "35 [0.843, 0.829, 0.808, 0.785, 0.751, 0.707, 0.663, 0.619] [0.603, 0.573, 0.583, 0.582, 0.546, 0.541, 0.52, 0.52] [0.558, 0.553, 0.545, 0.538, 0.524, 0.52, 0.507, 0.501] 2062\n",
      "40 [0.843, 0.829, 0.808, 0.785, 0.751, 0.707, 0.663, 0.619, 0.585] [0.603, 0.573, 0.583, 0.582, 0.546, 0.541, 0.52, 0.52, 0.494] [0.558, 0.553, 0.545, 0.538, 0.524, 0.52, 0.507, 0.501, 0.504] 2357\n",
      "45 [0.843, 0.829, 0.808, 0.785, 0.751, 0.707, 0.663, 0.619, 0.585, 0.568] [0.603, 0.573, 0.583, 0.582, 0.546, 0.541, 0.52, 0.52, 0.494, 0.489] [0.558, 0.553, 0.545, 0.538, 0.524, 0.52, 0.507, 0.501, 0.504, 0.489] 2651\n",
      "50 [0.843, 0.829, 0.808, 0.785, 0.751, 0.707, 0.663, 0.619, 0.585, 0.568, 0.54] [0.603, 0.573, 0.583, 0.582, 0.546, 0.541, 0.52, 0.52, 0.494, 0.489, 0.477] [0.558, 0.553, 0.545, 0.538, 0.524, 0.52, 0.507, 0.501, 0.504, 0.489, 0.476] 2946\n"
     ]
    }
   ],
   "source": [
    "#Criando vetores para armezenar os valores das acurácias de cada método com a variação de ruído\n",
    "ack=[]\n",
    "accb=[]\n",
    "acnb=[]\n",
    "D = rescaledX\n",
    "for p in np.arange(0,55,5):\n",
    "    n = (p/100)*len(rescaledX) \n",
    "    ##Gerando valores de uma normal(0,1)\n",
    "    Z=normal=np.random.normal(0,1,int(n))\n",
    "    m=len(Z)\n",
    "    #Substituindo os valores na matriz X em posições aleatórias\n",
    "    for k in np.arange(0,m):\n",
    "        i=np.random.randint(0,len(X),1)\n",
    "        j=np.random.randint(0,13,1)\n",
    "        D[i,j]=Z[k]\n",
    "    ac1,ac2,ac3 = clas(D,Y)\n",
    "    ack.append(round(ac1,3))\n",
    "    accb.append(round(ac2,3))\n",
    "    acnb.append(round(ac3,3))\n",
    "    print(p,ack,accb,acnb,len(Z))"
   ]
  },
  {
   "cell_type": "code",
   "execution_count": 29,
   "metadata": {},
   "outputs": [
    {
     "data": {
      "image/png": "[encoded data removed]",
      "text/plain": [
       "<Figure size 432x288 with 1 Axes>"
      ]
     },
     "metadata": {},
     "output_type": "display_data"
    }
   ],
   "source": [
    "##Gráfico que mostra as acurácias dos métodos pra cada porcentagem de ruído\n",
    "import matplotlib.pyplot as plt\n",
    "x = np.arange(0,55,5)\n",
    "y = ack\n",
    "z = accb\n",
    "v = acnb\n",
    "plt.plot(x, y, marker='s', linestyle='-', color=\"blue\", linewidth=2.5, label='KNN')\n",
    "plt.plot(x, z, marker='*', linestyle='-', color=\"red\", linewidth=2.5, label='C. Bayes')\n",
    "plt.plot(x, v, marker='o', linestyle='-', color=\"green\", linewidth=2.5, label='Naive Bayes')\n",
    "\n",
    "plt.xlabel(\"Ruído\", fontsize=20)\n",
    "plt.ylabel(\"Acurácia\", fontsize=20)\n",
    "plt.legend()\n",
    "plt.show(True)"
   ]
  },
  {
   "cell_type": "markdown",
   "metadata": {},
   "source": [
    "Podemos perceber que a acurácia dos 3 métodos de classificação decresce com o aumento no nível de ruídos. O método KNN possui a maior inclinação. "
   ]
  },
  {
   "cell_type": "markdown",
   "metadata": {},
   "source": [
    "8\t– No\tcaso\tdo\tclassificador\tNaive\tBayes,\té\tpossível\tconsiderar\tdiferentes\tfunções\tpara\testimar\tas\tprobabilidades.\tCompare\tos\tcasos:\t(i)\tGaussian\tNaive\tBayes,\t(ii)\tmultinomial\tNaive\tBayes e\t(iii) Bernoulli\tNaive\tBayes.\tConsidere\tos\tcasos\tcom\te\tsem\tpadronização."
   ]
  },
  {
   "cell_type": "code",
   "execution_count": 123,
   "metadata": {},
   "outputs": [
    {
     "name": "stdout",
     "output_type": "stream",
     "text": [
      "Accuracy of Gaussian, Multinomial and Bernoulli: 0.557692 , 0.525452 , 0.525452\n"
     ]
    }
   ],
   "source": [
    "#Caso com padronização: lendo os dados e padronizando.\n",
    "import random\n",
    "random.seed(1)\n",
    "import pandas as pd\n",
    "import matplotlib.pyplot as plt\n",
    "# CSV file\n",
    "data = pd.read_csv('data.csv', header=(0))\n",
    "data=data.dropna()\n",
    "data.duplicated()\n",
    "data = data.drop_duplicates()\n",
    "\n",
    "import numpy as np\n",
    "classes = pd.unique(data[data.columns[-1]]) \n",
    "classes = np.array(classes, dtype=str)\n",
    "\n",
    "list_labels = list(data.columns)\n",
    "Y = np.array(data[list_labels[-1]],dtype=str)\n",
    "data= data.drop(list_labels[-1], axis = 1)\n",
    "data_list = list(data.columns)\n",
    "# numpy array\n",
    "X = np.array(data)\n",
    "\n",
    "# padronizacao \n",
    "from sklearn.preprocessing import MinMaxScaler\n",
    "X_stan = np.array(data[data.columns[0:data.shape[1]-1]])\n",
    "scaler = MinMaxScaler(feature_range=(0, 1))\n",
    "X_pad= scaler.fit_transform(X)\n",
    "\n",
    "#Amostras de teste e treino\n",
    "p = 0.7\n",
    "train_x, test_x, train_y, test_y = train_test_split(X_pad, Y, test_size = 1-p, random_state = 42)\n",
    "\n",
    "#I)Gaussian Bayes\n",
    "from sklearn.metrics import accuracy_score\n",
    "from sklearn.naive_bayes import GaussianNB\n",
    "gnb = GaussianNB()\n",
    "gnb.fit(train_x,train_y)\n",
    "pred_y= gnb.predict(test_x)\n",
    "score_gaussian= accuracy_score(pred_y, test_y)\n",
    "\n",
    "#II)Multinomial Naive Bayes\n",
    "from sklearn.naive_bayes import MultinomialNB\n",
    "mnb = MultinomialNB()\n",
    "mnb.fit(train_x,train_y)\n",
    "pred_y_multi = mnb.predict(test_x)\n",
    "score_multi = accuracy_score(pred_y_multi,test_y)\n",
    "\n",
    "#III)Bernoulli\tNaive\tBayes\n",
    "from sklearn.naive_bayes import BernoulliNB\n",
    "bnb = BernoulliNB()\n",
    "bnb.fit(train_x,train_y)\n",
    "pred_y_bern = mnb.predict(test_x)\n",
    "score_bern = accuracy_score(pred_y_bern,test_y)\n",
    "\n",
    "print(\"Accuracy of Gaussian, Multinomial and Bernoulli: %f , %f , %f\" % (score_gaussian, score_multi, score_bern))"
   ]
  },
  {
   "cell_type": "code",
   "execution_count": 124,
   "metadata": {},
   "outputs": [
    {
     "data": {
      "image/png": "[encoded data removed]",
      "text/plain": [
       "<Figure size 432x288 with 1 Axes>"
      ]
     },
     "metadata": {
      "needs_background": "light"
     },
     "output_type": "display_data"
    }
   ],
   "source": [
    "acura = [score_gaussian, score_multi, score_bern]\n",
    "nomes = ['Gaussian', 'Multinomial', 'Bernoulli']\n",
    "numbers = np.arange(0, len(nomes))\n",
    "plt.bar(numbers, acura, alpha=.75)\n",
    "plt.xticks(numbers, nomes)\n",
    "plt.title('Acurácia de Naive Bayes com padronizacao')\n",
    "plt.show(True)"
   ]
  },
  {
   "cell_type": "code",
   "execution_count": 125,
   "metadata": {},
   "outputs": [
    {
     "name": "stdout",
     "output_type": "stream",
     "text": [
      "Accuracy of Gaussian, Multinomial and Bernoulli: 0.429299 , 0.158371 , 0.158371\n"
     ]
    }
   ],
   "source": [
    "#Sem padronizacao\n",
    "list_labels = list(data.columns)\n",
    "Y = np.array(data[list_labels[-1]],dtype=str)\n",
    "data= data.drop(list_labels[-1], axis = 1)\n",
    "# Saving feature names for later use\n",
    "data_list = list(data.columns)\n",
    "# Convert to numpy array\n",
    "X = np.array(data)\n",
    "p = 0.7\n",
    "train_x, test_x, train_y, test_y = train_test_split(X, Y, test_size = 1-p, random_state = 42)\n",
    "#I)Gaussian Bayes\n",
    "from sklearn.metrics import accuracy_score\n",
    "from sklearn.naive_bayes import GaussianNB\n",
    "gnb = GaussianNB()\n",
    "gnb.fit(train_x,train_y)\n",
    "pred_y= gnb.predict(test_x)\n",
    "score_gaussian= accuracy_score(pred_y, test_y)\n",
    "\n",
    "#II)multinomial Naive Bayes\n",
    "from sklearn.naive_bayes import MultinomialNB\n",
    "mnb = MultinomialNB()\n",
    "mnb.fit(train_x,train_y)\n",
    "pred_y_multi = mnb.predict(test_x)\n",
    "score_multi = accuracy_score(pred_y_multi,test_y)\n",
    "\n",
    "#III)Bernoulli\tNaive\tBayes\n",
    "from sklearn.naive_bayes import BernoulliNB\n",
    "bnb = BernoulliNB()\n",
    "bnb.fit(train_x,train_y)\n",
    "pred_y_bern = mnb.predict(test_x)\n",
    "score_bern = accuracy_score(pred_y_bern,test_y)\n",
    "\n",
    "print(\"Accuracy of Gaussian, Multinomial and Bernoulli: %f , %f , %f\" % (score_gaussian, score_multi, score_bern))"
   ]
  },
  {
   "cell_type": "code",
   "execution_count": 126,
   "metadata": {},
   "outputs": [
    {
     "data": {
      "image/png": "[encoded data removed]",
      "text/plain": [
       "<Figure size 432x288 with 1 Axes>"
      ]
     },
     "metadata": {
      "needs_background": "light"
     },
     "output_type": "display_data"
    }
   ],
   "source": [
    "acura = [score_gaussian, score_multi, score_bern]\n",
    "nomes = ['Gaussian', 'Multinomial', 'Bernoulli']\n",
    "numbers = np.arange(0, len(nomes))\n",
    "plt.bar(numbers, acura, alpha=.75)\n",
    "plt.xticks(numbers, nomes)\n",
    "plt.title('Acurácia de Naive Bayes sem padronizacao')\n",
    "plt.show(True)"
   ]
  },
  {
   "cell_type": "markdown",
   "metadata": {},
   "source": [
    "A acurácia para todas as variações do Naive Bayes foi maior para o caso com padronização, todas as acurácias ultrapassaram 0.5. Por outro lado, no caso sem padronização, a acurácia foi bem menor para o Naive Multinomial e o Bernoulli atingindo 0.15, e no caso Gaussiano atingindo aproximadamente 0.43."
   ]
  },
  {
   "cell_type": "markdown",
   "metadata": {},
   "source": [
    "9: No\tcaso\tdo\tKnn,\tcompare\tas\tclassificações\tusando\tdiferentes\tmétricas.\tVarie\tk\te\tmostre\tas\tcurvas\t(em\tum\tmesmo\tplot)\tpara\tas\tdistâncias\teuclidiana,\tManhattan,\tChebyshev e\tMinkowsky\t(p=0.5,\tp=1.5,\tp=3)."
   ]
  },
  {
   "cell_type": "code",
   "execution_count": 129,
   "metadata": {},
   "outputs": [],
   "source": [
    "#Importando e pré-processando os dados.\n",
    "import random\n",
    "random.seed(1)\n",
    "import pandas as pd\n",
    "import matplotlib.pyplot as plt\n",
    "import numpy as np\n",
    "\n",
    "data = pd.read_csv('data.csv', header=(0))\n",
    "data=data.dropna()\n",
    "data.duplicated()\n",
    "data = data.drop_duplicates()\n",
    "\n",
    "\n",
    "classes = pd.unique(data[data.columns[-1]]) #name of the clases\n",
    "classes = np.array(classes, dtype=str)\n",
    "\n",
    "import numpy as np\n",
    "import matplotlib.pyplot as plt\n",
    "from sklearn.metrics import accuracy_score\n",
    "from sklearn.neighbors import KNeighborsClassifier\n",
    "from sklearn.model_selection import train_test_split\n",
    "\n",
    "list_labels = list(data.columns)\n",
    "Y = np.array(data[list_labels[-1]],dtype=str)\n",
    "data= data.drop(list_labels[-1], axis = 1)\n",
    "data_list = list(data.columns)\n",
    "X = np.array(data)\n",
    "\n",
    "import numpy as np\n",
    "p = 0.7\n",
    "train_x, test_x, train_y, test_y = train_test_split(X, Y, test_size = 1-p, random_state = 42) #random_state eh a semente \n",
    "\n",
    "vscore = []\n",
    "vk = []\n",
    "vscore2 = []\n",
    "vk2 = []\n",
    "vscore3  = []\n",
    "vk3=[]\n",
    "vscore4 = []\n",
    "vk4 = []\n",
    "vscore5 = []\n",
    "vk5 = []\n",
    "vscore6 = []\n",
    "vk6 = []\n",
    "#Distância Euclidiana\n",
    "for k in np.arange(1, 20):\n",
    "    model = KNeighborsClassifier(n_neighbors=k, metric = 'euclidean')\n",
    "    # Train the model using the training sets\n",
    "    model.fit(train_x,train_y)\n",
    "    #Predict Output\n",
    "    pred_y= model.predict(test_x) \n",
    "    score = accuracy_score(pred_y, test_y)\n",
    "    vscore.append(score)\n",
    "    vk.append(k) \n",
    "    \n",
    "#Distância Manhattan\n",
    "for k in np.arange(1, 20):\n",
    "    model2 = KNeighborsClassifier(n_neighbors=k, metric = 'manhattan')\n",
    "    # Train the model using the training sets\n",
    "    model2.fit(train_x,train_y)\n",
    "    #Predict Output\n",
    "    pred_y2= model2.predict(test_x) \n",
    "    score2 = accuracy_score(pred_y2, test_y)\n",
    "    vscore2.append(score2)\n",
    "    vk2.append(k)\n",
    "\n",
    "#Distância de Chebyshev\n",
    "for k in np.arange(1, 20):\n",
    "    model3 = KNeighborsClassifier(n_neighbors=k, metric = 'chebyshev')\n",
    "    # Train the model using the training sets\n",
    "    model3.fit(train_x,train_y)\n",
    "    #Predict Output\n",
    "    pred_y3= model3.predict(test_x) \n",
    "    score3 = accuracy_score(pred_y3, test_y)\n",
    "    vscore3.append(score3)\n",
    "    vk3.append(k)\n",
    "\n",
    "#Distância de Minkowski com p=1.5\n",
    "for k in np.arange(1, 20):\n",
    "    model5 = KNeighborsClassifier(n_neighbors=k, metric = 'minkowski',p=1.5)\n",
    "    # Train the model using the training sets\n",
    "    model5.fit(train_x,train_y)\n",
    "    #Predict Output\n",
    "    pred_y5= model5.predict(test_x) # 0:Overcast, 2:Mild\n",
    "    score5 = accuracy_score(pred_y5, test_y)\n",
    "    vscore5.append(score5)\n",
    "    vk5.append(k)\n",
    "    \n",
    "#Distância de Minkowski com p=3 \n",
    "for k in np.arange(1, 20):\n",
    "    model6 = KNeighborsClassifier(n_neighbors=k, metric = 'minkowski',p=3)\n",
    "    # Train the model using the training sets\n",
    "    model6.fit(train_x,train_y)\n",
    "    #Predict Output\n",
    "    pred_y6= model6.predict(test_x) \n",
    "    score6 = accuracy_score(pred_y6, test_y)\n",
    "    vscore6.append(score6)\n",
    "    vk6.append(k)\n"
   ]
  },
  {
   "cell_type": "code",
   "execution_count": 130,
   "metadata": {},
   "outputs": [
    {
     "data": {
      "image/png": "[encoded data removed]",
      "text/plain": [
       "<Figure size 432x288 with 1 Axes>"
      ]
     },
     "metadata": {
      "needs_background": "light"
     },
     "output_type": "display_data"
    }
   ],
   "source": [
    "import matplotlib.pyplot as plt\n",
    "plt.plot(vk, vscore, marker='s', linestyle='-', color=\"blue\", linewidth=2.5)#, label = 'Euclidiana'\n",
    "plt.plot(vk2, vscore2, marker='^', linestyle='-', color=\"yellow\", linewidth=2.5)#, label = 'Manhattan'\n",
    "plt.plot(vk3, vscore3, marker='o', linestyle='-', color=\"green\", linewidth=2.5)#, label = 'Chebyshev'\n",
    "plt.plot(vk5, vscore5, marker='>', linestyle='-', color=\"pink\", linewidth=2.5)#, label = 'Minkowski p=1.5'\n",
    "plt.plot(vk6, vscore6, marker='<', linestyle='-', color=\"black\", linewidth=2.5)#, label = 'Minkowski p=3'\n",
    "plt.xlabel(\"k\", fontsize=20)\n",
    "plt.ylabel(\"Accuracy\", fontsize=20)\n",
    "plt.gca().legend(('Euclidiana','Manhattan', 'Chebyshev','Minkowski p=1.5','Minkowski p=3'))\n",
    "plt.grid(True)\n",
    "plt.show(True) "
   ]
  },
  {
   "cell_type": "markdown",
   "metadata": {},
   "source": [
    "Para diferentes valores de K, o usa da distância de Manhattan no classificador Knn obteve melhores resultados, seguido das distâncias de Minkowski (p=1.5), Euclidiana, Minkowski (p=3) e Chebyshev."
   ]
  },
  {
   "cell_type": "markdown",
   "metadata": {},
   "source": [
    "10\t– Faça\tum\tgráfico\tda\tfração\tde\telementos\tno\tconjunto\tde\ttreinamento\t(10% até\t90%\tem\tpassos\tde\t10%)\tversus\tacurácia\tpara\tos\tclassificadores:\n",
    "• knn\t(melhor\tk\tobservado\tanteriormente)\n",
    "• Naive\tBayes\n",
    "• Decisão\tBayesiana\n",
    "Considere\tos\tcasos\tcom\te\tsem\tpadronização."
   ]
  },
  {
   "cell_type": "code",
   "execution_count": 131,
   "metadata": {},
   "outputs": [],
   "source": [
    "from sklearn.model_selection import train_test_split\n",
    "import numpy as np\n",
    "from sklearn.metrics import accuracy_score\n",
    "from sklearn.neighbors import KNeighborsClassifier\n",
    "from scipy.stats import multivariate_normal\n",
    "from sklearn.naive_bayes import GaussianNB\n",
    "\n",
    "#Funcao de Classificação com p variável\n",
    "def clasf(X,Y,p):\n",
    "    train_x, test_x, train_y, test_y = train_test_split(X, Y, test_size = 1-p, random_state = 42)\n",
    "    ##KNN\n",
    "    k = 1\n",
    "    model = KNeighborsClassifier(n_neighbors=k, metric = 'euclidean')\n",
    "    # Treinamento\n",
    "    model.fit(train_x,train_y)\n",
    "    #Predição\n",
    "    pred_y_1= model.predict(test_x) \n",
    "    score_1 = accuracy_score(pred_y_1, test_y)\n",
    "    \n",
    "    ##Classificador Bayesiano\n",
    "    P = pd.DataFrame(data=np.zeros((train_x.shape[0], len(classes))), columns = classes) #matrix to store the probabilities\n",
    "    for i in np.arange(0, len(classes)):\n",
    "        elements = tuple(np.where(train_y == classes[i]))\n",
    "        Z = train_x[elements,:][0]\n",
    "        m = np.mean(Z, axis = 0)\n",
    "        cv = np.cov(np.transpose(Z))\n",
    "        for j in np.arange(0,test_x.shape[0]):\n",
    "            x = test_x[j,:]\n",
    "            pj = multivariate_normal.pdf(x, mean=m, cov=cv)\n",
    "            P[classes[i]][j] = pj\n",
    "    pred_y_2 = []\n",
    "    #np.array(test_x.shape[0], dtype=str)\n",
    "    for i in np.arange(0, test_x.shape[0]):\n",
    "        c = np.argmax(np.array(P.iloc[[i]]))\n",
    "        pred_y_2.append(classes[c])\n",
    "    pred_y_2 = np.array(pred_y_2, dtype=str)\n",
    "    score_2 = accuracy_score(pred_y_2, test_y)\n",
    "\n",
    "    ##Classificador Naive Bayes\n",
    "    gnb = GaussianNB()\n",
    "    gnb.fit(train_x,train_y)\n",
    "    pred_y_3= gnb.predict(test_x)\n",
    "    score_3 = accuracy_score(pred_y_3, test_y)\n",
    "    return score_1, score_2, score_3\n"
   ]
  },
  {
   "cell_type": "code",
   "execution_count": 132,
   "metadata": {},
   "outputs": [],
   "source": [
    "#Importando os dados\n",
    "import pandas as pd\n",
    "import matplotlib.pyplot as plt\n",
    "data = pd.read_csv('data.csv', header=(0))\n",
    "#data = pd.read_csv('data.csv', header=(0))\n",
    "data=data.dropna()\n",
    "data.duplicated()\n",
    "data = data.drop_duplicates()\n",
    "\n",
    "import numpy as np\n",
    "classes = pd.unique(data[data.columns[-1]]) #name of the clases\n",
    "classes = np.array(classes, dtype=str)\n",
    "\n",
    "list_labels = list(data.columns)\n",
    "Y = np.array(data[list_labels[-1]],dtype=str)\n",
    "data= data.drop(list_labels[-1], axis = 1)\n",
    "\n",
    "# Nomes dos atributos\n",
    "data_list = list(data.columns)\n",
    "\n",
    "#numpy array\n",
    "X = np.array(data)"
   ]
  },
  {
   "cell_type": "code",
   "execution_count": 133,
   "metadata": {},
   "outputs": [
    {
     "name": "stdout",
     "output_type": "stream",
     "text": [
      "0.6 [0.645] [0.588] [0.556]\n",
      "0.7 [0.645, 0.648] [0.588, 0.603] [0.556, 0.558]\n",
      "0.7999999999999999 [0.645, 0.648, 0.64] [0.588, 0.603, 0.628] [0.556, 0.558, 0.57]\n",
      "0.8999999999999999 [0.645, 0.648, 0.64, 0.659] [0.588, 0.603, 0.628, 0.624] [0.556, 0.558, 0.57, 0.581]\n"
     ]
    }
   ],
   "source": [
    "###Sem Padronização\n",
    "#vetores vazios para as acuracias do knn, bayesiano e naiva bayes\n",
    "ack_2=[]\n",
    "accb_2=[]\n",
    "acnb_2=[]\n",
    "\n",
    "#for com p variando de 0.6 a 0.9 com acrescimo de 0.1, chamando a função anterior para a classificação por diferentes métodos.\n",
    "for p in np.arange(0.6,0.91,0.1):\n",
    "    ac1,ac2,ac3=clasf(X,Y,p)\n",
    "    ack_2.append(round(ac1,3))\n",
    "    accb_2.append(round(ac2,3))\n",
    "    acnb_2.append(round(ac3,3))\n",
    "    print(p,ack_2,accb_2,acnb_2)"
   ]
  },
  {
   "cell_type": "code",
   "execution_count": 134,
   "metadata": {},
   "outputs": [
    {
     "data": {
      "image/png": "[encoded data removed]",
      "text/plain": [
       "<Figure size 432x288 with 1 Axes>"
      ]
     },
     "metadata": {
      "needs_background": "light"
     },
     "output_type": "display_data"
    }
   ],
   "source": [
    "import matplotlib.pyplot as plt\n",
    "x = np.arange(60,100,10)\n",
    "y = ack_2\n",
    "z = accb_2\n",
    "v = acnb_2\n",
    "plt.plot(x, y, marker='s', linestyle='-', color=\"blue\", linewidth=2.5, label='KNN')\n",
    "plt.plot(x, z, marker='*', linestyle='-', color=\"red\", linewidth=2.5, label='C. Bayes')\n",
    "plt.plot(x, v, marker='o', linestyle='-', color=\"green\", linewidth=2.5, label='Naive Bayes')\n",
    "\n",
    "plt.title(\"Sem Padronização\")\n",
    "plt.xlabel(\"Proporção de Treino\", fontsize=20)\n",
    "plt.ylabel(\"Acurácia\", fontsize=20)\n",
    "plt.legend()\n",
    "plt.show(True)"
   ]
  },
  {
   "cell_type": "markdown",
   "metadata": {},
   "source": [
    "Para diferentes valores de p e dados não padronizados, o Knn não variou muito, ficando na faixa de acurácia entre 0.64 e 0.66. Já o classificador Bayesiano, obteve maior acurácia com p = 0.8, atingindo 0.63 de acurácia, aproximadamente. E o Naive Bayes, resultou nas menores acurácias, variando entre 0.55 e 0.58."
   ]
  },
  {
   "cell_type": "code",
   "execution_count": 136,
   "metadata": {},
   "outputs": [],
   "source": [
    "#Lendo e pré-processando os dados novamente\n",
    "import pandas as pd\n",
    "import matplotlib.pyplot as plt\n",
    "# CSV\n",
    "data = pd.read_csv('data.csv', header=(0))\n",
    "#data = pd.read_csv('data.csv', header=(0))\n",
    "\n",
    "data=data.dropna()\n",
    "data.duplicated()\n",
    "data = data.drop_duplicates()\n",
    "import numpy as np\n",
    "classes = pd.unique(data[data.columns[-1]]) #name of the clases\n",
    "classes = np.array(classes, dtype=str)\n",
    "\n",
    "list_labels = list(data.columns)"
   ]
  },
  {
   "cell_type": "code",
   "execution_count": 137,
   "metadata": {},
   "outputs": [],
   "source": [
    "#Padronizando os dados\n",
    "from sklearn.metrics import accuracy_score\n",
    "list_labels = list(data.columns)\n",
    "Y = np.array(data[list_labels[-1]],dtype=str)\n",
    "\n",
    "from sklearn.preprocessing import MinMaxScaler\n",
    "X = np.array(data[data.columns[0:data.shape[1]-1]])\n",
    "scaler = MinMaxScaler(feature_range=(0, 1))\n",
    "X_pad = scaler.fit_transform(X)"
   ]
  },
  {
   "cell_type": "code",
   "execution_count": 138,
   "metadata": {},
   "outputs": [
    {
     "name": "stdout",
     "output_type": "stream",
     "text": [
      "0.6 [0.797] [0.588] [0.556]\n",
      "0.7 [0.797, 0.808] [0.588, 0.603] [0.556, 0.558]\n",
      "0.7999999999999999 [0.797, 0.808, 0.817] [0.588, 0.603, 0.628] [0.556, 0.558, 0.57]\n",
      "0.8999999999999999 [0.797, 0.808, 0.817, 0.81] [0.588, 0.603, 0.628, 0.624] [0.556, 0.558, 0.57, 0.581]\n"
     ]
    }
   ],
   "source": [
    "## Aplicando a Classificação com a função de classificação com p variável\n",
    "ack_2=[]\n",
    "accb_2=[]\n",
    "acnb_2=[]\n",
    "#uso do for para aplicar a função com diferentes valores de p entre 0.6 e 0.9 com acréscimo de 0.1\n",
    "for p in np.arange(0.6,0.9,0.1):\n",
    "    ac1,ac2,ac3=clasf(X_pad,Y,p)\n",
    "    ack_2.append(round(ac1,3))\n",
    "    accb_2.append(round(ac2,3))\n",
    "    acnb_2.append(round(ac3,3))\n",
    "    print(p,ack_2,accb_2,acnb_2)"
   ]
  },
  {
   "cell_type": "code",
   "execution_count": 139,
   "metadata": {},
   "outputs": [
    {
     "data": {
      "image/png": "[encoded data removed]",
      "text/plain": [
       "<Figure size 432x288 with 1 Axes>"
      ]
     },
     "metadata": {
      "needs_background": "light"
     },
     "output_type": "display_data"
    }
   ],
   "source": [
    "#Gerando o gráfico das acurácias dos métodos\n",
    "import matplotlib.pyplot as plt\n",
    "x = np.arange(60,100,10)\n",
    "y = ack_2\n",
    "z = accb_2\n",
    "v = acnb_2\n",
    "plt.plot(x, y, marker='s', linestyle='-', color=\"blue\", linewidth=2.5, label='KNN')\n",
    "plt.plot(x, z, marker='*', linestyle='-', color=\"red\", linewidth=2.5, label='C. Bayes')\n",
    "plt.plot(x, v, marker='o', linestyle='-', color=\"green\", linewidth=2.5, label='Naive Bayes')\n",
    "\n",
    "plt.title(\"Com Padronização\")\n",
    "plt.xlabel(\"Proporção de Treino\", fontsize=20)\n",
    "plt.ylabel(\"Acurácia\", fontsize=20)\n",
    "plt.legend()\n",
    "plt.show(True)"
   ]
  },
  {
   "cell_type": "markdown",
   "metadata": {},
   "source": [
    "Como já era esperado, o classificador KNN resultou numa melhor acurácia com os dados padronizados, ficando próxima de 0.8 em geral. Já os outros dois classificadores, tiveram resultados muito próximos."
   ]
  }
 ],
 "metadata": {
  "kernelspec": {
   "display_name": "Python 3",
   "language": "python",
   "name": "python3"
  },
  "language_info": {
   "codemirror_mode": {
    "name": "ipython",
    "version": 3
   },
   "file_extension": ".py",
   "mimetype": "text/x-python",
   "name": "python",
   "nbconvert_exporter": "python",
   "pygments_lexer": "ipython3",
   "version": "3.6.5"
  }
 },
 "nbformat": 4,
 "nbformat_minor": 2
}
