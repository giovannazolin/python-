{
 "cells": [
  {
   "cell_type": "markdown",
   "metadata": {},
   "source": [
    "# Atividade_MD_4\n",
    "\n",
    "### Carlos Miguel Toste Sisto nºUSP: 9847561"
   ]
  },
  {
   "cell_type": "code",
   "execution_count": 1,
   "metadata": {},
   "outputs": [],
   "source": [
    "import pandas as pd\n",
    "import numpy as np\n",
    "import matplotlib.pyplot as plt"
   ]
  },
  {
   "cell_type": "markdown",
   "metadata": {},
   "source": [
    "# Exercício 1"
   ]
  },
  {
   "cell_type": "markdown",
   "metadata": {},
   "source": [
    "Primeiramente vamos ler a base de dados:"
   ]
  },
  {
   "cell_type": "code",
   "execution_count": 6,
   "metadata": {},
   "outputs": [
    {
     "data": {
      "text/html": [
       "<div>\n",
       "<style scoped>\n",
       "    .dataframe tbody tr th:only-of-type {\n",
       "        vertical-align: middle;\n",
       "    }\n",
       "\n",
       "    .dataframe tbody tr th {\n",
       "        vertical-align: top;\n",
       "    }\n",
       "\n",
       "    .dataframe thead th {\n",
       "        text-align: right;\n",
       "    }\n",
       "</style>\n",
       "<table border=\"1\" class=\"dataframe\">\n",
       "  <thead>\n",
       "    <tr style=\"text-align: right;\">\n",
       "      <th></th>\n",
       "      <th>1</th>\n",
       "      <th>2</th>\n",
       "      <th>3</th>\n",
       "      <th>4</th>\n",
       "      <th>5</th>\n",
       "      <th>6</th>\n",
       "      <th>7</th>\n",
       "      <th>8</th>\n",
       "      <th>9</th>\n",
       "      <th>10</th>\n",
       "      <th>...</th>\n",
       "      <th>291</th>\n",
       "      <th>292</th>\n",
       "      <th>293</th>\n",
       "      <th>294</th>\n",
       "      <th>295</th>\n",
       "      <th>296</th>\n",
       "      <th>297</th>\n",
       "      <th>298</th>\n",
       "      <th>299</th>\n",
       "      <th>300</th>\n",
       "    </tr>\n",
       "    <tr>\n",
       "      <th>0</th>\n",
       "      <th></th>\n",
       "      <th></th>\n",
       "      <th></th>\n",
       "      <th></th>\n",
       "      <th></th>\n",
       "      <th></th>\n",
       "      <th></th>\n",
       "      <th></th>\n",
       "      <th></th>\n",
       "      <th></th>\n",
       "      <th></th>\n",
       "      <th></th>\n",
       "      <th></th>\n",
       "      <th></th>\n",
       "      <th></th>\n",
       "      <th></th>\n",
       "      <th></th>\n",
       "      <th></th>\n",
       "      <th></th>\n",
       "      <th></th>\n",
       "      <th></th>\n",
       "    </tr>\n",
       "  </thead>\n",
       "  <tbody>\n",
       "    <tr>\n",
       "      <th>car</th>\n",
       "      <td>0.130859</td>\n",
       "      <td>0.008423</td>\n",
       "      <td>0.033447</td>\n",
       "      <td>-0.058838</td>\n",
       "      <td>0.040039</td>\n",
       "      <td>-0.142578</td>\n",
       "      <td>0.049316</td>\n",
       "      <td>-0.168945</td>\n",
       "      <td>0.208984</td>\n",
       "      <td>0.119629</td>\n",
       "      <td>...</td>\n",
       "      <td>-0.275391</td>\n",
       "      <td>0.285156</td>\n",
       "      <td>-0.047363</td>\n",
       "      <td>0.064941</td>\n",
       "      <td>-0.112305</td>\n",
       "      <td>-0.025757</td>\n",
       "      <td>-0.041260</td>\n",
       "      <td>0.228516</td>\n",
       "      <td>-0.149414</td>\n",
       "      <td>-0.150391</td>\n",
       "    </tr>\n",
       "    <tr>\n",
       "      <th>bus</th>\n",
       "      <td>0.059326</td>\n",
       "      <td>-0.169922</td>\n",
       "      <td>0.038818</td>\n",
       "      <td>-0.049561</td>\n",
       "      <td>0.038330</td>\n",
       "      <td>-0.153320</td>\n",
       "      <td>-0.166016</td>\n",
       "      <td>-0.443359</td>\n",
       "      <td>0.239258</td>\n",
       "      <td>0.011780</td>\n",
       "      <td>...</td>\n",
       "      <td>-0.011108</td>\n",
       "      <td>0.079590</td>\n",
       "      <td>0.130859</td>\n",
       "      <td>-0.211914</td>\n",
       "      <td>0.073730</td>\n",
       "      <td>0.081055</td>\n",
       "      <td>-0.158203</td>\n",
       "      <td>0.474609</td>\n",
       "      <td>0.059814</td>\n",
       "      <td>-0.244141</td>\n",
       "    </tr>\n",
       "    <tr>\n",
       "      <th>drive</th>\n",
       "      <td>-0.025879</td>\n",
       "      <td>0.097656</td>\n",
       "      <td>0.008972</td>\n",
       "      <td>-0.097656</td>\n",
       "      <td>-0.122070</td>\n",
       "      <td>-0.103516</td>\n",
       "      <td>0.030762</td>\n",
       "      <td>-0.167969</td>\n",
       "      <td>-0.006622</td>\n",
       "      <td>0.287109</td>\n",
       "      <td>...</td>\n",
       "      <td>-0.011780</td>\n",
       "      <td>0.380859</td>\n",
       "      <td>-0.181641</td>\n",
       "      <td>0.257812</td>\n",
       "      <td>0.113281</td>\n",
       "      <td>-0.069336</td>\n",
       "      <td>-0.016479</td>\n",
       "      <td>-0.025635</td>\n",
       "      <td>-0.076172</td>\n",
       "      <td>-0.127930</td>\n",
       "    </tr>\n",
       "    <tr>\n",
       "      <th>road</th>\n",
       "      <td>0.111816</td>\n",
       "      <td>0.263672</td>\n",
       "      <td>0.085938</td>\n",
       "      <td>-0.083984</td>\n",
       "      <td>0.146484</td>\n",
       "      <td>-0.031738</td>\n",
       "      <td>-0.194336</td>\n",
       "      <td>-0.261719</td>\n",
       "      <td>-0.000030</td>\n",
       "      <td>0.177734</td>\n",
       "      <td>...</td>\n",
       "      <td>-0.050781</td>\n",
       "      <td>0.035156</td>\n",
       "      <td>-0.292969</td>\n",
       "      <td>0.000927</td>\n",
       "      <td>0.032227</td>\n",
       "      <td>-0.038818</td>\n",
       "      <td>-0.110840</td>\n",
       "      <td>-0.067383</td>\n",
       "      <td>0.230469</td>\n",
       "      <td>-0.231445</td>\n",
       "    </tr>\n",
       "    <tr>\n",
       "      <th>devil</th>\n",
       "      <td>0.287109</td>\n",
       "      <td>-0.186523</td>\n",
       "      <td>0.161133</td>\n",
       "      <td>0.182617</td>\n",
       "      <td>-0.174805</td>\n",
       "      <td>0.367188</td>\n",
       "      <td>-0.018677</td>\n",
       "      <td>-0.026978</td>\n",
       "      <td>0.125977</td>\n",
       "      <td>0.233398</td>\n",
       "      <td>...</td>\n",
       "      <td>-0.005371</td>\n",
       "      <td>-0.064941</td>\n",
       "      <td>-0.093262</td>\n",
       "      <td>-0.104980</td>\n",
       "      <td>-0.414062</td>\n",
       "      <td>0.026123</td>\n",
       "      <td>0.337891</td>\n",
       "      <td>-0.033203</td>\n",
       "      <td>-0.195312</td>\n",
       "      <td>0.028687</td>\n",
       "    </tr>\n",
       "  </tbody>\n",
       "</table>\n",
       "<p>5 rows × 300 columns</p>\n",
       "</div>"
      ],
      "text/plain": [
       "            1         2         3         4         5         6         7    \\\n",
       "0                                                                             \n",
       "car    0.130859  0.008423  0.033447 -0.058838  0.040039 -0.142578  0.049316   \n",
       "bus    0.059326 -0.169922  0.038818 -0.049561  0.038330 -0.153320 -0.166016   \n",
       "drive -0.025879  0.097656  0.008972 -0.097656 -0.122070 -0.103516  0.030762   \n",
       "road   0.111816  0.263672  0.085938 -0.083984  0.146484 -0.031738 -0.194336   \n",
       "devil  0.287109 -0.186523  0.161133  0.182617 -0.174805  0.367188 -0.018677   \n",
       "\n",
       "            8         9         10     ...          291       292       293  \\\n",
       "0                                      ...                                    \n",
       "car   -0.168945  0.208984  0.119629    ...    -0.275391  0.285156 -0.047363   \n",
       "bus   -0.443359  0.239258  0.011780    ...    -0.011108  0.079590  0.130859   \n",
       "drive -0.167969 -0.006622  0.287109    ...    -0.011780  0.380859 -0.181641   \n",
       "road  -0.261719 -0.000030  0.177734    ...    -0.050781  0.035156 -0.292969   \n",
       "devil -0.026978  0.125977  0.233398    ...    -0.005371 -0.064941 -0.093262   \n",
       "\n",
       "            294       295       296       297       298       299       300  \n",
       "0                                                                            \n",
       "car    0.064941 -0.112305 -0.025757 -0.041260  0.228516 -0.149414 -0.150391  \n",
       "bus   -0.211914  0.073730  0.081055 -0.158203  0.474609  0.059814 -0.244141  \n",
       "drive  0.257812  0.113281 -0.069336 -0.016479 -0.025635 -0.076172 -0.127930  \n",
       "road   0.000927  0.032227 -0.038818 -0.110840 -0.067383  0.230469 -0.231445  \n",
       "devil -0.104980 -0.414062  0.026123  0.337891 -0.033203 -0.195312  0.028687  \n",
       "\n",
       "[5 rows x 300 columns]"
      ]
     },
     "execution_count": 6,
     "metadata": {},
     "output_type": "execute_result"
    }
   ],
   "source": [
    "data = pd.read_csv('words_data.csv', header = None, index_col= 0)\n",
    "data.head()"
   ]
  },
  {
   "cell_type": "markdown",
   "metadata": {},
   "source": [
    "Podemos notar que a base está estruturada considerando cada palavra como uma observação na base de dados e que possui 300 atributos que modelam esta palavra no espaço vetorial."
   ]
  },
  {
   "cell_type": "markdown",
   "metadata": {},
   "source": [
    "# Exercício 2"
   ]
  },
  {
   "cell_type": "code",
   "execution_count": 7,
   "metadata": {},
   "outputs": [],
   "source": [
    "from sklearn.cluster import KMeans"
   ]
  },
  {
   "cell_type": "markdown",
   "metadata": {},
   "source": [
    "A seguir criamos a instância do K-Means com K = 3 e agrupamos os dados:"
   ]
  },
  {
   "cell_type": "code",
   "execution_count": 8,
   "metadata": {},
   "outputs": [
    {
     "data": {
      "text/plain": [
       "KMeans(algorithm='auto', copy_x=True, init='k-means++', max_iter=300,\n",
       "    n_clusters=3, n_init=10, n_jobs=1, precompute_distances='auto',\n",
       "    random_state=2, tol=0.0001, verbose=0)"
      ]
     },
     "execution_count": 8,
     "metadata": {},
     "output_type": "execute_result"
    }
   ],
   "source": [
    "kmeans = KMeans(n_clusters = 3, random_state = 2)\n",
    "kmeans.fit(data)"
   ]
  },
  {
   "cell_type": "markdown",
   "metadata": {},
   "source": [
    "# Exercício 3"
   ]
  },
  {
   "cell_type": "markdown",
   "metadata": {},
   "source": [
    "Agora criaremos uma coluna de rótulos em nosso banco de dados obtida a partir do método de agrupamento utilizado:"
   ]
  },
  {
   "cell_type": "code",
   "execution_count": 36,
   "metadata": {},
   "outputs": [],
   "source": [
    "data['Rótulo']  = kmeans.fit_predict(data)"
   ]
  },
  {
   "cell_type": "markdown",
   "metadata": {},
   "source": [
    "Agora, serão mostradas quais palavras estão em cada cluster, a partir da coluna 'Rótulo' criada anteriormente:"
   ]
  },
  {
   "cell_type": "code",
   "execution_count": 29,
   "metadata": {},
   "outputs": [
    {
     "name": "stdout",
     "output_type": "stream",
     "text": [
      "Index(['devil', 'hell', 'dead', 'dark'], dtype='object', name=0)\n"
     ]
    }
   ],
   "source": [
    "cluster_0 = data[data['Rótulo']==0].index\n",
    "print(cluster_0)"
   ]
  },
  {
   "cell_type": "code",
   "execution_count": 30,
   "metadata": {},
   "outputs": [
    {
     "name": "stdout",
     "output_type": "stream",
     "text": [
      "Index(['golf', 'sports', 'racing', 'soccer', 'game', 'rugby'], dtype='object', name=0)\n"
     ]
    }
   ],
   "source": [
    "cluster_1 = data[data['Rótulo']==1].index\n",
    "print(cluster_1)"
   ]
  },
  {
   "cell_type": "code",
   "execution_count": 32,
   "metadata": {},
   "outputs": [
    {
     "name": "stdout",
     "output_type": "stream",
     "text": [
      "Index(['car', 'bus', 'drive', 'road', 'fire', 'circuit'], dtype='object', name=0)\n"
     ]
    }
   ],
   "source": [
    "cluster_2 = data[data['Rótulo']==2].index\n",
    "print(cluster_2)"
   ]
  },
  {
   "cell_type": "markdown",
   "metadata": {},
   "source": [
    "Observando o resultado dos agrupamentos, percebemos que as palavras que ficaram juntas possuem uma certa correlação de contexto.\n",
    "No cluster 0, percebemos que as palavras estão relacionadas a coisas que geralmente são consideradas ruins pelas pessoas.\n",
    "No cluster 1, as palavras estão relacionadas a esportes e lazer.\n",
    "No cluster 3, as palavras se relacionam ao mundo automobilístico e de transportes.\n",
    "Sendo assim, este agrupamento faz sentido."
   ]
  },
  {
   "cell_type": "markdown",
   "metadata": {},
   "source": [
    "# Exercício 4"
   ]
  },
  {
   "cell_type": "markdown",
   "metadata": {},
   "source": [
    "Utilizaremos agora o método de agrupamento hierárquico para agrupar os dados.\n",
    "Para isso, precisamos excluir a coluna 'Rótulo',criada anteriormente, de nossa base de dados."
   ]
  },
  {
   "cell_type": "code",
   "execution_count": 37,
   "metadata": {},
   "outputs": [
    {
     "data": {
      "text/html": [
       "<div>\n",
       "<style scoped>\n",
       "    .dataframe tbody tr th:only-of-type {\n",
       "        vertical-align: middle;\n",
       "    }\n",
       "\n",
       "    .dataframe tbody tr th {\n",
       "        vertical-align: top;\n",
       "    }\n",
       "\n",
       "    .dataframe thead th {\n",
       "        text-align: right;\n",
       "    }\n",
       "</style>\n",
       "<table border=\"1\" class=\"dataframe\">\n",
       "  <thead>\n",
       "    <tr style=\"text-align: right;\">\n",
       "      <th></th>\n",
       "      <th>1</th>\n",
       "      <th>2</th>\n",
       "      <th>3</th>\n",
       "      <th>4</th>\n",
       "      <th>5</th>\n",
       "      <th>6</th>\n",
       "      <th>7</th>\n",
       "      <th>8</th>\n",
       "      <th>9</th>\n",
       "      <th>10</th>\n",
       "      <th>...</th>\n",
       "      <th>291</th>\n",
       "      <th>292</th>\n",
       "      <th>293</th>\n",
       "      <th>294</th>\n",
       "      <th>295</th>\n",
       "      <th>296</th>\n",
       "      <th>297</th>\n",
       "      <th>298</th>\n",
       "      <th>299</th>\n",
       "      <th>300</th>\n",
       "    </tr>\n",
       "    <tr>\n",
       "      <th>0</th>\n",
       "      <th></th>\n",
       "      <th></th>\n",
       "      <th></th>\n",
       "      <th></th>\n",
       "      <th></th>\n",
       "      <th></th>\n",
       "      <th></th>\n",
       "      <th></th>\n",
       "      <th></th>\n",
       "      <th></th>\n",
       "      <th></th>\n",
       "      <th></th>\n",
       "      <th></th>\n",
       "      <th></th>\n",
       "      <th></th>\n",
       "      <th></th>\n",
       "      <th></th>\n",
       "      <th></th>\n",
       "      <th></th>\n",
       "      <th></th>\n",
       "      <th></th>\n",
       "    </tr>\n",
       "  </thead>\n",
       "  <tbody>\n",
       "    <tr>\n",
       "      <th>car</th>\n",
       "      <td>0.130859</td>\n",
       "      <td>0.008423</td>\n",
       "      <td>0.033447</td>\n",
       "      <td>-0.058838</td>\n",
       "      <td>0.040039</td>\n",
       "      <td>-0.142578</td>\n",
       "      <td>0.049316</td>\n",
       "      <td>-0.168945</td>\n",
       "      <td>0.208984</td>\n",
       "      <td>0.119629</td>\n",
       "      <td>...</td>\n",
       "      <td>-0.275391</td>\n",
       "      <td>0.285156</td>\n",
       "      <td>-0.047363</td>\n",
       "      <td>0.064941</td>\n",
       "      <td>-0.112305</td>\n",
       "      <td>-0.025757</td>\n",
       "      <td>-0.041260</td>\n",
       "      <td>0.228516</td>\n",
       "      <td>-0.149414</td>\n",
       "      <td>-0.150391</td>\n",
       "    </tr>\n",
       "    <tr>\n",
       "      <th>bus</th>\n",
       "      <td>0.059326</td>\n",
       "      <td>-0.169922</td>\n",
       "      <td>0.038818</td>\n",
       "      <td>-0.049561</td>\n",
       "      <td>0.038330</td>\n",
       "      <td>-0.153320</td>\n",
       "      <td>-0.166016</td>\n",
       "      <td>-0.443359</td>\n",
       "      <td>0.239258</td>\n",
       "      <td>0.011780</td>\n",
       "      <td>...</td>\n",
       "      <td>-0.011108</td>\n",
       "      <td>0.079590</td>\n",
       "      <td>0.130859</td>\n",
       "      <td>-0.211914</td>\n",
       "      <td>0.073730</td>\n",
       "      <td>0.081055</td>\n",
       "      <td>-0.158203</td>\n",
       "      <td>0.474609</td>\n",
       "      <td>0.059814</td>\n",
       "      <td>-0.244141</td>\n",
       "    </tr>\n",
       "    <tr>\n",
       "      <th>drive</th>\n",
       "      <td>-0.025879</td>\n",
       "      <td>0.097656</td>\n",
       "      <td>0.008972</td>\n",
       "      <td>-0.097656</td>\n",
       "      <td>-0.122070</td>\n",
       "      <td>-0.103516</td>\n",
       "      <td>0.030762</td>\n",
       "      <td>-0.167969</td>\n",
       "      <td>-0.006622</td>\n",
       "      <td>0.287109</td>\n",
       "      <td>...</td>\n",
       "      <td>-0.011780</td>\n",
       "      <td>0.380859</td>\n",
       "      <td>-0.181641</td>\n",
       "      <td>0.257812</td>\n",
       "      <td>0.113281</td>\n",
       "      <td>-0.069336</td>\n",
       "      <td>-0.016479</td>\n",
       "      <td>-0.025635</td>\n",
       "      <td>-0.076172</td>\n",
       "      <td>-0.127930</td>\n",
       "    </tr>\n",
       "    <tr>\n",
       "      <th>road</th>\n",
       "      <td>0.111816</td>\n",
       "      <td>0.263672</td>\n",
       "      <td>0.085938</td>\n",
       "      <td>-0.083984</td>\n",
       "      <td>0.146484</td>\n",
       "      <td>-0.031738</td>\n",
       "      <td>-0.194336</td>\n",
       "      <td>-0.261719</td>\n",
       "      <td>-0.000030</td>\n",
       "      <td>0.177734</td>\n",
       "      <td>...</td>\n",
       "      <td>-0.050781</td>\n",
       "      <td>0.035156</td>\n",
       "      <td>-0.292969</td>\n",
       "      <td>0.000927</td>\n",
       "      <td>0.032227</td>\n",
       "      <td>-0.038818</td>\n",
       "      <td>-0.110840</td>\n",
       "      <td>-0.067383</td>\n",
       "      <td>0.230469</td>\n",
       "      <td>-0.231445</td>\n",
       "    </tr>\n",
       "    <tr>\n",
       "      <th>devil</th>\n",
       "      <td>0.287109</td>\n",
       "      <td>-0.186523</td>\n",
       "      <td>0.161133</td>\n",
       "      <td>0.182617</td>\n",
       "      <td>-0.174805</td>\n",
       "      <td>0.367188</td>\n",
       "      <td>-0.018677</td>\n",
       "      <td>-0.026978</td>\n",
       "      <td>0.125977</td>\n",
       "      <td>0.233398</td>\n",
       "      <td>...</td>\n",
       "      <td>-0.005371</td>\n",
       "      <td>-0.064941</td>\n",
       "      <td>-0.093262</td>\n",
       "      <td>-0.104980</td>\n",
       "      <td>-0.414062</td>\n",
       "      <td>0.026123</td>\n",
       "      <td>0.337891</td>\n",
       "      <td>-0.033203</td>\n",
       "      <td>-0.195312</td>\n",
       "      <td>0.028687</td>\n",
       "    </tr>\n",
       "  </tbody>\n",
       "</table>\n",
       "<p>5 rows × 300 columns</p>\n",
       "</div>"
      ],
      "text/plain": [
       "            1         2         3         4         5         6         7    \\\n",
       "0                                                                             \n",
       "car    0.130859  0.008423  0.033447 -0.058838  0.040039 -0.142578  0.049316   \n",
       "bus    0.059326 -0.169922  0.038818 -0.049561  0.038330 -0.153320 -0.166016   \n",
       "drive -0.025879  0.097656  0.008972 -0.097656 -0.122070 -0.103516  0.030762   \n",
       "road   0.111816  0.263672  0.085938 -0.083984  0.146484 -0.031738 -0.194336   \n",
       "devil  0.287109 -0.186523  0.161133  0.182617 -0.174805  0.367188 -0.018677   \n",
       "\n",
       "            8         9         10     ...          291       292       293  \\\n",
       "0                                      ...                                    \n",
       "car   -0.168945  0.208984  0.119629    ...    -0.275391  0.285156 -0.047363   \n",
       "bus   -0.443359  0.239258  0.011780    ...    -0.011108  0.079590  0.130859   \n",
       "drive -0.167969 -0.006622  0.287109    ...    -0.011780  0.380859 -0.181641   \n",
       "road  -0.261719 -0.000030  0.177734    ...    -0.050781  0.035156 -0.292969   \n",
       "devil -0.026978  0.125977  0.233398    ...    -0.005371 -0.064941 -0.093262   \n",
       "\n",
       "            294       295       296       297       298       299       300  \n",
       "0                                                                            \n",
       "car    0.064941 -0.112305 -0.025757 -0.041260  0.228516 -0.149414 -0.150391  \n",
       "bus   -0.211914  0.073730  0.081055 -0.158203  0.474609  0.059814 -0.244141  \n",
       "drive  0.257812  0.113281 -0.069336 -0.016479 -0.025635 -0.076172 -0.127930  \n",
       "road   0.000927  0.032227 -0.038818 -0.110840 -0.067383  0.230469 -0.231445  \n",
       "devil -0.104980 -0.414062  0.026123  0.337891 -0.033203 -0.195312  0.028687  \n",
       "\n",
       "[5 rows x 300 columns]"
      ]
     },
     "execution_count": 37,
     "metadata": {},
     "output_type": "execute_result"
    }
   ],
   "source": [
    "data = data.drop('Rótulo', axis = 1)\n",
    "data.head()"
   ]
  },
  {
   "cell_type": "markdown",
   "metadata": {},
   "source": [
    "A seguir, realizamos o agrupamento via clusterização hirárquica, através de ligações completas:"
   ]
  },
  {
   "cell_type": "code",
   "execution_count": 38,
   "metadata": {},
   "outputs": [],
   "source": [
    "from scipy.cluster.hierarchy import linkage"
   ]
  },
  {
   "cell_type": "code",
   "execution_count": 76,
   "metadata": {},
   "outputs": [],
   "source": [
    "hierarchy = linkage(data, method = 'single')"
   ]
  },
  {
   "cell_type": "markdown",
   "metadata": {},
   "source": [
    "# Exercício 5"
   ]
  },
  {
   "cell_type": "markdown",
   "metadata": {},
   "source": [
    "O código a seguir constrói e nos mostra o dendograma resultante:"
   ]
  },
  {
   "cell_type": "code",
   "execution_count": 41,
   "metadata": {},
   "outputs": [],
   "source": [
    "from scipy.cluster.hierarchy import dendrogram"
   ]
  },
  {
   "cell_type": "code",
   "execution_count": 77,
   "metadata": {},
   "outputs": [
    {
     "data": {
      "image/png": "[encoded data removed]",
      "text/plain": [
       "<Figure size 1800x720 with 1 Axes>"
      ]
     },
     "metadata": {
      "needs_background": "light"
     },
     "output_type": "display_data"
    }
   ],
   "source": [
    "fig = plt.figure(figsize=(25, 10))\n",
    "dn = dendrogram(hierarchy, labels = data.index, color_threshold = 3.085)\n",
    "plt.show()"
   ]
  },
  {
   "cell_type": "markdown",
   "metadata": {},
   "source": [
    "Considerando 3 grupos, vemos que o grupo em azul possui palavras utilizadas em contexto parecido como 'dead' e 'dark', porém apresenta algumas 'intrusas' como 'rugby',\n",
    "\n",
    "O grupo em verde possui palavras relacionadas ao mundo dos automóveis, mas a palavra 'game' parece estar fora de contexto.\n",
    "\n",
    "No grupo em vermelho, as palavras possuem contexto esportivo, não havendo palavras fora de suas características."
   ]
  }
 ],
 "metadata": {
  "kernelspec": {
   "display_name": "Python 3",
   "language": "python",
   "name": "python3"
  },
  "language_info": {
   "codemirror_mode": {
    "name": "ipython",
    "version": 3
   },
   "file_extension": ".py",
   "mimetype": "text/x-python",
   "name": "python",
   "nbconvert_exporter": "python",
   "pygments_lexer": "ipython3",
   "version": "3.7.0"
  }
 },
 "nbformat": 4,
 "nbformat_minor": 2
}
